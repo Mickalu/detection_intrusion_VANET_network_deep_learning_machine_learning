{
 "metadata": {
  "language_info": {
   "codemirror_mode": {
    "name": "ipython",
    "version": 3
   },
   "file_extension": ".py",
   "mimetype": "text/x-python",
   "name": "python",
   "nbconvert_exporter": "python",
   "pygments_lexer": "ipython3",
   "version": "3.7.6-final"
  },
  "orig_nbformat": 2,
  "kernelspec": {
   "name": "python3",
   "display_name": "Python 3",
   "language": "python"
  }
 },
 "nbformat": 4,
 "nbformat_minor": 2,
 "cells": [
  {
   "cell_type": "code",
   "execution_count": 34,
   "metadata": {},
   "outputs": [
    {
     "output_type": "stream",
     "name": "stdout",
     "text": [
      "X size : (15969, 24, 1)\ny size : (15969, 1)\n"
     ]
    }
   ],
   "source": [
    "from os import listdir\n",
    "from os.path import isfile, join\n",
    "import pandas as pd\n",
    "\n",
    "liste_data = []\n",
    "PATH_DIR_DATA = \"D:/School/cours_5eme/projet/database/Kyoto2016/2015/malware_detection/csv/\"\n",
    "\n",
    "data_folder_csv = [f for f in listdir(PATH_DIR_DATA) if isfile(join(PATH_DIR_DATA, f))]\n",
    "for file in data_folder_csv:\n",
    "    df = pd.read_csv(PATH_DIR_DATA + file)\n",
    "    liste_data.append(df)\n",
    "\n",
    "df_result = pd.concat(liste_data)\n",
    "df_result\n",
    "\n",
    "\n",
    "import numpy as np\n",
    "\n",
    "X = df_result.drop(['malware_detection'], axis = 1)\n",
    "y = df_result[['malware_detection']]\n",
    "\n",
    "X=X.values.reshape((X.values.shape[0], X.values.shape[1], 1))\n",
    "print(\"X size :\", np.shape(X))\n",
    "print(\"y size :\", np.shape(y))\n",
    "\n",
    "\n",
    "from sklearn.model_selection import train_test_split\n",
    "X_train, X_test, y_train, y_test = train_test_split(X, y, test_size = 0.2, random_state = 42)"
   ]
  },
  {
   "cell_type": "code",
   "execution_count": 35,
   "metadata": {},
   "outputs": [
    {
     "output_type": "execute_result",
     "data": {
      "text/plain": [
       "Index(['Unnamed: 0', 'Unnamed: 0.1', 'duration_connection', 'service',\n",
       "       'source_bytes', 'destination_bytes', 'count', 'same_srv_rate',\n",
       "       'serror_rate', 'srv_serror_rate', 'dst_host_count',\n",
       "       'dst_host_srv_count', 'dst_host_same_src_port_rate',\n",
       "       'dst_host_serror_rate', 'dst_host_srv_serror_rate', 'flag',\n",
       "       'IDS_detection', 'malware_detection', 'ashula_detection', 'label',\n",
       "       'source_IP_address', 'source_port_number', 'destination_IP_address',\n",
       "       'destination_port_number', 'duration'],\n",
       "      dtype='object')"
      ]
     },
     "metadata": {},
     "execution_count": 35
    }
   ],
   "source": [
    "df_result.columns"
   ]
  },
  {
   "cell_type": "code",
   "execution_count": 36,
   "metadata": {},
   "outputs": [],
   "source": [
    "from sklearn.model_selection import train_test_split\n",
    "X_train, X_test, y_train, y_test = train_test_split(X, y, test_size = 0.2, random_state = 42)"
   ]
  },
  {
   "cell_type": "code",
   "execution_count": 37,
   "metadata": {},
   "outputs": [
    {
     "output_type": "stream",
     "name": "stdout",
     "text": [
      "Epoch 1/5\n",
      "400/400 [==============================] - 6s 15ms/step - loss: -354.6895 - accuracy: 0.1208 - val_loss: -359.5340 - val_accuracy: 0.1268\n",
      "Epoch 2/5\n",
      "400/400 [==============================] - 6s 14ms/step - loss: -359.6420 - accuracy: 0.1208 - val_loss: -360.2006 - val_accuracy: 0.1268\n",
      "Epoch 3/5\n",
      "400/400 [==============================] - 6s 14ms/step - loss: -359.8424 - accuracy: 0.1208 - val_loss: -360.2274 - val_accuracy: 0.1268\n",
      "Epoch 4/5\n",
      "400/400 [==============================] - 5s 13ms/step - loss: -359.8507 - accuracy: 0.1208 - val_loss: -360.2286 - val_accuracy: 0.1268\n",
      "Epoch 5/5\n",
      "400/400 [==============================] - 5s 13ms/step - loss: -359.8511 - accuracy: 0.1208 - val_loss: -360.2286 - val_accuracy: 0.1268\n"
     ]
    }
   ],
   "source": [
    "from keras.models import Sequential\n",
    "from keras.layers import Dense\n",
    "import numpy as np\n",
    "\n",
    "import keras.backend as K\n",
    "from keras.models import Sequential\n",
    "from keras.layers import Dense, LSTM, GRU\n",
    "from keras.layers import Dropout\n",
    "from keras.layers import BatchNormalization\n",
    "from tensorflow.keras.regularizers import l2\n",
    "\n",
    "model=Sequential()\n",
    "\n",
    "model.add(LSTM(64, return_sequences=True, kernel_regularizer=l2(0.2), input_shape=(24,1), activation='relu'))\n",
    "model.add(LSTM(32, activation='relu', kernel_regularizer=l2(0.2)))\n",
    "model.add(Dense(1, activation='softmax'))\n",
    "\n",
    "model.compile(loss='binary_crossentropy', optimizer='sgd', metrics=['accuracy'])\n",
    "\n",
    "\n",
    "# train the model \n",
    "h = model.fit(X_train, y_train,validation_data = (X_test, y_test), epochs=5)"
   ]
  },
  {
   "cell_type": "code",
   "execution_count": 50,
   "metadata": {},
   "outputs": [],
   "source": [
    "X = df_result.drop(['malware_detection'], axis = 1)\n",
    "y = df_result[['malware_detection']]\n",
    "X=X.values.reshape((X.values.shape[0], X.values.shape[1], 1))\n",
    "from sklearn.model_selection import train_test_split\n",
    "X_train, X_test, y_train, y_test = train_test_split(X, y, test_size = 0.2, random_state = 42)"
   ]
  },
  {
   "cell_type": "code",
   "execution_count": 51,
   "metadata": {},
   "outputs": [
    {
     "output_type": "execute_result",
     "data": {
      "text/plain": [
       "     malware_detection\n",
       "87                  23\n",
       "226                 33\n",
       "87                  30\n",
       "211                 26\n",
       "54                  16\n",
       "..                 ...\n",
       "124                 19\n",
       "139                 12\n",
       "21                  10\n",
       "10                  12\n",
       "8                   15\n",
       "\n",
       "[12775 rows x 1 columns]"
      ],
      "text/html": "<div>\n<style scoped>\n    .dataframe tbody tr th:only-of-type {\n        vertical-align: middle;\n    }\n\n    .dataframe tbody tr th {\n        vertical-align: top;\n    }\n\n    .dataframe thead th {\n        text-align: right;\n    }\n</style>\n<table border=\"1\" class=\"dataframe\">\n  <thead>\n    <tr style=\"text-align: right;\">\n      <th></th>\n      <th>malware_detection</th>\n    </tr>\n  </thead>\n  <tbody>\n    <tr>\n      <th>87</th>\n      <td>23</td>\n    </tr>\n    <tr>\n      <th>226</th>\n      <td>33</td>\n    </tr>\n    <tr>\n      <th>87</th>\n      <td>30</td>\n    </tr>\n    <tr>\n      <th>211</th>\n      <td>26</td>\n    </tr>\n    <tr>\n      <th>54</th>\n      <td>16</td>\n    </tr>\n    <tr>\n      <th>...</th>\n      <td>...</td>\n    </tr>\n    <tr>\n      <th>124</th>\n      <td>19</td>\n    </tr>\n    <tr>\n      <th>139</th>\n      <td>12</td>\n    </tr>\n    <tr>\n      <th>21</th>\n      <td>10</td>\n    </tr>\n    <tr>\n      <th>10</th>\n      <td>12</td>\n    </tr>\n    <tr>\n      <th>8</th>\n      <td>15</td>\n    </tr>\n  </tbody>\n</table>\n<p>12775 rows × 1 columns</p>\n</div>"
     },
     "metadata": {},
     "execution_count": 51
    }
   ],
   "source": [
    "y_train"
   ]
  },
  {
   "cell_type": "code",
   "execution_count": 53,
   "metadata": {
    "tags": []
   },
   "outputs": [
    {
     "output_type": "stream",
     "name": "stdout",
     "text": [
      "Epoch 1/5\n",
      "400/400 [==============================] - 3s 8ms/step - loss: nan - accuracy: 0.0705 - val_loss: nan - val_accuracy: 0.0000e+00\n",
      "Epoch 2/5\n",
      "400/400 [==============================] - 3s 7ms/step - loss: nan - accuracy: 0.0000e+00 - val_loss: nan - val_accuracy: 0.0000e+00\n",
      "Epoch 3/5\n",
      "400/400 [==============================] - 3s 7ms/step - loss: nan - accuracy: 0.0000e+00 - val_loss: nan - val_accuracy: 0.0000e+00\n",
      "Epoch 4/5\n",
      "400/400 [==============================] - 3s 8ms/step - loss: nan - accuracy: 0.0000e+00 - val_loss: nan - val_accuracy: 0.0000e+00\n",
      "Epoch 5/5\n",
      "400/400 [==============================] - 3s 7ms/step - loss: nan - accuracy: 0.0000e+00 - val_loss: nan - val_accuracy: 0.0000e+00\n"
     ]
    },
    {
     "output_type": "execute_result",
     "data": {
      "text/plain": [
       "<tensorflow.python.keras.callbacks.History at 0x22210a60608>"
      ]
     },
     "metadata": {},
     "execution_count": 53
    }
   ],
   "source": [
    "from keras.layers import Dense, LSTM, GRU\n",
    "model_ann = Sequential()\n",
    "model_ann.add(GRU(64, input_shape = (24,1), activation='relu'))\n",
    "model_ann.add(Dropout(0.2))\n",
    "model_ann.add(Dense(1, activation='softmax'))\n",
    "\n",
    "model_ann.compile(loss = 'categorical_crossentropy', optimizer='adam', metrics = ['accuracy'])\n",
    "model_ann.fit(X_train, y_train,validation_data = (X_test, y_test), epochs=5)"
   ]
  },
  {
   "cell_type": "code",
   "execution_count": null,
   "metadata": {},
   "outputs": [],
   "source": []
  },
  {
   "cell_type": "code",
   "execution_count": null,
   "metadata": {},
   "outputs": [],
   "source": []
  },
  {
   "cell_type": "code",
   "execution_count": null,
   "metadata": {},
   "outputs": [],
   "source": []
  },
  {
   "cell_type": "code",
   "execution_count": null,
   "metadata": {},
   "outputs": [],
   "source": []
  }
 ]
}