{
 "metadata": {
  "language_info": {
   "codemirror_mode": {
    "name": "ipython",
    "version": 3
   },
   "file_extension": ".py",
   "mimetype": "text/x-python",
   "name": "python",
   "nbconvert_exporter": "python",
   "pygments_lexer": "ipython3",
   "version": "3.7.6-final"
  },
  "orig_nbformat": 2,
  "kernelspec": {
   "name": "python3",
   "display_name": "Python 3",
   "language": "python"
  }
 },
 "nbformat": 4,
 "nbformat_minor": 2,
 "cells": [
  {
   "cell_type": "code",
   "execution_count": 7,
   "metadata": {},
   "outputs": [
    {
     "output_type": "execute_result",
     "data": {
      "text/plain": [
       "     Unnamed: 0  Unnamed: 0.1  duration_connection  service  source_bytes  \\\n",
       "0          2644          2644             3.284736        1           186   \n",
       "1          3234          3234             1.889169        1           183   \n",
       "2          3793          3793           179.987471        1           187   \n",
       "3          3809          3809           180.747956        1           187   \n",
       "4          4229          4229           180.050570        1           181   \n",
       "..          ...           ...                  ...      ...           ...   \n",
       "179      257956        257956            73.775293        2           182   \n",
       "180      259094        259094             4.723679        2           185   \n",
       "181      259960        259960           152.991000        2           182   \n",
       "182      265449        265449            43.152858        2           183   \n",
       "183      266578        266578             5.254181        2           185   \n",
       "\n",
       "     destination_bytes  count  same_srv_rate  serror_rate  srv_serror_rate  \\\n",
       "0               164280      0            0.0          0.0              0.0   \n",
       "1               166638      0            0.0          0.0              0.0   \n",
       "2               168118      0            0.0          0.0              0.0   \n",
       "3               168118      0            0.0          0.0              0.0   \n",
       "4               167851      0            0.0          0.0              0.0   \n",
       "..                 ...    ...            ...          ...              ...   \n",
       "179             161698      0            0.0          0.0              0.0   \n",
       "180             162220      0            0.0          0.0              0.0   \n",
       "181              74967      0            0.0          0.0              0.0   \n",
       "182            2194467      0            0.0          0.0              0.0   \n",
       "183             160985      0            0.0          0.0              0.0   \n",
       "\n",
       "     ...  flag  IDS_detection  malware_detection  ashula_detection  label  \\\n",
       "0    ...     9              0                 22                 0     -1   \n",
       "1    ...     9              0                  2                 0     -1   \n",
       "2    ...     2              0                 28                 0     -1   \n",
       "3    ...     8              0                 28                 0     -1   \n",
       "4    ...     2              0                 24                 0     -1   \n",
       "..   ...   ...            ...                ...               ...    ...   \n",
       "179  ...     2              0                 14                 0     -1   \n",
       "180  ...    10              0                  1                 0     -1   \n",
       "181  ...     2              0                 48                 0     -1   \n",
       "182  ...    10             11                 26                 0     -1   \n",
       "183  ...    10              0                 12                 0     -1   \n",
       "\n",
       "     source_IP_address  source_port_number  destination_IP_address  \\\n",
       "0                  355                3568                     978   \n",
       "1                  355                3570                     853   \n",
       "2                  355                3572                     113   \n",
       "3                14114                4393                     113   \n",
       "4                14114                4395                    1030   \n",
       "..                 ...                 ...                     ...   \n",
       "179               3160                4261                    1092   \n",
       "180              12958                3134                     114   \n",
       "181              12958                3136                     926   \n",
       "182               3160                4277                     405   \n",
       "183              12958                3144                    1218   \n",
       "\n",
       "     destination_port_number  duration  \n",
       "0                       4661         1  \n",
       "1                       7639         1  \n",
       "2                       8276         1  \n",
       "3                       8276         1  \n",
       "4                       3518         1  \n",
       "..                       ...       ...  \n",
       "179                     5865         1  \n",
       "180                     5019         1  \n",
       "181                     6733         1  \n",
       "182                     2907         1  \n",
       "183                     2984         1  \n",
       "\n",
       "[15969 rows x 25 columns]"
      ],
      "text/html": "<div>\n<style scoped>\n    .dataframe tbody tr th:only-of-type {\n        vertical-align: middle;\n    }\n\n    .dataframe tbody tr th {\n        vertical-align: top;\n    }\n\n    .dataframe thead th {\n        text-align: right;\n    }\n</style>\n<table border=\"1\" class=\"dataframe\">\n  <thead>\n    <tr style=\"text-align: right;\">\n      <th></th>\n      <th>Unnamed: 0</th>\n      <th>Unnamed: 0.1</th>\n      <th>duration_connection</th>\n      <th>service</th>\n      <th>source_bytes</th>\n      <th>destination_bytes</th>\n      <th>count</th>\n      <th>same_srv_rate</th>\n      <th>serror_rate</th>\n      <th>srv_serror_rate</th>\n      <th>...</th>\n      <th>flag</th>\n      <th>IDS_detection</th>\n      <th>malware_detection</th>\n      <th>ashula_detection</th>\n      <th>label</th>\n      <th>source_IP_address</th>\n      <th>source_port_number</th>\n      <th>destination_IP_address</th>\n      <th>destination_port_number</th>\n      <th>duration</th>\n    </tr>\n  </thead>\n  <tbody>\n    <tr>\n      <th>0</th>\n      <td>2644</td>\n      <td>2644</td>\n      <td>3.284736</td>\n      <td>1</td>\n      <td>186</td>\n      <td>164280</td>\n      <td>0</td>\n      <td>0.0</td>\n      <td>0.0</td>\n      <td>0.0</td>\n      <td>...</td>\n      <td>9</td>\n      <td>0</td>\n      <td>22</td>\n      <td>0</td>\n      <td>-1</td>\n      <td>355</td>\n      <td>3568</td>\n      <td>978</td>\n      <td>4661</td>\n      <td>1</td>\n    </tr>\n    <tr>\n      <th>1</th>\n      <td>3234</td>\n      <td>3234</td>\n      <td>1.889169</td>\n      <td>1</td>\n      <td>183</td>\n      <td>166638</td>\n      <td>0</td>\n      <td>0.0</td>\n      <td>0.0</td>\n      <td>0.0</td>\n      <td>...</td>\n      <td>9</td>\n      <td>0</td>\n      <td>2</td>\n      <td>0</td>\n      <td>-1</td>\n      <td>355</td>\n      <td>3570</td>\n      <td>853</td>\n      <td>7639</td>\n      <td>1</td>\n    </tr>\n    <tr>\n      <th>2</th>\n      <td>3793</td>\n      <td>3793</td>\n      <td>179.987471</td>\n      <td>1</td>\n      <td>187</td>\n      <td>168118</td>\n      <td>0</td>\n      <td>0.0</td>\n      <td>0.0</td>\n      <td>0.0</td>\n      <td>...</td>\n      <td>2</td>\n      <td>0</td>\n      <td>28</td>\n      <td>0</td>\n      <td>-1</td>\n      <td>355</td>\n      <td>3572</td>\n      <td>113</td>\n      <td>8276</td>\n      <td>1</td>\n    </tr>\n    <tr>\n      <th>3</th>\n      <td>3809</td>\n      <td>3809</td>\n      <td>180.747956</td>\n      <td>1</td>\n      <td>187</td>\n      <td>168118</td>\n      <td>0</td>\n      <td>0.0</td>\n      <td>0.0</td>\n      <td>0.0</td>\n      <td>...</td>\n      <td>8</td>\n      <td>0</td>\n      <td>28</td>\n      <td>0</td>\n      <td>-1</td>\n      <td>14114</td>\n      <td>4393</td>\n      <td>113</td>\n      <td>8276</td>\n      <td>1</td>\n    </tr>\n    <tr>\n      <th>4</th>\n      <td>4229</td>\n      <td>4229</td>\n      <td>180.050570</td>\n      <td>1</td>\n      <td>181</td>\n      <td>167851</td>\n      <td>0</td>\n      <td>0.0</td>\n      <td>0.0</td>\n      <td>0.0</td>\n      <td>...</td>\n      <td>2</td>\n      <td>0</td>\n      <td>24</td>\n      <td>0</td>\n      <td>-1</td>\n      <td>14114</td>\n      <td>4395</td>\n      <td>1030</td>\n      <td>3518</td>\n      <td>1</td>\n    </tr>\n    <tr>\n      <th>...</th>\n      <td>...</td>\n      <td>...</td>\n      <td>...</td>\n      <td>...</td>\n      <td>...</td>\n      <td>...</td>\n      <td>...</td>\n      <td>...</td>\n      <td>...</td>\n      <td>...</td>\n      <td>...</td>\n      <td>...</td>\n      <td>...</td>\n      <td>...</td>\n      <td>...</td>\n      <td>...</td>\n      <td>...</td>\n      <td>...</td>\n      <td>...</td>\n      <td>...</td>\n      <td>...</td>\n    </tr>\n    <tr>\n      <th>179</th>\n      <td>257956</td>\n      <td>257956</td>\n      <td>73.775293</td>\n      <td>2</td>\n      <td>182</td>\n      <td>161698</td>\n      <td>0</td>\n      <td>0.0</td>\n      <td>0.0</td>\n      <td>0.0</td>\n      <td>...</td>\n      <td>2</td>\n      <td>0</td>\n      <td>14</td>\n      <td>0</td>\n      <td>-1</td>\n      <td>3160</td>\n      <td>4261</td>\n      <td>1092</td>\n      <td>5865</td>\n      <td>1</td>\n    </tr>\n    <tr>\n      <th>180</th>\n      <td>259094</td>\n      <td>259094</td>\n      <td>4.723679</td>\n      <td>2</td>\n      <td>185</td>\n      <td>162220</td>\n      <td>0</td>\n      <td>0.0</td>\n      <td>0.0</td>\n      <td>0.0</td>\n      <td>...</td>\n      <td>10</td>\n      <td>0</td>\n      <td>1</td>\n      <td>0</td>\n      <td>-1</td>\n      <td>12958</td>\n      <td>3134</td>\n      <td>114</td>\n      <td>5019</td>\n      <td>1</td>\n    </tr>\n    <tr>\n      <th>181</th>\n      <td>259960</td>\n      <td>259960</td>\n      <td>152.991000</td>\n      <td>2</td>\n      <td>182</td>\n      <td>74967</td>\n      <td>0</td>\n      <td>0.0</td>\n      <td>0.0</td>\n      <td>0.0</td>\n      <td>...</td>\n      <td>2</td>\n      <td>0</td>\n      <td>48</td>\n      <td>0</td>\n      <td>-1</td>\n      <td>12958</td>\n      <td>3136</td>\n      <td>926</td>\n      <td>6733</td>\n      <td>1</td>\n    </tr>\n    <tr>\n      <th>182</th>\n      <td>265449</td>\n      <td>265449</td>\n      <td>43.152858</td>\n      <td>2</td>\n      <td>183</td>\n      <td>2194467</td>\n      <td>0</td>\n      <td>0.0</td>\n      <td>0.0</td>\n      <td>0.0</td>\n      <td>...</td>\n      <td>10</td>\n      <td>11</td>\n      <td>26</td>\n      <td>0</td>\n      <td>-1</td>\n      <td>3160</td>\n      <td>4277</td>\n      <td>405</td>\n      <td>2907</td>\n      <td>1</td>\n    </tr>\n    <tr>\n      <th>183</th>\n      <td>266578</td>\n      <td>266578</td>\n      <td>5.254181</td>\n      <td>2</td>\n      <td>185</td>\n      <td>160985</td>\n      <td>0</td>\n      <td>0.0</td>\n      <td>0.0</td>\n      <td>0.0</td>\n      <td>...</td>\n      <td>10</td>\n      <td>0</td>\n      <td>12</td>\n      <td>0</td>\n      <td>-1</td>\n      <td>12958</td>\n      <td>3144</td>\n      <td>1218</td>\n      <td>2984</td>\n      <td>1</td>\n    </tr>\n  </tbody>\n</table>\n<p>15969 rows × 25 columns</p>\n</div>"
     },
     "metadata": {},
     "execution_count": 7
    }
   ],
   "source": [
    "from os import listdir\n",
    "from os.path import isfile, join\n",
    "import pandas as pd\n",
    "\n",
    "liste_data = []\n",
    "PATH_DIR_DATA = \"D:/School/cours_5eme/projet/database/Kyoto2016/2015/malware_detection/csv/\"\n",
    "\n",
    "data_folder_csv = [f for f in listdir(PATH_DIR_DATA) if isfile(join(PATH_DIR_DATA, f))]\n",
    "for file in data_folder_csv:\n",
    "    df = pd.read_csv(PATH_DIR_DATA + file)\n",
    "    liste_data.append(df)\n",
    "\n",
    "df_result = pd.concat(liste_data)\n",
    "df_result\n",
    "\n",
    "\n",
    "import numpy as np\n",
    "\n",
    "X = df_result.drop(['malware_detection'], axis = 1)\n",
    "y = df_result[['malware_detection']]\n",
    "\n",
    "X=X.values.reshape((X.values.shape[0], X.values.shape[1], 1))\n",
    "print(\"X size :\", np.shape(X))\n",
    "print(\"y size :\", np.shape(y))\n",
    "\n",
    "\n",
    "from sklearn.model_selection import train_test_split\n",
    "X_train, X_test, y_train, y_test = train_test_split(X, y, test_size = 0.2, random_state = 42)"
   ]
  },
  {
   "cell_type": "code",
   "execution_count": 8,
   "metadata": {},
   "outputs": [
    {
     "output_type": "execute_result",
     "data": {
      "text/plain": [
       "Index(['Unnamed: 0', 'Unnamed: 0.1', 'duration_connection', 'service',\n",
       "       'source_bytes', 'destination_bytes', 'count', 'same_srv_rate',\n",
       "       'serror_rate', 'srv_serror_rate', 'dst_host_count',\n",
       "       'dst_host_srv_count', 'dst_host_same_src_port_rate',\n",
       "       'dst_host_serror_rate', 'dst_host_srv_serror_rate', 'flag',\n",
       "       'IDS_detection', 'malware_detection', 'ashula_detection', 'label',\n",
       "       'source_IP_address', 'source_port_number', 'destination_IP_address',\n",
       "       'destination_port_number', 'duration'],\n",
       "      dtype='object')"
      ]
     },
     "metadata": {},
     "execution_count": 8
    }
   ],
   "source": [
    "df_result.columns"
   ]
  },
  {
   "cell_type": "code",
   "execution_count": 12,
   "metadata": {},
   "outputs": [],
   "source": [
    "from sklearn.model_selection import train_test_split\n",
    "X_train, X_test, y_train, y_test = train_test_split(X, y, test_size = 0.2, random_state = 42)"
   ]
  },
  {
   "cell_type": "code",
   "execution_count": 14,
   "metadata": {},
   "outputs": [
    {
     "output_type": "stream",
     "name": "stdout",
     "text": [
      "Epoch 1/5\n",
      "400/400 [==============================] - 5s 13ms/step - loss: -354.5928 - accuracy: 0.1208 - val_loss: -359.5210 - val_accuracy: 0.1268\n",
      "Epoch 2/5\n",
      "400/400 [==============================] - 5s 13ms/step - loss: -359.6382 - accuracy: 0.1208 - val_loss: -360.2000 - val_accuracy: 0.1268\n",
      "Epoch 3/5\n",
      "400/400 [==============================] - 7s 17ms/step - loss: -359.8422 - accuracy: 0.1208 - val_loss: -360.2274 - val_accuracy: 0.1268\n",
      "Epoch 4/5\n",
      "400/400 [==============================] - 5s 13ms/step - loss: -359.8505 - accuracy: 0.1208 - val_loss: -360.2286 - val_accuracy: 0.1268\n",
      "Epoch 5/5\n",
      "400/400 [==============================] - 6s 15ms/step - loss: -359.8510 - accuracy: 0.1208 - val_loss: -360.2286 - val_accuracy: 0.1268\n"
     ]
    }
   ],
   "source": [
    "from keras.models import Sequential\n",
    "from keras.layers import Dense\n",
    "import numpy as np\n",
    "\n",
    "import keras.backend as K\n",
    "from keras.models import Sequential\n",
    "from keras.layers import Dense, LSTM, GRU\n",
    "from keras.layers import Dropout\n",
    "from keras.layers import BatchNormalization\n",
    "from tensorflow.keras.regularizers import l2\n",
    "\n",
    "model=Sequential()\n",
    "\n",
    "model.add(LSTM(64, return_sequences=True, kernel_regularizer=l2(0.2), input_shape=(24,1), activation='relu'))\n",
    "model.add(LSTM(32, activation='relu', kernel_regularizer=l2(0.2)))\n",
    "model.add(Dense(1, activation='softmax'))\n",
    "\n",
    "model.compile(loss='binary_crossentropy', optimizer='sgd', metrics=['accuracy'])\n",
    "\n",
    "\n",
    "# train the model \n",
    "h = model.fit(X_train, y_train,validation_data = (X_test, y_test), epochs=5)"
   ]
  },
  {
   "cell_type": "code",
   "execution_count": 19,
   "metadata": {},
   "outputs": [],
   "source": [
    "X = df_result.drop(['malware_detection'], axis = 1)\n",
    "y = df_result[['malware_detection']]\n",
    "\n",
    "\n",
    "from sklearn.model_selection import train_test_split\n",
    "X_train, X_test, y_train, y_test = train_test_split(X, y, test_size = 0.2, random_state = 42)"
   ]
  },
  {
   "cell_type": "code",
   "execution_count": 29,
   "metadata": {
    "tags": []
   },
   "outputs": [],
   "source": [
    "from keras.layers import Dense, LSTM, GRU\n",
    "model_ann = Sequential()\n",
    "model_ann.add(GRU(64, input_shape = (24,1), activation='relu'))\n",
    "model_ann.add(Dropout(0.2))\n",
    "model_ann.add(Dense(1, activation='softmax'))\n",
    "\n",
    "model_ann.compile(loss = 'categorical_crossentropy', optimizer='adam', metrics = ['accuracy'])"
   ]
  },
  {
   "cell_type": "code",
   "execution_count": null,
   "metadata": {},
   "outputs": [],
   "source": []
  }
 ]
}