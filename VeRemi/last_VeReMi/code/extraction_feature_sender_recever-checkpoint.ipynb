{
 "cells": [
  {
   "cell_type": "code",
   "execution_count": 1,
   "metadata": {},
   "outputs": [],
   "source": [
    "import pandas as pd\n",
    "import numpy as np\n",
    "import matplotlib.pyplot as plt\n",
    "from sklearn.model_selection import train_test_split"
   ]
  },
  {
   "cell_type": "code",
   "execution_count": 2,
   "metadata": {},
   "outputs": [
    {
     "output_type": "execute_result",
     "data": {
      "text/plain": [
       "         type       rcvTime      sendTime  sender  messageID          RSSI  \\\n",
       "0           3  10800.392893  10800.392785      13         38  1.115287e-07   \n",
       "1           3  10800.456258  10800.456150      31        104  3.218740e-09   \n",
       "2           3  10800.582131  10800.582020      25        137  2.900248e-09   \n",
       "3           3  10800.670748  10800.670638      43        172  1.746131e-08   \n",
       "4           3  10800.870128  10800.870012      19        193  3.710398e-07   \n",
       "...       ...           ...           ...     ...        ...           ...   \n",
       "2088612     3  18099.241156  18099.241039      37     258558  2.991132e-09   \n",
       "2088613     3  18099.347898  18099.347788     331     258902  2.692616e-09   \n",
       "2088614     3  18099.672892  18099.672783     241     259570  8.478235e-09   \n",
       "2088615     3  18099.711685  18099.711569     589     259754  2.100614e-09   \n",
       "2088616     3  18098.268157  18098.268049     493     255689  1.377767e-09   \n",
       "\n",
       "         receiver        pos_x        pos_y  pos_z      spd_x      spd_y  \\\n",
       "0               7  3597.152086  5542.199221  1.895  -3.178366  38.798969   \n",
       "1               7  3596.805861  5692.113417  1.895   1.282467 -29.864003   \n",
       "2               7  3597.770493  5764.800893  1.895  -0.020161 -34.568848   \n",
       "3               7  3822.892006  5266.806009  1.895   1.305362  -0.988730   \n",
       "4               7  3617.100034  5417.782781  1.895   4.937950 -39.877578   \n",
       "...           ...          ...          ...    ...        ...        ...   \n",
       "2088612       595  5915.089159  5438.393654  1.895  -5.822041 -11.743324   \n",
       "2088613       595  5871.660328  5712.603102  1.895   5.239626   0.604247   \n",
       "2088614       595  6173.110903  5739.391327  1.895  14.245848   0.729113   \n",
       "2088615       595  6225.788607  6314.059024  1.895  14.974152  -5.075921   \n",
       "2088616       601  2948.633298  5192.395538  1.895  15.923568  -4.379078   \n",
       "\n",
       "         spd_z   global_pos  global_spd  attackerType simulation_directory  \n",
       "0          0.0  6607.229293   38.928936             0            0_3_16_01  \n",
       "1          0.0  6733.288286   29.891527             0            0_3_16_01  \n",
       "2          0.0  6795.357639   34.568854             0            0_3_16_01  \n",
       "3          0.0  6507.976062    1.637546             0            0_3_16_01  \n",
       "4          0.0  6514.275594   40.182143             0            0_3_16_01  \n",
       "...        ...          ...         ...           ...                  ...  \n",
       "2088612    0.0  8035.198124   13.107319             8             4_5_8_03  \n",
       "2088613    0.0  8192.083545    5.274353             0             4_5_8_03  \n",
       "2088614    0.0  8428.992503   14.264494             0             4_5_8_03  \n",
       "2088615    0.0  8867.231177   15.811078             8             4_5_8_03  \n",
       "2088616    0.0  5971.215399   16.514731             8             4_5_8_03  \n",
       "\n",
       "[2088617 rows x 17 columns]"
      ],
      "text/html": "<div>\n<style scoped>\n    .dataframe tbody tr th:only-of-type {\n        vertical-align: middle;\n    }\n\n    .dataframe tbody tr th {\n        vertical-align: top;\n    }\n\n    .dataframe thead th {\n        text-align: right;\n    }\n</style>\n<table border=\"1\" class=\"dataframe\">\n  <thead>\n    <tr style=\"text-align: right;\">\n      <th></th>\n      <th>type</th>\n      <th>rcvTime</th>\n      <th>sendTime</th>\n      <th>sender</th>\n      <th>messageID</th>\n      <th>RSSI</th>\n      <th>receiver</th>\n      <th>pos_x</th>\n      <th>pos_y</th>\n      <th>pos_z</th>\n      <th>spd_x</th>\n      <th>spd_y</th>\n      <th>spd_z</th>\n      <th>global_pos</th>\n      <th>global_spd</th>\n      <th>attackerType</th>\n      <th>simulation_directory</th>\n    </tr>\n  </thead>\n  <tbody>\n    <tr>\n      <th>0</th>\n      <td>3</td>\n      <td>10800.392893</td>\n      <td>10800.392785</td>\n      <td>13</td>\n      <td>38</td>\n      <td>1.115287e-07</td>\n      <td>7</td>\n      <td>3597.152086</td>\n      <td>5542.199221</td>\n      <td>1.895</td>\n      <td>-3.178366</td>\n      <td>38.798969</td>\n      <td>0.0</td>\n      <td>6607.229293</td>\n      <td>38.928936</td>\n      <td>0</td>\n      <td>0_3_16_01</td>\n    </tr>\n    <tr>\n      <th>1</th>\n      <td>3</td>\n      <td>10800.456258</td>\n      <td>10800.456150</td>\n      <td>31</td>\n      <td>104</td>\n      <td>3.218740e-09</td>\n      <td>7</td>\n      <td>3596.805861</td>\n      <td>5692.113417</td>\n      <td>1.895</td>\n      <td>1.282467</td>\n      <td>-29.864003</td>\n      <td>0.0</td>\n      <td>6733.288286</td>\n      <td>29.891527</td>\n      <td>0</td>\n      <td>0_3_16_01</td>\n    </tr>\n    <tr>\n      <th>2</th>\n      <td>3</td>\n      <td>10800.582131</td>\n      <td>10800.582020</td>\n      <td>25</td>\n      <td>137</td>\n      <td>2.900248e-09</td>\n      <td>7</td>\n      <td>3597.770493</td>\n      <td>5764.800893</td>\n      <td>1.895</td>\n      <td>-0.020161</td>\n      <td>-34.568848</td>\n      <td>0.0</td>\n      <td>6795.357639</td>\n      <td>34.568854</td>\n      <td>0</td>\n      <td>0_3_16_01</td>\n    </tr>\n    <tr>\n      <th>3</th>\n      <td>3</td>\n      <td>10800.670748</td>\n      <td>10800.670638</td>\n      <td>43</td>\n      <td>172</td>\n      <td>1.746131e-08</td>\n      <td>7</td>\n      <td>3822.892006</td>\n      <td>5266.806009</td>\n      <td>1.895</td>\n      <td>1.305362</td>\n      <td>-0.988730</td>\n      <td>0.0</td>\n      <td>6507.976062</td>\n      <td>1.637546</td>\n      <td>0</td>\n      <td>0_3_16_01</td>\n    </tr>\n    <tr>\n      <th>4</th>\n      <td>3</td>\n      <td>10800.870128</td>\n      <td>10800.870012</td>\n      <td>19</td>\n      <td>193</td>\n      <td>3.710398e-07</td>\n      <td>7</td>\n      <td>3617.100034</td>\n      <td>5417.782781</td>\n      <td>1.895</td>\n      <td>4.937950</td>\n      <td>-39.877578</td>\n      <td>0.0</td>\n      <td>6514.275594</td>\n      <td>40.182143</td>\n      <td>0</td>\n      <td>0_3_16_01</td>\n    </tr>\n    <tr>\n      <th>...</th>\n      <td>...</td>\n      <td>...</td>\n      <td>...</td>\n      <td>...</td>\n      <td>...</td>\n      <td>...</td>\n      <td>...</td>\n      <td>...</td>\n      <td>...</td>\n      <td>...</td>\n      <td>...</td>\n      <td>...</td>\n      <td>...</td>\n      <td>...</td>\n      <td>...</td>\n      <td>...</td>\n      <td>...</td>\n    </tr>\n    <tr>\n      <th>2088612</th>\n      <td>3</td>\n      <td>18099.241156</td>\n      <td>18099.241039</td>\n      <td>37</td>\n      <td>258558</td>\n      <td>2.991132e-09</td>\n      <td>595</td>\n      <td>5915.089159</td>\n      <td>5438.393654</td>\n      <td>1.895</td>\n      <td>-5.822041</td>\n      <td>-11.743324</td>\n      <td>0.0</td>\n      <td>8035.198124</td>\n      <td>13.107319</td>\n      <td>8</td>\n      <td>4_5_8_03</td>\n    </tr>\n    <tr>\n      <th>2088613</th>\n      <td>3</td>\n      <td>18099.347898</td>\n      <td>18099.347788</td>\n      <td>331</td>\n      <td>258902</td>\n      <td>2.692616e-09</td>\n      <td>595</td>\n      <td>5871.660328</td>\n      <td>5712.603102</td>\n      <td>1.895</td>\n      <td>5.239626</td>\n      <td>0.604247</td>\n      <td>0.0</td>\n      <td>8192.083545</td>\n      <td>5.274353</td>\n      <td>0</td>\n      <td>4_5_8_03</td>\n    </tr>\n    <tr>\n      <th>2088614</th>\n      <td>3</td>\n      <td>18099.672892</td>\n      <td>18099.672783</td>\n      <td>241</td>\n      <td>259570</td>\n      <td>8.478235e-09</td>\n      <td>595</td>\n      <td>6173.110903</td>\n      <td>5739.391327</td>\n      <td>1.895</td>\n      <td>14.245848</td>\n      <td>0.729113</td>\n      <td>0.0</td>\n      <td>8428.992503</td>\n      <td>14.264494</td>\n      <td>0</td>\n      <td>4_5_8_03</td>\n    </tr>\n    <tr>\n      <th>2088615</th>\n      <td>3</td>\n      <td>18099.711685</td>\n      <td>18099.711569</td>\n      <td>589</td>\n      <td>259754</td>\n      <td>2.100614e-09</td>\n      <td>595</td>\n      <td>6225.788607</td>\n      <td>6314.059024</td>\n      <td>1.895</td>\n      <td>14.974152</td>\n      <td>-5.075921</td>\n      <td>0.0</td>\n      <td>8867.231177</td>\n      <td>15.811078</td>\n      <td>8</td>\n      <td>4_5_8_03</td>\n    </tr>\n    <tr>\n      <th>2088616</th>\n      <td>3</td>\n      <td>18098.268157</td>\n      <td>18098.268049</td>\n      <td>493</td>\n      <td>255689</td>\n      <td>1.377767e-09</td>\n      <td>601</td>\n      <td>2948.633298</td>\n      <td>5192.395538</td>\n      <td>1.895</td>\n      <td>15.923568</td>\n      <td>-4.379078</td>\n      <td>0.0</td>\n      <td>5971.215399</td>\n      <td>16.514731</td>\n      <td>8</td>\n      <td>4_5_8_03</td>\n    </tr>\n  </tbody>\n</table>\n<p>2088617 rows × 17 columns</p>\n</div>"
     },
     "metadata": {},
     "execution_count": 2
    }
   ],
   "source": [
    "df = pd.read_csv(\"../database/cleandataVeReMi_with_directory.csv\")\n",
    "df"
   ]
  },
  {
   "cell_type": "code",
   "execution_count": 3,
   "metadata": {},
   "outputs": [
    {
     "output_type": "stream",
     "name": "stdout",
     "text": [
      "0  :  1656656\n16  :  82422\n1  :  87849\n2  :  84768\n4  :  86101\n8  :  90821\n"
     ]
    }
   ],
   "source": [
    "for element in df.attackerType.unique():\n",
    "    print(element, \" : \",len(df[df.attackerType == element]))"
   ]
  },
  {
   "cell_type": "code",
   "execution_count": 4,
   "metadata": {},
   "outputs": [
    {
     "output_type": "stream",
     "name": "stdout",
     "text": [
      "type  :  0\nrcvTime  :  1\nsendTime  :  2\nsender  :  3\nmessageID  :  4\nRSSI  :  5\nreceiver  :  6\npos_x  :  7\npos_y  :  8\npos_z  :  9\nspd_x  :  10\nspd_y  :  11\nspd_z  :  12\nglobal_pos  :  13\nglobal_spd  :  14\nattackerType  :  15\nsimulation_directory  :  16\n"
     ]
    }
   ],
   "source": [
    "for col in df.columns:\n",
    "    print(col,' : ', df.columns.get_loc(col))"
   ]
  },
  {
   "cell_type": "code",
   "execution_count": 5,
   "metadata": {},
   "outputs": [],
   "source": [
    "liste_categorical_features = [0,3,4,6,15,16,17,18,19,20,21,22,23,24,25,26,27,28,29,30,31,32,33,34,35,36,37,38,39,40,41,42,43,44,45,46,47,48,49,50,51,52,53,54,55,56,57,58,59,60,61,62,63,64,65,66,67,68,69,70,71,72,73,74,75,76,77,78,79,80,81,82,83,84,85,86,87,88,89,90,91,92,93,94,95,96,97,98,100,101,102,103,104,105,106,107,108,109,110,112,113,114,115,116,117,118,119,120,121,122,123,124,125,126,127,128,129,130,131,132,133,134,135,136,137,138,139,140,141,142,143,144,145,146,147,148,149,150,151,152,153,154,155,156,157,158,159,160,161,162,163,164,165]"
   ]
  },
  {
   "cell_type": "code",
   "execution_count": 6,
   "metadata": {},
   "outputs": [],
   "source": [
    "simulation_directory_columns = pd.get_dummies(df.simulation_directory)"
   ]
  },
  {
   "cell_type": "code",
   "execution_count": 7,
   "metadata": {},
   "outputs": [
    {
     "output_type": "execute_result",
     "data": {
      "text/plain": [
       "         type       rcvTime      sendTime  sender  messageID          RSSI  \\\n",
       "0           3  10800.392893  10800.392785      13         38  1.115287e-07   \n",
       "1           3  10800.456258  10800.456150      31        104  3.218740e-09   \n",
       "2           3  10800.582131  10800.582020      25        137  2.900248e-09   \n",
       "3           3  10800.670748  10800.670638      43        172  1.746131e-08   \n",
       "4           3  10800.870128  10800.870012      19        193  3.710398e-07   \n",
       "...       ...           ...           ...     ...        ...           ...   \n",
       "2088612     3  18099.241156  18099.241039      37     258558  2.991132e-09   \n",
       "2088613     3  18099.347898  18099.347788     331     258902  2.692616e-09   \n",
       "2088614     3  18099.672892  18099.672783     241     259570  8.478235e-09   \n",
       "2088615     3  18099.711685  18099.711569     589     259754  2.100614e-09   \n",
       "2088616     3  18098.268157  18098.268049     493     255689  1.377767e-09   \n",
       "\n",
       "         receiver        pos_x        pos_y  pos_z  ...  4_5_1_03  4_5_2_01  \\\n",
       "0               7  3597.152086  5542.199221  1.895  ...         0         0   \n",
       "1               7  3596.805861  5692.113417  1.895  ...         0         0   \n",
       "2               7  3597.770493  5764.800893  1.895  ...         0         0   \n",
       "3               7  3822.892006  5266.806009  1.895  ...         0         0   \n",
       "4               7  3617.100034  5417.782781  1.895  ...         0         0   \n",
       "...           ...          ...          ...    ...  ...       ...       ...   \n",
       "2088612       595  5915.089159  5438.393654  1.895  ...         0         0   \n",
       "2088613       595  5871.660328  5712.603102  1.895  ...         0         0   \n",
       "2088614       595  6173.110903  5739.391327  1.895  ...         0         0   \n",
       "2088615       595  6225.788607  6314.059024  1.895  ...         0         0   \n",
       "2088616       601  2948.633298  5192.395538  1.895  ...         0         0   \n",
       "\n",
       "         4_5_2_02  4_5_2_03  4_5_4_01  4_5_4_02 4_5_4_03  4_5_8_01  4_5_8_02  \\\n",
       "0               0         0         0         0        0         0         0   \n",
       "1               0         0         0         0        0         0         0   \n",
       "2               0         0         0         0        0         0         0   \n",
       "3               0         0         0         0        0         0         0   \n",
       "4               0         0         0         0        0         0         0   \n",
       "...           ...       ...       ...       ...      ...       ...       ...   \n",
       "2088612         0         0         0         0        0         0         0   \n",
       "2088613         0         0         0         0        0         0         0   \n",
       "2088614         0         0         0         0        0         0         0   \n",
       "2088615         0         0         0         0        0         0         0   \n",
       "2088616         0         0         0         0        0         0         0   \n",
       "\n",
       "         4_5_8_03  \n",
       "0               0  \n",
       "1               0  \n",
       "2               0  \n",
       "3               0  \n",
       "4               0  \n",
       "...           ...  \n",
       "2088612         1  \n",
       "2088613         1  \n",
       "2088614         1  \n",
       "2088615         1  \n",
       "2088616         1  \n",
       "\n",
       "[2088617 rows x 167 columns]"
      ],
      "text/html": "<div>\n<style scoped>\n    .dataframe tbody tr th:only-of-type {\n        vertical-align: middle;\n    }\n\n    .dataframe tbody tr th {\n        vertical-align: top;\n    }\n\n    .dataframe thead th {\n        text-align: right;\n    }\n</style>\n<table border=\"1\" class=\"dataframe\">\n  <thead>\n    <tr style=\"text-align: right;\">\n      <th></th>\n      <th>type</th>\n      <th>rcvTime</th>\n      <th>sendTime</th>\n      <th>sender</th>\n      <th>messageID</th>\n      <th>RSSI</th>\n      <th>receiver</th>\n      <th>pos_x</th>\n      <th>pos_y</th>\n      <th>pos_z</th>\n      <th>...</th>\n      <th>4_5_1_03</th>\n      <th>4_5_2_01</th>\n      <th>4_5_2_02</th>\n      <th>4_5_2_03</th>\n      <th>4_5_4_01</th>\n      <th>4_5_4_02</th>\n      <th>4_5_4_03</th>\n      <th>4_5_8_01</th>\n      <th>4_5_8_02</th>\n      <th>4_5_8_03</th>\n    </tr>\n  </thead>\n  <tbody>\n    <tr>\n      <th>0</th>\n      <td>3</td>\n      <td>10800.392893</td>\n      <td>10800.392785</td>\n      <td>13</td>\n      <td>38</td>\n      <td>1.115287e-07</td>\n      <td>7</td>\n      <td>3597.152086</td>\n      <td>5542.199221</td>\n      <td>1.895</td>\n      <td>...</td>\n      <td>0</td>\n      <td>0</td>\n      <td>0</td>\n      <td>0</td>\n      <td>0</td>\n      <td>0</td>\n      <td>0</td>\n      <td>0</td>\n      <td>0</td>\n      <td>0</td>\n    </tr>\n    <tr>\n      <th>1</th>\n      <td>3</td>\n      <td>10800.456258</td>\n      <td>10800.456150</td>\n      <td>31</td>\n      <td>104</td>\n      <td>3.218740e-09</td>\n      <td>7</td>\n      <td>3596.805861</td>\n      <td>5692.113417</td>\n      <td>1.895</td>\n      <td>...</td>\n      <td>0</td>\n      <td>0</td>\n      <td>0</td>\n      <td>0</td>\n      <td>0</td>\n      <td>0</td>\n      <td>0</td>\n      <td>0</td>\n      <td>0</td>\n      <td>0</td>\n    </tr>\n    <tr>\n      <th>2</th>\n      <td>3</td>\n      <td>10800.582131</td>\n      <td>10800.582020</td>\n      <td>25</td>\n      <td>137</td>\n      <td>2.900248e-09</td>\n      <td>7</td>\n      <td>3597.770493</td>\n      <td>5764.800893</td>\n      <td>1.895</td>\n      <td>...</td>\n      <td>0</td>\n      <td>0</td>\n      <td>0</td>\n      <td>0</td>\n      <td>0</td>\n      <td>0</td>\n      <td>0</td>\n      <td>0</td>\n      <td>0</td>\n      <td>0</td>\n    </tr>\n    <tr>\n      <th>3</th>\n      <td>3</td>\n      <td>10800.670748</td>\n      <td>10800.670638</td>\n      <td>43</td>\n      <td>172</td>\n      <td>1.746131e-08</td>\n      <td>7</td>\n      <td>3822.892006</td>\n      <td>5266.806009</td>\n      <td>1.895</td>\n      <td>...</td>\n      <td>0</td>\n      <td>0</td>\n      <td>0</td>\n      <td>0</td>\n      <td>0</td>\n      <td>0</td>\n      <td>0</td>\n      <td>0</td>\n      <td>0</td>\n      <td>0</td>\n    </tr>\n    <tr>\n      <th>4</th>\n      <td>3</td>\n      <td>10800.870128</td>\n      <td>10800.870012</td>\n      <td>19</td>\n      <td>193</td>\n      <td>3.710398e-07</td>\n      <td>7</td>\n      <td>3617.100034</td>\n      <td>5417.782781</td>\n      <td>1.895</td>\n      <td>...</td>\n      <td>0</td>\n      <td>0</td>\n      <td>0</td>\n      <td>0</td>\n      <td>0</td>\n      <td>0</td>\n      <td>0</td>\n      <td>0</td>\n      <td>0</td>\n      <td>0</td>\n    </tr>\n    <tr>\n      <th>...</th>\n      <td>...</td>\n      <td>...</td>\n      <td>...</td>\n      <td>...</td>\n      <td>...</td>\n      <td>...</td>\n      <td>...</td>\n      <td>...</td>\n      <td>...</td>\n      <td>...</td>\n      <td>...</td>\n      <td>...</td>\n      <td>...</td>\n      <td>...</td>\n      <td>...</td>\n      <td>...</td>\n      <td>...</td>\n      <td>...</td>\n      <td>...</td>\n      <td>...</td>\n      <td>...</td>\n    </tr>\n    <tr>\n      <th>2088612</th>\n      <td>3</td>\n      <td>18099.241156</td>\n      <td>18099.241039</td>\n      <td>37</td>\n      <td>258558</td>\n      <td>2.991132e-09</td>\n      <td>595</td>\n      <td>5915.089159</td>\n      <td>5438.393654</td>\n      <td>1.895</td>\n      <td>...</td>\n      <td>0</td>\n      <td>0</td>\n      <td>0</td>\n      <td>0</td>\n      <td>0</td>\n      <td>0</td>\n      <td>0</td>\n      <td>0</td>\n      <td>0</td>\n      <td>1</td>\n    </tr>\n    <tr>\n      <th>2088613</th>\n      <td>3</td>\n      <td>18099.347898</td>\n      <td>18099.347788</td>\n      <td>331</td>\n      <td>258902</td>\n      <td>2.692616e-09</td>\n      <td>595</td>\n      <td>5871.660328</td>\n      <td>5712.603102</td>\n      <td>1.895</td>\n      <td>...</td>\n      <td>0</td>\n      <td>0</td>\n      <td>0</td>\n      <td>0</td>\n      <td>0</td>\n      <td>0</td>\n      <td>0</td>\n      <td>0</td>\n      <td>0</td>\n      <td>1</td>\n    </tr>\n    <tr>\n      <th>2088614</th>\n      <td>3</td>\n      <td>18099.672892</td>\n      <td>18099.672783</td>\n      <td>241</td>\n      <td>259570</td>\n      <td>8.478235e-09</td>\n      <td>595</td>\n      <td>6173.110903</td>\n      <td>5739.391327</td>\n      <td>1.895</td>\n      <td>...</td>\n      <td>0</td>\n      <td>0</td>\n      <td>0</td>\n      <td>0</td>\n      <td>0</td>\n      <td>0</td>\n      <td>0</td>\n      <td>0</td>\n      <td>0</td>\n      <td>1</td>\n    </tr>\n    <tr>\n      <th>2088615</th>\n      <td>3</td>\n      <td>18099.711685</td>\n      <td>18099.711569</td>\n      <td>589</td>\n      <td>259754</td>\n      <td>2.100614e-09</td>\n      <td>595</td>\n      <td>6225.788607</td>\n      <td>6314.059024</td>\n      <td>1.895</td>\n      <td>...</td>\n      <td>0</td>\n      <td>0</td>\n      <td>0</td>\n      <td>0</td>\n      <td>0</td>\n      <td>0</td>\n      <td>0</td>\n      <td>0</td>\n      <td>0</td>\n      <td>1</td>\n    </tr>\n    <tr>\n      <th>2088616</th>\n      <td>3</td>\n      <td>18098.268157</td>\n      <td>18098.268049</td>\n      <td>493</td>\n      <td>255689</td>\n      <td>1.377767e-09</td>\n      <td>601</td>\n      <td>2948.633298</td>\n      <td>5192.395538</td>\n      <td>1.895</td>\n      <td>...</td>\n      <td>0</td>\n      <td>0</td>\n      <td>0</td>\n      <td>0</td>\n      <td>0</td>\n      <td>0</td>\n      <td>0</td>\n      <td>0</td>\n      <td>0</td>\n      <td>1</td>\n    </tr>\n  </tbody>\n</table>\n<p>2088617 rows × 167 columns</p>\n</div>"
     },
     "metadata": {},
     "execution_count": 7
    }
   ],
   "source": [
    "for col in simulation_directory_columns.columns:\n",
    "    df[col] = simulation_directory_columns[col]\n",
    "df"
   ]
  },
  {
   "cell_type": "code",
   "execution_count": 8,
   "metadata": {},
   "outputs": [],
   "source": [
    "df = df.drop(['simulation_directory'], axis = 1)"
   ]
  },
  {
   "cell_type": "code",
   "execution_count": 9,
   "metadata": {},
   "outputs": [
    {
     "output_type": "execute_result",
     "data": {
      "text/plain": [
       "(1670893, 165)"
      ]
     },
     "metadata": {},
     "execution_count": 9
    }
   ],
   "source": [
    "X = df.drop(['attackerType'], axis = 1)\n",
    "Y = df['attackerType']\n",
    "Y = pd.get_dummies(Y, columns=['attackerType'])\n",
    "\n",
    "X_train, X_test, Y_train, Y_test = train_test_split(X, Y, test_size = 0.2, random_state = 42)\n",
    "np.shape(X_train)"
   ]
  },
  {
   "cell_type": "code",
   "execution_count": 10,
   "metadata": {},
   "outputs": [
    {
     "output_type": "stream",
     "name": "stdout",
     "text": [
      "(417724, 165)\n(417724, 6)\n(1670893, 165)\n(1670893, 6)\n"
     ]
    }
   ],
   "source": [
    "print(np.shape(X_test))\n",
    "print(np.shape(Y_test))\n",
    "print(np.shape(X_train))\n",
    "print(np.shape(Y_train))\n"
   ]
  },
  {
   "source": [
    "# SMOTE"
   ],
   "cell_type": "markdown",
   "metadata": {}
  },
  {
   "cell_type": "code",
   "execution_count": 19,
   "metadata": {},
   "outputs": [
    {
     "output_type": "execute_result",
     "data": {
      "text/plain": [
       "pandas.core.frame.DataFrame"
      ]
     },
     "metadata": {},
     "execution_count": 19
    }
   ],
   "source": []
  },
  {
   "cell_type": "code",
   "execution_count": 11,
   "metadata": {},
   "outputs": [
    {
     "output_type": "error",
     "ename": "AttributeError",
     "evalue": "'DataFrame' object has no attribute 'argmax'",
     "traceback": [
      "\u001b[1;31m---------------------------------------------------------------------------\u001b[0m",
      "\u001b[1;31mAttributeError\u001b[0m                            Traceback (most recent call last)",
      "\u001b[1;32m<ipython-input-11-c5f6d26f9def>\u001b[0m in \u001b[0;36m<module>\u001b[1;34m\u001b[0m\n\u001b[0;32m      3\u001b[0m \u001b[1;33m\u001b[0m\u001b[0m\n\u001b[0;32m      4\u001b[0m \u001b[0msmotenc\u001b[0m \u001b[1;33m=\u001b[0m \u001b[0mSMOTENC\u001b[0m\u001b[1;33m(\u001b[0m\u001b[0mliste_categorical_features\u001b[0m\u001b[1;33m,\u001b[0m\u001b[0mrandom_state\u001b[0m \u001b[1;33m=\u001b[0m \u001b[1;36m101\u001b[0m\u001b[1;33m)\u001b[0m\u001b[1;33m\u001b[0m\u001b[1;33m\u001b[0m\u001b[0m\n\u001b[1;32m----> 5\u001b[1;33m \u001b[0mX_oversample\u001b[0m\u001b[1;33m,\u001b[0m \u001b[0my_oversample\u001b[0m \u001b[1;33m=\u001b[0m \u001b[0msmotenc\u001b[0m\u001b[1;33m.\u001b[0m\u001b[0mfit_resample\u001b[0m\u001b[1;33m(\u001b[0m\u001b[0mX_train\u001b[0m\u001b[1;33m,\u001b[0m \u001b[0mY_train\u001b[0m\u001b[1;33m)\u001b[0m\u001b[1;33m\u001b[0m\u001b[1;33m\u001b[0m\u001b[0m\n\u001b[0m\u001b[0;32m      6\u001b[0m \u001b[0mX_oversample\u001b[0m\u001b[1;33m\u001b[0m\u001b[1;33m\u001b[0m\u001b[0m\n",
      "\u001b[1;32m~\\AppData\\Roaming\\Python\\Python38\\site-packages\\imblearn\\base.py\u001b[0m in \u001b[0;36mfit_resample\u001b[1;34m(self, X, y)\u001b[0m\n\u001b[0;32m     75\u001b[0m         \u001b[0mcheck_classification_targets\u001b[0m\u001b[1;33m(\u001b[0m\u001b[0my\u001b[0m\u001b[1;33m)\u001b[0m\u001b[1;33m\u001b[0m\u001b[1;33m\u001b[0m\u001b[0m\n\u001b[0;32m     76\u001b[0m         \u001b[0marrays_transformer\u001b[0m \u001b[1;33m=\u001b[0m \u001b[0mArraysTransformer\u001b[0m\u001b[1;33m(\u001b[0m\u001b[0mX\u001b[0m\u001b[1;33m,\u001b[0m \u001b[0my\u001b[0m\u001b[1;33m)\u001b[0m\u001b[1;33m\u001b[0m\u001b[1;33m\u001b[0m\u001b[0m\n\u001b[1;32m---> 77\u001b[1;33m         \u001b[0mX\u001b[0m\u001b[1;33m,\u001b[0m \u001b[0my\u001b[0m\u001b[1;33m,\u001b[0m \u001b[0mbinarize_y\u001b[0m \u001b[1;33m=\u001b[0m \u001b[0mself\u001b[0m\u001b[1;33m.\u001b[0m\u001b[0m_check_X_y\u001b[0m\u001b[1;33m(\u001b[0m\u001b[0mX\u001b[0m\u001b[1;33m,\u001b[0m \u001b[0my\u001b[0m\u001b[1;33m)\u001b[0m\u001b[1;33m\u001b[0m\u001b[1;33m\u001b[0m\u001b[0m\n\u001b[0m\u001b[0;32m     78\u001b[0m \u001b[1;33m\u001b[0m\u001b[0m\n\u001b[0;32m     79\u001b[0m         self.sampling_strategy_ = check_sampling_strategy(\n",
      "\u001b[1;32m~\\AppData\\Roaming\\Python\\Python38\\site-packages\\imblearn\\over_sampling\\_smote\\base.py\u001b[0m in \u001b[0;36m_check_X_y\u001b[1;34m(self, X, y)\u001b[0m\n\u001b[0;32m    437\u001b[0m         \u001b[0mfeatures\u001b[0m\u001b[1;33m.\u001b[0m\u001b[1;33m\u001b[0m\u001b[1;33m\u001b[0m\u001b[0m\n\u001b[0;32m    438\u001b[0m         \"\"\"\n\u001b[1;32m--> 439\u001b[1;33m         \u001b[0my\u001b[0m\u001b[1;33m,\u001b[0m \u001b[0mbinarize_y\u001b[0m \u001b[1;33m=\u001b[0m \u001b[0mcheck_target_type\u001b[0m\u001b[1;33m(\u001b[0m\u001b[0my\u001b[0m\u001b[1;33m,\u001b[0m \u001b[0mindicate_one_vs_all\u001b[0m\u001b[1;33m=\u001b[0m\u001b[1;32mTrue\u001b[0m\u001b[1;33m)\u001b[0m\u001b[1;33m\u001b[0m\u001b[1;33m\u001b[0m\u001b[0m\n\u001b[0m\u001b[0;32m    440\u001b[0m         X, y = self._validate_data(\n\u001b[0;32m    441\u001b[0m             \u001b[0mX\u001b[0m\u001b[1;33m,\u001b[0m \u001b[0my\u001b[0m\u001b[1;33m,\u001b[0m \u001b[0mreset\u001b[0m\u001b[1;33m=\u001b[0m\u001b[1;32mTrue\u001b[0m\u001b[1;33m,\u001b[0m \u001b[0mdtype\u001b[0m\u001b[1;33m=\u001b[0m\u001b[1;32mNone\u001b[0m\u001b[1;33m,\u001b[0m \u001b[0maccept_sparse\u001b[0m\u001b[1;33m=\u001b[0m\u001b[1;33m[\u001b[0m\u001b[1;34m\"csr\"\u001b[0m\u001b[1;33m,\u001b[0m \u001b[1;34m\"csc\"\u001b[0m\u001b[1;33m]\u001b[0m\u001b[1;33m\u001b[0m\u001b[1;33m\u001b[0m\u001b[0m\n",
      "\u001b[1;32m~\\AppData\\Roaming\\Python\\Python38\\site-packages\\imblearn\\utils\\_validation.py\u001b[0m in \u001b[0;36mcheck_target_type\u001b[1;34m(y, indicate_one_vs_all)\u001b[0m\n\u001b[0;32m    136\u001b[0m                 \u001b[1;34m\"multioutput targets are not supported.\"\u001b[0m\u001b[1;33m\u001b[0m\u001b[1;33m\u001b[0m\u001b[0m\n\u001b[0;32m    137\u001b[0m             )\n\u001b[1;32m--> 138\u001b[1;33m         \u001b[0my\u001b[0m \u001b[1;33m=\u001b[0m \u001b[0my\u001b[0m\u001b[1;33m.\u001b[0m\u001b[0margmax\u001b[0m\u001b[1;33m(\u001b[0m\u001b[0maxis\u001b[0m\u001b[1;33m=\u001b[0m\u001b[1;36m1\u001b[0m\u001b[1;33m)\u001b[0m\u001b[1;33m\u001b[0m\u001b[1;33m\u001b[0m\u001b[0m\n\u001b[0m\u001b[0;32m    139\u001b[0m     \u001b[1;32melse\u001b[0m\u001b[1;33m:\u001b[0m\u001b[1;33m\u001b[0m\u001b[1;33m\u001b[0m\u001b[0m\n\u001b[0;32m    140\u001b[0m         \u001b[0my\u001b[0m \u001b[1;33m=\u001b[0m \u001b[0mcolumn_or_1d\u001b[0m\u001b[1;33m(\u001b[0m\u001b[0my\u001b[0m\u001b[1;33m)\u001b[0m\u001b[1;33m\u001b[0m\u001b[1;33m\u001b[0m\u001b[0m\n",
      "\u001b[1;32mC:\\Python38\\lib\\site-packages\\pandas\\core\\generic.py\u001b[0m in \u001b[0;36m__getattr__\u001b[1;34m(self, name)\u001b[0m\n\u001b[0;32m   5458\u001b[0m             \u001b[1;32mif\u001b[0m \u001b[0mself\u001b[0m\u001b[1;33m.\u001b[0m\u001b[0m_info_axis\u001b[0m\u001b[1;33m.\u001b[0m\u001b[0m_can_hold_identifiers_and_holds_name\u001b[0m\u001b[1;33m(\u001b[0m\u001b[0mname\u001b[0m\u001b[1;33m)\u001b[0m\u001b[1;33m:\u001b[0m\u001b[1;33m\u001b[0m\u001b[1;33m\u001b[0m\u001b[0m\n\u001b[0;32m   5459\u001b[0m                 \u001b[1;32mreturn\u001b[0m \u001b[0mself\u001b[0m\u001b[1;33m[\u001b[0m\u001b[0mname\u001b[0m\u001b[1;33m]\u001b[0m\u001b[1;33m\u001b[0m\u001b[1;33m\u001b[0m\u001b[0m\n\u001b[1;32m-> 5460\u001b[1;33m             \u001b[1;32mreturn\u001b[0m \u001b[0mobject\u001b[0m\u001b[1;33m.\u001b[0m\u001b[0m__getattribute__\u001b[0m\u001b[1;33m(\u001b[0m\u001b[0mself\u001b[0m\u001b[1;33m,\u001b[0m \u001b[0mname\u001b[0m\u001b[1;33m)\u001b[0m\u001b[1;33m\u001b[0m\u001b[1;33m\u001b[0m\u001b[0m\n\u001b[0m\u001b[0;32m   5461\u001b[0m \u001b[1;33m\u001b[0m\u001b[0m\n\u001b[0;32m   5462\u001b[0m     \u001b[1;32mdef\u001b[0m \u001b[0m__setattr__\u001b[0m\u001b[1;33m(\u001b[0m\u001b[0mself\u001b[0m\u001b[1;33m,\u001b[0m \u001b[0mname\u001b[0m\u001b[1;33m:\u001b[0m \u001b[0mstr\u001b[0m\u001b[1;33m,\u001b[0m \u001b[0mvalue\u001b[0m\u001b[1;33m)\u001b[0m \u001b[1;33m->\u001b[0m \u001b[1;32mNone\u001b[0m\u001b[1;33m:\u001b[0m\u001b[1;33m\u001b[0m\u001b[1;33m\u001b[0m\u001b[0m\n",
      "\u001b[1;31mAttributeError\u001b[0m: 'DataFrame' object has no attribute 'argmax'"
     ]
    }
   ],
   "source": [
    "from imblearn.over_sampling import SMOTENC\n",
    "\n",
    "\n",
    "smotenc = SMOTENC(liste_categorical_features,random_state = 101)\n",
    "X_oversample, y_oversample = smotenc.fit_resample(X_train, Y_train)\n",
    "X_oversample"
   ]
  },
  {
   "cell_type": "code",
   "execution_count": 16,
   "metadata": {},
   "outputs": [
    {
     "output_type": "stream",
     "name": "stdout",
     "text": [
      "Epoch 1/10\n",
      "52216/52216 [==============================] - 87s 2ms/step - loss: 0.8425 - accuracy: 0.7943 - val_loss: 0.8426 - val_accuracy: 0.7944\n",
      "Epoch 2/10\n",
      "52216/52216 [==============================] - 79s 2ms/step - loss: 0.8428 - accuracy: 0.7942 - val_loss: 0.8392 - val_accuracy: 0.7952\n",
      "Epoch 3/10\n",
      "52216/52216 [==============================] - 79s 2ms/step - loss: 0.8434 - accuracy: 0.7940 - val_loss: 0.8452 - val_accuracy: 0.7931\n",
      "Epoch 4/10\n",
      "52216/52216 [==============================] - 80s 2ms/step - loss: 0.8463 - accuracy: 0.7932 - val_loss: 0.8444 - val_accuracy: 0.7931\n",
      "Epoch 5/10\n",
      "52216/52216 [==============================] - 77s 1ms/step - loss: 0.8463 - accuracy: 0.7932 - val_loss: 0.8467 - val_accuracy: 0.7931\n",
      "Epoch 6/10\n",
      "52216/52216 [==============================] - 65s 1ms/step - loss: 0.8463 - accuracy: 0.7932 - val_loss: 0.8460 - val_accuracy: 0.7931\n",
      "Epoch 7/10\n",
      "52216/52216 [==============================] - 66s 1ms/step - loss: 0.8463 - accuracy: 0.7932 - val_loss: 0.8536 - val_accuracy: 0.7931\n",
      "Epoch 8/10\n",
      "52216/52216 [==============================] - 66s 1ms/step - loss: 0.8463 - accuracy: 0.7932 - val_loss: 0.8464 - val_accuracy: 0.7931\n",
      "Epoch 9/10\n",
      "52216/52216 [==============================] - 66s 1ms/step - loss: 0.8463 - accuracy: 0.7932 - val_loss: 0.8449 - val_accuracy: 0.7931\n",
      "Epoch 10/10\n",
      "52216/52216 [==============================] - 66s 1ms/step - loss: 0.8463 - accuracy: 0.7932 - val_loss: 0.8453 - val_accuracy: 0.7931\n"
     ]
    },
    {
     "output_type": "execute_result",
     "data": {
      "text/plain": [
       "array([[331304,      0,      0,      0,      0,      0],\n",
       "       [ 17659,      0,      0,      0,      0,      0],\n",
       "       [ 16883,      0,      0,      0,      0,      0],\n",
       "       [ 17257,      0,      0,      0,      0,      0],\n",
       "       [ 18275,      0,      0,      0,      0,      0],\n",
       "       [ 16346,      0,      0,      0,      0,      0]], dtype=int64)"
      ]
     },
     "metadata": {},
     "execution_count": 16
    }
   ],
   "source": [
    "from keras.models import Sequential\n",
    "from keras.layers import Dense\n",
    "\n",
    "model=Sequential()\n",
    "\n",
    "model.add(Dense(256, input_shape=(165,), activation='tanh'))\n",
    "model.add(Dense(128, activation='tanh'))\n",
    "model.add(Dense(64, activation='tanh'))\n",
    "model.add(Dense(6, activation='softmax'))\n",
    "\n",
    "model.compile(loss='categorical_crossentropy', optimizer='adam', metrics=['accuracy'])\n",
    "\n",
    "\n",
    "history = model.fit(X_train, Y_train, validation_data = (X_test, Y_test), epochs=10)\n",
    "\n",
    "Y_predicted = model.predict(X_test)\n",
    "matrix = confusion_matrix_pca(Y_predicted, Y_test)\n",
    "matrix"
   ]
  },
  {
   "cell_type": "code",
   "execution_count": null,
   "metadata": {},
   "outputs": [],
   "source": [
    "from sklearn.metrics import confusion_matrix\n",
    "from function_PCA import *\n",
    "Y_predicted = model.predict(X_test)\n",
    "matrix = confusion_matrix_pca(Y_predicted, Y_test)\n",
    "matrix"
   ]
  },
  {
   "source": [
    "# Test with PCA"
   ],
   "cell_type": "markdown",
   "metadata": {}
  },
  {
   "cell_type": "code",
   "execution_count": 19,
   "metadata": {},
   "outputs": [
    {
     "output_type": "stream",
     "name": "stdout",
     "text": [
      "Epoch 1/10\n",
      "52180/52216 [============================>.] - ETA: 0s - loss: 0.7597 - accuracy: 0.8101WARNING:tensorflow:Callbacks method `on_test_batch_end` is slow compared to the batch time (batch time: 0.0000s vs `on_test_batch_end` time: 0.0010s). Check your callbacks.\n",
      "52216/52216 [==============================] - 42s 809us/step - loss: 0.7597 - accuracy: 0.8101 - val_loss: 0.6884 - val_accuracy: 0.8233\n",
      "Epoch 2/10\n",
      "52216/52216 [==============================] - 42s 810us/step - loss: 0.6994 - accuracy: 0.8213 - val_loss: 0.6725 - val_accuracy: 0.8229\n",
      "Epoch 3/10\n",
      "52216/52216 [==============================] - 42s 807us/step - loss: 0.6828 - accuracy: 0.8242 - val_loss: 0.6973 - val_accuracy: 0.8242\n",
      "Epoch 4/10\n",
      "52216/52216 [==============================] - 42s 810us/step - loss: 0.6826 - accuracy: 0.8237 - val_loss: 0.6908 - val_accuracy: 0.8216\n",
      "Epoch 5/10\n",
      "52216/52216 [==============================] - 42s 806us/step - loss: 0.6720 - accuracy: 0.8252 - val_loss: 0.6479 - val_accuracy: 0.8302\n",
      "Epoch 6/10\n",
      "52216/52216 [==============================] - 43s 820us/step - loss: 0.6575 - accuracy: 0.8277 - val_loss: 0.6503 - val_accuracy: 0.8278\n",
      "Epoch 7/10\n",
      "52216/52216 [==============================] - 43s 822us/step - loss: 0.6594 - accuracy: 0.8275 - val_loss: 0.6405 - val_accuracy: 0.8332\n",
      "Epoch 8/10\n",
      "52216/52216 [==============================] - 43s 815us/step - loss: 0.6510 - accuracy: 0.8293 - val_loss: 0.6366 - val_accuracy: 0.8277\n",
      "Epoch 9/10\n",
      "52216/52216 [==============================] - 43s 814us/step - loss: 0.6555 - accuracy: 0.8287 - val_loss: 0.7214 - val_accuracy: 0.8261\n",
      "Epoch 10/10\n",
      "52216/52216 [==============================] - 44s 840us/step - loss: 0.6485 - accuracy: 0.8306 - val_loss: 0.6400 - val_accuracy: 0.8306\n"
     ]
    }
   ],
   "source": [
    "from sklearn.decomposition import PCA\n",
    "\n",
    "n_component_pca = 6\n",
    "\n",
    "pca = PCA(n_components= n_component_pca)\n",
    "activation_function = 'tanh'\n",
    "pca.fit(X_train)\n",
    "X_train_pca = pca.transform(X_train)\n",
    "X_test_pca = pca.transform(X_test)\n",
    "\n",
    "\n",
    "model=Sequential()\n",
    "\n",
    "model.add(Dense(64, input_shape=(n_component_pca,), activation=activation_function))\n",
    "model.add(Dense(32, activation=activation_function,))\n",
    "model.add(Dense(6, activation='softmax'))\n",
    "\n",
    "model.compile(loss='categorical_crossentropy', optimizer='adam', metrics=['accuracy'])\n",
    "\n",
    "\n",
    "history = model.fit(X_train_pca, Y_train, validation_data = (X_test_pca, Y_test), epochs=10)\n",
    "\n",
    "Y_predicted = model.predict(X_test_pca)\n",
    "matrix = confusion_matrix_pca(Y_predicted, Y_test)"
   ]
  },
  {
   "cell_type": "code",
   "execution_count": 21,
   "metadata": {},
   "outputs": [
    {
     "output_type": "execute_result",
     "data": {
      "text/plain": [
       "array([[330380,    824,      0,    100,      0,      0],\n",
       "       [ 14627,   3021,      0,     11,      0,      0],\n",
       "       [ 16811,     24,      2,     46,      0,      0],\n",
       "       [  4114,     50,      8,  13085,      0,      0],\n",
       "       [ 18160,     79,      0,     36,      0,      0],\n",
       "       [ 16298,     42,      0,      6,      0,      0]], dtype=int64)"
      ]
     },
     "metadata": {},
     "execution_count": 21
    }
   ],
   "source": [
    "matrix"
   ]
  },
  {
   "cell_type": "code",
   "execution_count": null,
   "metadata": {},
   "outputs": [],
   "source": []
  }
 ],
 "metadata": {
  "kernelspec": {
   "display_name": "Python 3",
   "language": "python",
   "name": "python3"
  },
  "language_info": {
   "codemirror_mode": {
    "name": "ipython",
    "version": 3
   },
   "file_extension": ".py",
   "mimetype": "text/x-python",
   "name": "python",
   "nbconvert_exporter": "python",
   "pygments_lexer": "ipython3",
   "version": "3.8.3-final"
  }
 },
 "nbformat": 4,
 "nbformat_minor": 2
}