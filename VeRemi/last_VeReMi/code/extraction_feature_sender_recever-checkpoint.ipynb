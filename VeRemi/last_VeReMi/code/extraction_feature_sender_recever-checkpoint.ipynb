{
 "cells": [
  {
   "cell_type": "code",
   "execution_count": 4,
   "metadata": {},
   "outputs": [],
   "source": [
    "import pandas as pd\n",
    "import numpy as np\n",
    "import matplotlib.pyplot as plt\n",
    "from sklearn.model_selection import train_test_split"
   ]
  },
  {
   "cell_type": "code",
   "execution_count": 5,
   "metadata": {},
   "outputs": [
    {
     "output_type": "execute_result",
     "data": {
      "text/plain": [
       "         type       rcvTime      sendTime  sender  messageID          RSSI  \\\n",
       "0           3  10800.392893  10800.392785      13         38  1.115287e-07   \n",
       "1           3  10800.456258  10800.456150      31        104  3.218740e-09   \n",
       "2           3  10800.582131  10800.582020      25        137  2.900248e-09   \n",
       "3           3  10800.670748  10800.670638      43        172  1.746131e-08   \n",
       "4           3  10800.870128  10800.870012      19        193  3.710398e-07   \n",
       "...       ...           ...           ...     ...        ...           ...   \n",
       "2088612     3  18099.241156  18099.241039      37     258558  2.991132e-09   \n",
       "2088613     3  18099.347898  18099.347788     331     258902  2.692616e-09   \n",
       "2088614     3  18099.672892  18099.672783     241     259570  8.478235e-09   \n",
       "2088615     3  18099.711685  18099.711569     589     259754  2.100614e-09   \n",
       "2088616     3  18098.268157  18098.268049     493     255689  1.377767e-09   \n",
       "\n",
       "         receiver        pos_x        pos_y  pos_z      spd_x      spd_y  \\\n",
       "0               7  3597.152086  5542.199221  1.895  -3.178366  38.798969   \n",
       "1               7  3596.805861  5692.113417  1.895   1.282467 -29.864003   \n",
       "2               7  3597.770493  5764.800893  1.895  -0.020161 -34.568848   \n",
       "3               7  3822.892006  5266.806009  1.895   1.305362  -0.988730   \n",
       "4               7  3617.100034  5417.782781  1.895   4.937950 -39.877578   \n",
       "...           ...          ...          ...    ...        ...        ...   \n",
       "2088612       595  5915.089159  5438.393654  1.895  -5.822041 -11.743324   \n",
       "2088613       595  5871.660328  5712.603102  1.895   5.239626   0.604247   \n",
       "2088614       595  6173.110903  5739.391327  1.895  14.245848   0.729113   \n",
       "2088615       595  6225.788607  6314.059024  1.895  14.974152  -5.075921   \n",
       "2088616       601  2948.633298  5192.395538  1.895  15.923568  -4.379078   \n",
       "\n",
       "         spd_z   global_pos  global_spd  attackerType simulation_directory  \n",
       "0          0.0  6607.229293   38.928936             0            0_3_16_01  \n",
       "1          0.0  6733.288286   29.891527             0            0_3_16_01  \n",
       "2          0.0  6795.357639   34.568854             0            0_3_16_01  \n",
       "3          0.0  6507.976062    1.637546             0            0_3_16_01  \n",
       "4          0.0  6514.275594   40.182143             0            0_3_16_01  \n",
       "...        ...          ...         ...           ...                  ...  \n",
       "2088612    0.0  8035.198124   13.107319             8             4_5_8_03  \n",
       "2088613    0.0  8192.083545    5.274353             0             4_5_8_03  \n",
       "2088614    0.0  8428.992503   14.264494             0             4_5_8_03  \n",
       "2088615    0.0  8867.231177   15.811078             8             4_5_8_03  \n",
       "2088616    0.0  5971.215399   16.514731             8             4_5_8_03  \n",
       "\n",
       "[2088617 rows x 17 columns]"
      ],
      "text/html": "<div>\n<style scoped>\n    .dataframe tbody tr th:only-of-type {\n        vertical-align: middle;\n    }\n\n    .dataframe tbody tr th {\n        vertical-align: top;\n    }\n\n    .dataframe thead th {\n        text-align: right;\n    }\n</style>\n<table border=\"1\" class=\"dataframe\">\n  <thead>\n    <tr style=\"text-align: right;\">\n      <th></th>\n      <th>type</th>\n      <th>rcvTime</th>\n      <th>sendTime</th>\n      <th>sender</th>\n      <th>messageID</th>\n      <th>RSSI</th>\n      <th>receiver</th>\n      <th>pos_x</th>\n      <th>pos_y</th>\n      <th>pos_z</th>\n      <th>spd_x</th>\n      <th>spd_y</th>\n      <th>spd_z</th>\n      <th>global_pos</th>\n      <th>global_spd</th>\n      <th>attackerType</th>\n      <th>simulation_directory</th>\n    </tr>\n  </thead>\n  <tbody>\n    <tr>\n      <th>0</th>\n      <td>3</td>\n      <td>10800.392893</td>\n      <td>10800.392785</td>\n      <td>13</td>\n      <td>38</td>\n      <td>1.115287e-07</td>\n      <td>7</td>\n      <td>3597.152086</td>\n      <td>5542.199221</td>\n      <td>1.895</td>\n      <td>-3.178366</td>\n      <td>38.798969</td>\n      <td>0.0</td>\n      <td>6607.229293</td>\n      <td>38.928936</td>\n      <td>0</td>\n      <td>0_3_16_01</td>\n    </tr>\n    <tr>\n      <th>1</th>\n      <td>3</td>\n      <td>10800.456258</td>\n      <td>10800.456150</td>\n      <td>31</td>\n      <td>104</td>\n      <td>3.218740e-09</td>\n      <td>7</td>\n      <td>3596.805861</td>\n      <td>5692.113417</td>\n      <td>1.895</td>\n      <td>1.282467</td>\n      <td>-29.864003</td>\n      <td>0.0</td>\n      <td>6733.288286</td>\n      <td>29.891527</td>\n      <td>0</td>\n      <td>0_3_16_01</td>\n    </tr>\n    <tr>\n      <th>2</th>\n      <td>3</td>\n      <td>10800.582131</td>\n      <td>10800.582020</td>\n      <td>25</td>\n      <td>137</td>\n      <td>2.900248e-09</td>\n      <td>7</td>\n      <td>3597.770493</td>\n      <td>5764.800893</td>\n      <td>1.895</td>\n      <td>-0.020161</td>\n      <td>-34.568848</td>\n      <td>0.0</td>\n      <td>6795.357639</td>\n      <td>34.568854</td>\n      <td>0</td>\n      <td>0_3_16_01</td>\n    </tr>\n    <tr>\n      <th>3</th>\n      <td>3</td>\n      <td>10800.670748</td>\n      <td>10800.670638</td>\n      <td>43</td>\n      <td>172</td>\n      <td>1.746131e-08</td>\n      <td>7</td>\n      <td>3822.892006</td>\n      <td>5266.806009</td>\n      <td>1.895</td>\n      <td>1.305362</td>\n      <td>-0.988730</td>\n      <td>0.0</td>\n      <td>6507.976062</td>\n      <td>1.637546</td>\n      <td>0</td>\n      <td>0_3_16_01</td>\n    </tr>\n    <tr>\n      <th>4</th>\n      <td>3</td>\n      <td>10800.870128</td>\n      <td>10800.870012</td>\n      <td>19</td>\n      <td>193</td>\n      <td>3.710398e-07</td>\n      <td>7</td>\n      <td>3617.100034</td>\n      <td>5417.782781</td>\n      <td>1.895</td>\n      <td>4.937950</td>\n      <td>-39.877578</td>\n      <td>0.0</td>\n      <td>6514.275594</td>\n      <td>40.182143</td>\n      <td>0</td>\n      <td>0_3_16_01</td>\n    </tr>\n    <tr>\n      <th>...</th>\n      <td>...</td>\n      <td>...</td>\n      <td>...</td>\n      <td>...</td>\n      <td>...</td>\n      <td>...</td>\n      <td>...</td>\n      <td>...</td>\n      <td>...</td>\n      <td>...</td>\n      <td>...</td>\n      <td>...</td>\n      <td>...</td>\n      <td>...</td>\n      <td>...</td>\n      <td>...</td>\n      <td>...</td>\n    </tr>\n    <tr>\n      <th>2088612</th>\n      <td>3</td>\n      <td>18099.241156</td>\n      <td>18099.241039</td>\n      <td>37</td>\n      <td>258558</td>\n      <td>2.991132e-09</td>\n      <td>595</td>\n      <td>5915.089159</td>\n      <td>5438.393654</td>\n      <td>1.895</td>\n      <td>-5.822041</td>\n      <td>-11.743324</td>\n      <td>0.0</td>\n      <td>8035.198124</td>\n      <td>13.107319</td>\n      <td>8</td>\n      <td>4_5_8_03</td>\n    </tr>\n    <tr>\n      <th>2088613</th>\n      <td>3</td>\n      <td>18099.347898</td>\n      <td>18099.347788</td>\n      <td>331</td>\n      <td>258902</td>\n      <td>2.692616e-09</td>\n      <td>595</td>\n      <td>5871.660328</td>\n      <td>5712.603102</td>\n      <td>1.895</td>\n      <td>5.239626</td>\n      <td>0.604247</td>\n      <td>0.0</td>\n      <td>8192.083545</td>\n      <td>5.274353</td>\n      <td>0</td>\n      <td>4_5_8_03</td>\n    </tr>\n    <tr>\n      <th>2088614</th>\n      <td>3</td>\n      <td>18099.672892</td>\n      <td>18099.672783</td>\n      <td>241</td>\n      <td>259570</td>\n      <td>8.478235e-09</td>\n      <td>595</td>\n      <td>6173.110903</td>\n      <td>5739.391327</td>\n      <td>1.895</td>\n      <td>14.245848</td>\n      <td>0.729113</td>\n      <td>0.0</td>\n      <td>8428.992503</td>\n      <td>14.264494</td>\n      <td>0</td>\n      <td>4_5_8_03</td>\n    </tr>\n    <tr>\n      <th>2088615</th>\n      <td>3</td>\n      <td>18099.711685</td>\n      <td>18099.711569</td>\n      <td>589</td>\n      <td>259754</td>\n      <td>2.100614e-09</td>\n      <td>595</td>\n      <td>6225.788607</td>\n      <td>6314.059024</td>\n      <td>1.895</td>\n      <td>14.974152</td>\n      <td>-5.075921</td>\n      <td>0.0</td>\n      <td>8867.231177</td>\n      <td>15.811078</td>\n      <td>8</td>\n      <td>4_5_8_03</td>\n    </tr>\n    <tr>\n      <th>2088616</th>\n      <td>3</td>\n      <td>18098.268157</td>\n      <td>18098.268049</td>\n      <td>493</td>\n      <td>255689</td>\n      <td>1.377767e-09</td>\n      <td>601</td>\n      <td>2948.633298</td>\n      <td>5192.395538</td>\n      <td>1.895</td>\n      <td>15.923568</td>\n      <td>-4.379078</td>\n      <td>0.0</td>\n      <td>5971.215399</td>\n      <td>16.514731</td>\n      <td>8</td>\n      <td>4_5_8_03</td>\n    </tr>\n  </tbody>\n</table>\n<p>2088617 rows × 17 columns</p>\n</div>"
     },
     "metadata": {},
     "execution_count": 5
    }
   ],
   "source": [
    "df = pd.read_csv(\"../database/cleandataVeReMi_with_directory.csv\")\n",
    "df"
   ]
  },
  {
   "cell_type": "code",
   "execution_count": 6,
   "metadata": {},
   "outputs": [],
   "source": [
    "simulation_directory_columns = pd.get_dummies(df.simulation_directory)"
   ]
  },
  {
   "cell_type": "code",
   "execution_count": 7,
   "metadata": {},
   "outputs": [
    {
     "output_type": "execute_result",
     "data": {
      "text/plain": [
       "         type       rcvTime      sendTime  sender  messageID          RSSI  \\\n",
       "0           3  10800.392893  10800.392785      13         38  1.115287e-07   \n",
       "1           3  10800.456258  10800.456150      31        104  3.218740e-09   \n",
       "2           3  10800.582131  10800.582020      25        137  2.900248e-09   \n",
       "3           3  10800.670748  10800.670638      43        172  1.746131e-08   \n",
       "4           3  10800.870128  10800.870012      19        193  3.710398e-07   \n",
       "...       ...           ...           ...     ...        ...           ...   \n",
       "2088612     3  18099.241156  18099.241039      37     258558  2.991132e-09   \n",
       "2088613     3  18099.347898  18099.347788     331     258902  2.692616e-09   \n",
       "2088614     3  18099.672892  18099.672783     241     259570  8.478235e-09   \n",
       "2088615     3  18099.711685  18099.711569     589     259754  2.100614e-09   \n",
       "2088616     3  18098.268157  18098.268049     493     255689  1.377767e-09   \n",
       "\n",
       "         receiver        pos_x        pos_y  pos_z  ...  4_5_1_03  4_5_2_01  \\\n",
       "0               7  3597.152086  5542.199221  1.895  ...         0         0   \n",
       "1               7  3596.805861  5692.113417  1.895  ...         0         0   \n",
       "2               7  3597.770493  5764.800893  1.895  ...         0         0   \n",
       "3               7  3822.892006  5266.806009  1.895  ...         0         0   \n",
       "4               7  3617.100034  5417.782781  1.895  ...         0         0   \n",
       "...           ...          ...          ...    ...  ...       ...       ...   \n",
       "2088612       595  5915.089159  5438.393654  1.895  ...         0         0   \n",
       "2088613       595  5871.660328  5712.603102  1.895  ...         0         0   \n",
       "2088614       595  6173.110903  5739.391327  1.895  ...         0         0   \n",
       "2088615       595  6225.788607  6314.059024  1.895  ...         0         0   \n",
       "2088616       601  2948.633298  5192.395538  1.895  ...         0         0   \n",
       "\n",
       "         4_5_2_02  4_5_2_03  4_5_4_01  4_5_4_02 4_5_4_03  4_5_8_01  4_5_8_02  \\\n",
       "0               0         0         0         0        0         0         0   \n",
       "1               0         0         0         0        0         0         0   \n",
       "2               0         0         0         0        0         0         0   \n",
       "3               0         0         0         0        0         0         0   \n",
       "4               0         0         0         0        0         0         0   \n",
       "...           ...       ...       ...       ...      ...       ...       ...   \n",
       "2088612         0         0         0         0        0         0         0   \n",
       "2088613         0         0         0         0        0         0         0   \n",
       "2088614         0         0         0         0        0         0         0   \n",
       "2088615         0         0         0         0        0         0         0   \n",
       "2088616         0         0         0         0        0         0         0   \n",
       "\n",
       "         4_5_8_03  \n",
       "0               0  \n",
       "1               0  \n",
       "2               0  \n",
       "3               0  \n",
       "4               0  \n",
       "...           ...  \n",
       "2088612         1  \n",
       "2088613         1  \n",
       "2088614         1  \n",
       "2088615         1  \n",
       "2088616         1  \n",
       "\n",
       "[2088617 rows x 167 columns]"
      ],
      "text/html": "<div>\n<style scoped>\n    .dataframe tbody tr th:only-of-type {\n        vertical-align: middle;\n    }\n\n    .dataframe tbody tr th {\n        vertical-align: top;\n    }\n\n    .dataframe thead th {\n        text-align: right;\n    }\n</style>\n<table border=\"1\" class=\"dataframe\">\n  <thead>\n    <tr style=\"text-align: right;\">\n      <th></th>\n      <th>type</th>\n      <th>rcvTime</th>\n      <th>sendTime</th>\n      <th>sender</th>\n      <th>messageID</th>\n      <th>RSSI</th>\n      <th>receiver</th>\n      <th>pos_x</th>\n      <th>pos_y</th>\n      <th>pos_z</th>\n      <th>...</th>\n      <th>4_5_1_03</th>\n      <th>4_5_2_01</th>\n      <th>4_5_2_02</th>\n      <th>4_5_2_03</th>\n      <th>4_5_4_01</th>\n      <th>4_5_4_02</th>\n      <th>4_5_4_03</th>\n      <th>4_5_8_01</th>\n      <th>4_5_8_02</th>\n      <th>4_5_8_03</th>\n    </tr>\n  </thead>\n  <tbody>\n    <tr>\n      <th>0</th>\n      <td>3</td>\n      <td>10800.392893</td>\n      <td>10800.392785</td>\n      <td>13</td>\n      <td>38</td>\n      <td>1.115287e-07</td>\n      <td>7</td>\n      <td>3597.152086</td>\n      <td>5542.199221</td>\n      <td>1.895</td>\n      <td>...</td>\n      <td>0</td>\n      <td>0</td>\n      <td>0</td>\n      <td>0</td>\n      <td>0</td>\n      <td>0</td>\n      <td>0</td>\n      <td>0</td>\n      <td>0</td>\n      <td>0</td>\n    </tr>\n    <tr>\n      <th>1</th>\n      <td>3</td>\n      <td>10800.456258</td>\n      <td>10800.456150</td>\n      <td>31</td>\n      <td>104</td>\n      <td>3.218740e-09</td>\n      <td>7</td>\n      <td>3596.805861</td>\n      <td>5692.113417</td>\n      <td>1.895</td>\n      <td>...</td>\n      <td>0</td>\n      <td>0</td>\n      <td>0</td>\n      <td>0</td>\n      <td>0</td>\n      <td>0</td>\n      <td>0</td>\n      <td>0</td>\n      <td>0</td>\n      <td>0</td>\n    </tr>\n    <tr>\n      <th>2</th>\n      <td>3</td>\n      <td>10800.582131</td>\n      <td>10800.582020</td>\n      <td>25</td>\n      <td>137</td>\n      <td>2.900248e-09</td>\n      <td>7</td>\n      <td>3597.770493</td>\n      <td>5764.800893</td>\n      <td>1.895</td>\n      <td>...</td>\n      <td>0</td>\n      <td>0</td>\n      <td>0</td>\n      <td>0</td>\n      <td>0</td>\n      <td>0</td>\n      <td>0</td>\n      <td>0</td>\n      <td>0</td>\n      <td>0</td>\n    </tr>\n    <tr>\n      <th>3</th>\n      <td>3</td>\n      <td>10800.670748</td>\n      <td>10800.670638</td>\n      <td>43</td>\n      <td>172</td>\n      <td>1.746131e-08</td>\n      <td>7</td>\n      <td>3822.892006</td>\n      <td>5266.806009</td>\n      <td>1.895</td>\n      <td>...</td>\n      <td>0</td>\n      <td>0</td>\n      <td>0</td>\n      <td>0</td>\n      <td>0</td>\n      <td>0</td>\n      <td>0</td>\n      <td>0</td>\n      <td>0</td>\n      <td>0</td>\n    </tr>\n    <tr>\n      <th>4</th>\n      <td>3</td>\n      <td>10800.870128</td>\n      <td>10800.870012</td>\n      <td>19</td>\n      <td>193</td>\n      <td>3.710398e-07</td>\n      <td>7</td>\n      <td>3617.100034</td>\n      <td>5417.782781</td>\n      <td>1.895</td>\n      <td>...</td>\n      <td>0</td>\n      <td>0</td>\n      <td>0</td>\n      <td>0</td>\n      <td>0</td>\n      <td>0</td>\n      <td>0</td>\n      <td>0</td>\n      <td>0</td>\n      <td>0</td>\n    </tr>\n    <tr>\n      <th>...</th>\n      <td>...</td>\n      <td>...</td>\n      <td>...</td>\n      <td>...</td>\n      <td>...</td>\n      <td>...</td>\n      <td>...</td>\n      <td>...</td>\n      <td>...</td>\n      <td>...</td>\n      <td>...</td>\n      <td>...</td>\n      <td>...</td>\n      <td>...</td>\n      <td>...</td>\n      <td>...</td>\n      <td>...</td>\n      <td>...</td>\n      <td>...</td>\n      <td>...</td>\n      <td>...</td>\n    </tr>\n    <tr>\n      <th>2088612</th>\n      <td>3</td>\n      <td>18099.241156</td>\n      <td>18099.241039</td>\n      <td>37</td>\n      <td>258558</td>\n      <td>2.991132e-09</td>\n      <td>595</td>\n      <td>5915.089159</td>\n      <td>5438.393654</td>\n      <td>1.895</td>\n      <td>...</td>\n      <td>0</td>\n      <td>0</td>\n      <td>0</td>\n      <td>0</td>\n      <td>0</td>\n      <td>0</td>\n      <td>0</td>\n      <td>0</td>\n      <td>0</td>\n      <td>1</td>\n    </tr>\n    <tr>\n      <th>2088613</th>\n      <td>3</td>\n      <td>18099.347898</td>\n      <td>18099.347788</td>\n      <td>331</td>\n      <td>258902</td>\n      <td>2.692616e-09</td>\n      <td>595</td>\n      <td>5871.660328</td>\n      <td>5712.603102</td>\n      <td>1.895</td>\n      <td>...</td>\n      <td>0</td>\n      <td>0</td>\n      <td>0</td>\n      <td>0</td>\n      <td>0</td>\n      <td>0</td>\n      <td>0</td>\n      <td>0</td>\n      <td>0</td>\n      <td>1</td>\n    </tr>\n    <tr>\n      <th>2088614</th>\n      <td>3</td>\n      <td>18099.672892</td>\n      <td>18099.672783</td>\n      <td>241</td>\n      <td>259570</td>\n      <td>8.478235e-09</td>\n      <td>595</td>\n      <td>6173.110903</td>\n      <td>5739.391327</td>\n      <td>1.895</td>\n      <td>...</td>\n      <td>0</td>\n      <td>0</td>\n      <td>0</td>\n      <td>0</td>\n      <td>0</td>\n      <td>0</td>\n      <td>0</td>\n      <td>0</td>\n      <td>0</td>\n      <td>1</td>\n    </tr>\n    <tr>\n      <th>2088615</th>\n      <td>3</td>\n      <td>18099.711685</td>\n      <td>18099.711569</td>\n      <td>589</td>\n      <td>259754</td>\n      <td>2.100614e-09</td>\n      <td>595</td>\n      <td>6225.788607</td>\n      <td>6314.059024</td>\n      <td>1.895</td>\n      <td>...</td>\n      <td>0</td>\n      <td>0</td>\n      <td>0</td>\n      <td>0</td>\n      <td>0</td>\n      <td>0</td>\n      <td>0</td>\n      <td>0</td>\n      <td>0</td>\n      <td>1</td>\n    </tr>\n    <tr>\n      <th>2088616</th>\n      <td>3</td>\n      <td>18098.268157</td>\n      <td>18098.268049</td>\n      <td>493</td>\n      <td>255689</td>\n      <td>1.377767e-09</td>\n      <td>601</td>\n      <td>2948.633298</td>\n      <td>5192.395538</td>\n      <td>1.895</td>\n      <td>...</td>\n      <td>0</td>\n      <td>0</td>\n      <td>0</td>\n      <td>0</td>\n      <td>0</td>\n      <td>0</td>\n      <td>0</td>\n      <td>0</td>\n      <td>0</td>\n      <td>1</td>\n    </tr>\n  </tbody>\n</table>\n<p>2088617 rows × 167 columns</p>\n</div>"
     },
     "metadata": {},
     "execution_count": 7
    }
   ],
   "source": [
    "for col in simulation_directory_columns.columns:\n",
    "    df[col] = simulation_directory_columns[col]\n",
    "df"
   ]
  },
  {
   "cell_type": "code",
   "execution_count": 14,
   "metadata": {},
   "outputs": [
    {
     "output_type": "stream",
     "name": "stdout",
     "text": [
      "type  :  <class 'numpy.int64'>\nrcvTime  :  <class 'numpy.float64'>\nsendTime  :  <class 'numpy.float64'>\nsender  :  <class 'numpy.int64'>\nmessageID  :  <class 'numpy.int64'>\nRSSI  :  <class 'numpy.float64'>\nreceiver  :  <class 'numpy.int64'>\npos_x  :  <class 'numpy.float64'>\npos_y  :  <class 'numpy.float64'>\npos_z  :  <class 'numpy.float64'>\nspd_x  :  <class 'numpy.float64'>\nspd_y  :  <class 'numpy.float64'>\nspd_z  :  <class 'numpy.float64'>\nglobal_pos  :  <class 'numpy.float64'>\nglobal_spd  :  <class 'numpy.float64'>\nattackerType  :  <class 'numpy.int64'>\nsimulation_directory  :  <class 'str'>\n0_3_16_01  :  <class 'numpy.uint8'>\n0_3_16_02  :  <class 'numpy.uint8'>\n0_3_16_03  :  <class 'numpy.uint8'>\n0_3_1_01  :  <class 'numpy.uint8'>\n0_3_1_02  :  <class 'numpy.uint8'>\n0_3_1_03  :  <class 'numpy.uint8'>\n0_3_2_01  :  <class 'numpy.uint8'>\n0_3_2_02  :  <class 'numpy.uint8'>\n0_3_2_03  :  <class 'numpy.uint8'>\n0_3_4_01  :  <class 'numpy.uint8'>\n0_3_4_02  :  <class 'numpy.uint8'>\n0_3_4_03  :  <class 'numpy.uint8'>\n0_3_8_01  :  <class 'numpy.uint8'>\n0_3_8_02  :  <class 'numpy.uint8'>\n0_3_8_03  :  <class 'numpy.uint8'>\n0_5_16_01  :  <class 'numpy.uint8'>\n0_5_16_02  :  <class 'numpy.uint8'>\n0_5_16_03  :  <class 'numpy.uint8'>\n0_5_1_01  :  <class 'numpy.uint8'>\n0_5_1_02  :  <class 'numpy.uint8'>\n0_5_1_03  :  <class 'numpy.uint8'>\n0_5_2_01  :  <class 'numpy.uint8'>\n0_5_2_02  :  <class 'numpy.uint8'>\n0_5_2_03  :  <class 'numpy.uint8'>\n0_5_4_01  :  <class 'numpy.uint8'>\n0_5_4_02  :  <class 'numpy.uint8'>\n0_5_4_03  :  <class 'numpy.uint8'>\n0_5_8_01  :  <class 'numpy.uint8'>\n0_5_8_02  :  <class 'numpy.uint8'>\n0_5_8_03  :  <class 'numpy.uint8'>\n1_3_16_01  :  <class 'numpy.uint8'>\n1_3_16_02  :  <class 'numpy.uint8'>\n1_3_16_03  :  <class 'numpy.uint8'>\n1_3_1_01  :  <class 'numpy.uint8'>\n1_3_1_02  :  <class 'numpy.uint8'>\n1_3_1_03  :  <class 'numpy.uint8'>\n1_3_2_01  :  <class 'numpy.uint8'>\n1_3_2_02  :  <class 'numpy.uint8'>\n1_3_2_03  :  <class 'numpy.uint8'>\n1_3_4_01  :  <class 'numpy.uint8'>\n1_3_4_02  :  <class 'numpy.uint8'>\n1_3_4_03  :  <class 'numpy.uint8'>\n1_3_8_01  :  <class 'numpy.uint8'>\n1_3_8_02  :  <class 'numpy.uint8'>\n1_3_8_03  :  <class 'numpy.uint8'>\n1_5_16_01  :  <class 'numpy.uint8'>\n1_5_16_02  :  <class 'numpy.uint8'>\n1_5_16_03  :  <class 'numpy.uint8'>\n1_5_1_01  :  <class 'numpy.uint8'>\n1_5_1_02  :  <class 'numpy.uint8'>\n1_5_1_03  :  <class 'numpy.uint8'>\n1_5_2_01  :  <class 'numpy.uint8'>\n1_5_2_02  :  <class 'numpy.uint8'>\n1_5_2_03  :  <class 'numpy.uint8'>\n1_5_4_01  :  <class 'numpy.uint8'>\n1_5_4_02  :  <class 'numpy.uint8'>\n1_5_4_03  :  <class 'numpy.uint8'>\n1_5_8_01  :  <class 'numpy.uint8'>\n1_5_8_02  :  <class 'numpy.uint8'>\n1_5_8_03  :  <class 'numpy.uint8'>\n2_3_16_01  :  <class 'numpy.uint8'>\n2_3_16_02  :  <class 'numpy.uint8'>\n2_3_16_03  :  <class 'numpy.uint8'>\n2_3_1_01  :  <class 'numpy.uint8'>\n2_3_1_02  :  <class 'numpy.uint8'>\n2_3_1_03  :  <class 'numpy.uint8'>\n2_3_2_01  :  <class 'numpy.uint8'>\n2_3_2_02  :  <class 'numpy.uint8'>\n2_3_2_03  :  <class 'numpy.uint8'>\n2_3_4_01  :  <class 'numpy.uint8'>\n2_3_4_02  :  <class 'numpy.uint8'>\n2_3_4_03  :  <class 'numpy.uint8'>\n2_3_8_01  :  <class 'numpy.uint8'>\n2_3_8_02  :  <class 'numpy.uint8'>\n2_3_8_03  :  <class 'numpy.uint8'>\n2_5_16_01  :  <class 'numpy.uint8'>\n2_5_16_02  :  <class 'numpy.uint8'>\n2_5_16_03  :  <class 'numpy.uint8'>\n2_5_1_01  :  <class 'numpy.uint8'>\n2_5_1_02  :  <class 'numpy.uint8'>\n2_5_1_03  :  <class 'numpy.uint8'>\n2_5_2_01  :  <class 'numpy.uint8'>\n2_5_2_02  :  <class 'numpy.uint8'>\n2_5_2_03  :  <class 'numpy.uint8'>\n2_5_4_01  :  <class 'numpy.uint8'>\n2_5_4_02  :  <class 'numpy.uint8'>\n2_5_4_03  :  <class 'numpy.uint8'>\n2_5_8_01  :  <class 'numpy.uint8'>\n2_5_8_02  :  <class 'numpy.uint8'>\n2_5_8_03  :  <class 'numpy.uint8'>\n3_3_16_01  :  <class 'numpy.uint8'>\n3_3_16_02  :  <class 'numpy.uint8'>\n3_3_16_03  :  <class 'numpy.uint8'>\n3_3_1_01  :  <class 'numpy.uint8'>\n3_3_1_02  :  <class 'numpy.uint8'>\n3_3_1_03  :  <class 'numpy.uint8'>\n3_3_2_01  :  <class 'numpy.uint8'>\n3_3_2_02  :  <class 'numpy.uint8'>\n3_3_2_03  :  <class 'numpy.uint8'>\n3_3_4_01  :  <class 'numpy.uint8'>\n3_3_4_02  :  <class 'numpy.uint8'>\n3_3_4_03  :  <class 'numpy.uint8'>\n3_3_8_01  :  <class 'numpy.uint8'>\n3_3_8_02  :  <class 'numpy.uint8'>\n3_3_8_03  :  <class 'numpy.uint8'>\n3_5_16_01  :  <class 'numpy.uint8'>\n3_5_16_02  :  <class 'numpy.uint8'>\n3_5_16_03  :  <class 'numpy.uint8'>\n3_5_1_01  :  <class 'numpy.uint8'>\n3_5_1_02  :  <class 'numpy.uint8'>\n3_5_1_03  :  <class 'numpy.uint8'>\n3_5_2_01  :  <class 'numpy.uint8'>\n3_5_2_02  :  <class 'numpy.uint8'>\n3_5_2_03  :  <class 'numpy.uint8'>\n3_5_4_01  :  <class 'numpy.uint8'>\n3_5_4_02  :  <class 'numpy.uint8'>\n3_5_4_03  :  <class 'numpy.uint8'>\n3_5_8_01  :  <class 'numpy.uint8'>\n3_5_8_02  :  <class 'numpy.uint8'>\n3_5_8_03  :  <class 'numpy.uint8'>\n4_3_16_01  :  <class 'numpy.uint8'>\n4_3_16_02  :  <class 'numpy.uint8'>\n4_3_16_03  :  <class 'numpy.uint8'>\n4_3_1_01  :  <class 'numpy.uint8'>\n4_3_1_02  :  <class 'numpy.uint8'>\n4_3_1_03  :  <class 'numpy.uint8'>\n4_3_2_01  :  <class 'numpy.uint8'>\n4_3_2_02  :  <class 'numpy.uint8'>\n4_3_2_03  :  <class 'numpy.uint8'>\n4_3_4_01  :  <class 'numpy.uint8'>\n4_3_4_02  :  <class 'numpy.uint8'>\n4_3_4_03  :  <class 'numpy.uint8'>\n4_3_8_01  :  <class 'numpy.uint8'>\n4_3_8_02  :  <class 'numpy.uint8'>\n4_3_8_03  :  <class 'numpy.uint8'>\n4_5_16_01  :  <class 'numpy.uint8'>\n4_5_16_02  :  <class 'numpy.uint8'>\n4_5_16_03  :  <class 'numpy.uint8'>\n4_5_1_01  :  <class 'numpy.uint8'>\n4_5_1_02  :  <class 'numpy.uint8'>\n4_5_1_03  :  <class 'numpy.uint8'>\n4_5_2_01  :  <class 'numpy.uint8'>\n4_5_2_02  :  <class 'numpy.uint8'>\n4_5_2_03  :  <class 'numpy.uint8'>\n4_5_4_01  :  <class 'numpy.uint8'>\n4_5_4_02  :  <class 'numpy.uint8'>\n4_5_4_03  :  <class 'numpy.uint8'>\n4_5_8_01  :  <class 'numpy.uint8'>\n4_5_8_02  :  <class 'numpy.uint8'>\n4_5_8_03  :  <class 'numpy.uint8'>\n"
     ]
    }
   ],
   "source": [
    "df = df.drop(['simulation_directory'], axis = 1)"
   ]
  },
  {
   "cell_type": "code",
   "execution_count": 9,
   "metadata": {},
   "outputs": [
    {
     "output_type": "execute_result",
     "data": {
      "text/plain": [
       "(1670893, 166)"
      ]
     },
     "metadata": {},
     "execution_count": 9
    }
   ],
   "source": [
    "X = df.drop(['attackerType'], axis = 1)\n",
    "Y = df['attackerType']\n",
    "Y = pd.get_dummies(Y, columns=['attackerType'])\n",
    "\n",
    "X_train, X_test, Y_train, Y_test = train_test_split(X, Y, test_size = 0.2, random_state = 42)\n",
    "np.shape(X_train)"
   ]
  },
  {
   "cell_type": "code",
   "execution_count": 10,
   "metadata": {},
   "outputs": [
    {
     "output_type": "error",
     "ename": "ValueError",
     "evalue": "Failed to convert a NumPy array to a Tensor (Unsupported object type int).",
     "traceback": [
      "\u001b[1;31m---------------------------------------------------------------------------\u001b[0m",
      "\u001b[1;31mTypeError\u001b[0m                                 Traceback (most recent call last)",
      "\u001b[1;32mC:\\Python38\\lib\\site-packages\\tensorflow\\python\\data\\util\\structure.py\u001b[0m in \u001b[0;36mnormalize_element\u001b[1;34m(element)\u001b[0m\n\u001b[0;32m     92\u001b[0m       \u001b[1;32mtry\u001b[0m\u001b[1;33m:\u001b[0m\u001b[1;33m\u001b[0m\u001b[1;33m\u001b[0m\u001b[0m\n\u001b[1;32m---> 93\u001b[1;33m         \u001b[0mspec\u001b[0m \u001b[1;33m=\u001b[0m \u001b[0mtype_spec_from_value\u001b[0m\u001b[1;33m(\u001b[0m\u001b[0mt\u001b[0m\u001b[1;33m,\u001b[0m \u001b[0muse_fallback\u001b[0m\u001b[1;33m=\u001b[0m\u001b[1;32mFalse\u001b[0m\u001b[1;33m)\u001b[0m\u001b[1;33m\u001b[0m\u001b[1;33m\u001b[0m\u001b[0m\n\u001b[0m\u001b[0;32m     94\u001b[0m       \u001b[1;32mexcept\u001b[0m \u001b[0mTypeError\u001b[0m\u001b[1;33m:\u001b[0m\u001b[1;33m\u001b[0m\u001b[1;33m\u001b[0m\u001b[0m\n",
      "\u001b[1;32mC:\\Python38\\lib\\site-packages\\tensorflow\\python\\data\\util\\structure.py\u001b[0m in \u001b[0;36mtype_spec_from_value\u001b[1;34m(element, use_fallback)\u001b[0m\n\u001b[0;32m    464\u001b[0m \u001b[1;33m\u001b[0m\u001b[0m\n\u001b[1;32m--> 465\u001b[1;33m   raise TypeError(\"Could not build a TypeSpec for %r with type %s\" %\n\u001b[0m\u001b[0;32m    466\u001b[0m                   (element, type(element).__name__))\n",
      "\u001b[1;31mTypeError\u001b[0m: Could not build a TypeSpec for          type       rcvTime      sendTime  sender  messageID          RSSI  \\\n515336      3  18073.620074  18073.619956     151     228298  2.329259e-09   \n33140       3  10842.103261  10842.103147      73       8459  1.298950e-05   \n1386198     3  18008.147118  18008.147008     313      28356  5.343977e-08   \n1057117     3  18012.740463  18012.740352     319      40441  2.210310e-08   \n1747911     3  10863.233853  10863.233743     163      17625  1.280003e-09   \n...       ...           ...           ...     ...        ...           ...   \n259178      3  18003.433398  18003.433288      97       6163  1.134301e-06   \n1414414     3  18014.274154  18014.274046     271      55374  9.783083e-09   \n131932      3  18068.730235  18068.730122     175     176358  3.113297e-09   \n671155      3  18072.765593  18072.765485      61     224824  4.090940e-09   \n121958      3  18052.984158  18052.984042     133     138306  2.634527e-05   \n\n         receiver        pos_x        pos_y  pos_z  ...  4_5_1_03  4_5_2_01  \\\n515336        457  3822.425813  5267.159121  1.895  ...         0         0   \n33140         115  3589.094942  5918.817297  1.895  ...         0         0   \n1386198       127  6322.741237  5899.283667  1.895  ...         0         0   \n1057117        79  6559.962002  5817.167720  1.895  ...         0         0   \n1747911       139  3622.341875  5334.650242  1.895  ...         0         0   \n...           ...          ...          ...    ...  ...       ...       ...   \n259178         67  6095.739483  5828.593398  1.895  ...         0         0   \n1414414       133  3600.371579  5685.940582  1.895  ...         0         0   \n131932        307  6082.597288  5823.950127  1.895  ...         0         0   \n671155         67  5326.554837  5563.783099  1.895  ...         0         0   \n121958        109  3178.871424  5262.055003  1.895  ...         0         0   \n\n         4_5_2_02  4_5_2_03  4_5_4_01 4_5_4_02  4_5_4_03  4_5_8_01  4_5_8_02  \\\n515336          0         0         0        0         0         0         0   \n33140           0         0         0        0         0         0         0   \n1386198         0         0         0        0         0         0         0   \n1057117         0         0         0        0         0         0         0   \n1747911         0         0         0        0         0         0         0   \n...           ...       ...       ...      ...       ...       ...       ...   \n259178          0         0         0        0         0         0         0   \n1414414         0         0         0        0         0         0         0   \n131932          0         0         0        0         0         0         0   \n671155          0         0         0        0         0         0         0   \n121958          0         0         0        0         0         0         0   \n\n         4_5_8_03  \n515336          0  \n33140           0  \n1386198         0  \n1057117         0  \n1747911         0  \n...           ...  \n259178          0  \n1414414         0  \n131932          0  \n671155          0  \n121958          0  \n\n[1670893 rows x 166 columns] with type DataFrame",
      "\nDuring handling of the above exception, another exception occurred:\n",
      "\u001b[1;31mValueError\u001b[0m                                Traceback (most recent call last)",
      "\u001b[1;32m<ipython-input-10-1e6d78362197>\u001b[0m in \u001b[0;36m<module>\u001b[1;34m\u001b[0m\n\u001b[0;32m     14\u001b[0m \u001b[1;33m\u001b[0m\u001b[0m\n\u001b[0;32m     15\u001b[0m \u001b[1;33m\u001b[0m\u001b[0m\n\u001b[1;32m---> 16\u001b[1;33m \u001b[0mhistory\u001b[0m \u001b[1;33m=\u001b[0m \u001b[0mmodel\u001b[0m\u001b[1;33m.\u001b[0m\u001b[0mfit\u001b[0m\u001b[1;33m(\u001b[0m\u001b[0mX_train\u001b[0m\u001b[1;33m,\u001b[0m \u001b[0mY_train\u001b[0m\u001b[1;33m,\u001b[0m \u001b[0mvalidation_data\u001b[0m \u001b[1;33m=\u001b[0m \u001b[1;33m(\u001b[0m\u001b[0mX_train\u001b[0m\u001b[1;33m,\u001b[0m \u001b[0mY_test\u001b[0m\u001b[1;33m)\u001b[0m\u001b[1;33m,\u001b[0m \u001b[0mepochs\u001b[0m\u001b[1;33m=\u001b[0m\u001b[1;36m10\u001b[0m\u001b[1;33m)\u001b[0m\u001b[1;33m\u001b[0m\u001b[1;33m\u001b[0m\u001b[0m\n\u001b[0m\u001b[0;32m     17\u001b[0m \u001b[1;33m\u001b[0m\u001b[0m\n\u001b[0;32m     18\u001b[0m \u001b[0mY_predicted\u001b[0m \u001b[1;33m=\u001b[0m \u001b[0mmodel\u001b[0m\u001b[1;33m.\u001b[0m\u001b[0mpredict\u001b[0m\u001b[1;33m(\u001b[0m\u001b[0mX_test\u001b[0m\u001b[1;33m)\u001b[0m\u001b[1;33m\u001b[0m\u001b[1;33m\u001b[0m\u001b[0m\n",
      "\u001b[1;32mC:\\Python38\\lib\\site-packages\\tensorflow\\python\\keras\\engine\\training.py\u001b[0m in \u001b[0;36m_method_wrapper\u001b[1;34m(self, *args, **kwargs)\u001b[0m\n\u001b[0;32m    106\u001b[0m   \u001b[1;32mdef\u001b[0m \u001b[0m_method_wrapper\u001b[0m\u001b[1;33m(\u001b[0m\u001b[0mself\u001b[0m\u001b[1;33m,\u001b[0m \u001b[1;33m*\u001b[0m\u001b[0margs\u001b[0m\u001b[1;33m,\u001b[0m \u001b[1;33m**\u001b[0m\u001b[0mkwargs\u001b[0m\u001b[1;33m)\u001b[0m\u001b[1;33m:\u001b[0m\u001b[1;33m\u001b[0m\u001b[1;33m\u001b[0m\u001b[0m\n\u001b[0;32m    107\u001b[0m     \u001b[1;32mif\u001b[0m \u001b[1;32mnot\u001b[0m \u001b[0mself\u001b[0m\u001b[1;33m.\u001b[0m\u001b[0m_in_multi_worker_mode\u001b[0m\u001b[1;33m(\u001b[0m\u001b[1;33m)\u001b[0m\u001b[1;33m:\u001b[0m  \u001b[1;31m# pylint: disable=protected-access\u001b[0m\u001b[1;33m\u001b[0m\u001b[1;33m\u001b[0m\u001b[0m\n\u001b[1;32m--> 108\u001b[1;33m       \u001b[1;32mreturn\u001b[0m \u001b[0mmethod\u001b[0m\u001b[1;33m(\u001b[0m\u001b[0mself\u001b[0m\u001b[1;33m,\u001b[0m \u001b[1;33m*\u001b[0m\u001b[0margs\u001b[0m\u001b[1;33m,\u001b[0m \u001b[1;33m**\u001b[0m\u001b[0mkwargs\u001b[0m\u001b[1;33m)\u001b[0m\u001b[1;33m\u001b[0m\u001b[1;33m\u001b[0m\u001b[0m\n\u001b[0m\u001b[0;32m    109\u001b[0m \u001b[1;33m\u001b[0m\u001b[0m\n\u001b[0;32m    110\u001b[0m     \u001b[1;31m# Running inside `run_distribute_coordinator` already.\u001b[0m\u001b[1;33m\u001b[0m\u001b[1;33m\u001b[0m\u001b[1;33m\u001b[0m\u001b[0m\n",
      "\u001b[1;32mC:\\Python38\\lib\\site-packages\\tensorflow\\python\\keras\\engine\\training.py\u001b[0m in \u001b[0;36mfit\u001b[1;34m(self, x, y, batch_size, epochs, verbose, callbacks, validation_split, validation_data, shuffle, class_weight, sample_weight, initial_epoch, steps_per_epoch, validation_steps, validation_batch_size, validation_freq, max_queue_size, workers, use_multiprocessing)\u001b[0m\n\u001b[0;32m   1047\u001b[0m          \u001b[0mtraining_utils\u001b[0m\u001b[1;33m.\u001b[0m\u001b[0mRespectCompiledTrainableState\u001b[0m\u001b[1;33m(\u001b[0m\u001b[0mself\u001b[0m\u001b[1;33m)\u001b[0m\u001b[1;33m:\u001b[0m\u001b[1;33m\u001b[0m\u001b[1;33m\u001b[0m\u001b[0m\n\u001b[0;32m   1048\u001b[0m       \u001b[1;31m# Creates a `tf.data.Dataset` and handles batch and epoch iteration.\u001b[0m\u001b[1;33m\u001b[0m\u001b[1;33m\u001b[0m\u001b[1;33m\u001b[0m\u001b[0m\n\u001b[1;32m-> 1049\u001b[1;33m       data_handler = data_adapter.DataHandler(\n\u001b[0m\u001b[0;32m   1050\u001b[0m           \u001b[0mx\u001b[0m\u001b[1;33m=\u001b[0m\u001b[0mx\u001b[0m\u001b[1;33m,\u001b[0m\u001b[1;33m\u001b[0m\u001b[1;33m\u001b[0m\u001b[0m\n\u001b[0;32m   1051\u001b[0m           \u001b[0my\u001b[0m\u001b[1;33m=\u001b[0m\u001b[0my\u001b[0m\u001b[1;33m,\u001b[0m\u001b[1;33m\u001b[0m\u001b[1;33m\u001b[0m\u001b[0m\n",
      "\u001b[1;32mC:\\Python38\\lib\\site-packages\\tensorflow\\python\\keras\\engine\\data_adapter.py\u001b[0m in \u001b[0;36m__init__\u001b[1;34m(self, x, y, sample_weight, batch_size, steps_per_epoch, initial_epoch, epochs, shuffle, class_weight, max_queue_size, workers, use_multiprocessing, model, steps_per_execution)\u001b[0m\n\u001b[0;32m   1103\u001b[0m \u001b[1;33m\u001b[0m\u001b[0m\n\u001b[0;32m   1104\u001b[0m     \u001b[0madapter_cls\u001b[0m \u001b[1;33m=\u001b[0m \u001b[0mselect_data_adapter\u001b[0m\u001b[1;33m(\u001b[0m\u001b[0mx\u001b[0m\u001b[1;33m,\u001b[0m \u001b[0my\u001b[0m\u001b[1;33m)\u001b[0m\u001b[1;33m\u001b[0m\u001b[1;33m\u001b[0m\u001b[0m\n\u001b[1;32m-> 1105\u001b[1;33m     self._adapter = adapter_cls(\n\u001b[0m\u001b[0;32m   1106\u001b[0m         \u001b[0mx\u001b[0m\u001b[1;33m,\u001b[0m\u001b[1;33m\u001b[0m\u001b[1;33m\u001b[0m\u001b[0m\n\u001b[0;32m   1107\u001b[0m         \u001b[0my\u001b[0m\u001b[1;33m,\u001b[0m\u001b[1;33m\u001b[0m\u001b[1;33m\u001b[0m\u001b[0m\n",
      "\u001b[1;32mC:\\Python38\\lib\\site-packages\\tensorflow\\python\\keras\\engine\\data_adapter.py\u001b[0m in \u001b[0;36m__init__\u001b[1;34m(self, x, y, sample_weights, sample_weight_modes, batch_size, epochs, steps, shuffle, **kwargs)\u001b[0m\n\u001b[0;32m    362\u001b[0m     \u001b[0mindices_dataset\u001b[0m \u001b[1;33m=\u001b[0m \u001b[0mindices_dataset\u001b[0m\u001b[1;33m.\u001b[0m\u001b[0mflat_map\u001b[0m\u001b[1;33m(\u001b[0m\u001b[0mslice_batch_indices\u001b[0m\u001b[1;33m)\u001b[0m\u001b[1;33m\u001b[0m\u001b[1;33m\u001b[0m\u001b[0m\n\u001b[0;32m    363\u001b[0m \u001b[1;33m\u001b[0m\u001b[0m\n\u001b[1;32m--> 364\u001b[1;33m     \u001b[0mdataset\u001b[0m \u001b[1;33m=\u001b[0m \u001b[0mself\u001b[0m\u001b[1;33m.\u001b[0m\u001b[0mslice_inputs\u001b[0m\u001b[1;33m(\u001b[0m\u001b[0mindices_dataset\u001b[0m\u001b[1;33m,\u001b[0m \u001b[0minputs\u001b[0m\u001b[1;33m)\u001b[0m\u001b[1;33m\u001b[0m\u001b[1;33m\u001b[0m\u001b[0m\n\u001b[0m\u001b[0;32m    365\u001b[0m \u001b[1;33m\u001b[0m\u001b[0m\n\u001b[0;32m    366\u001b[0m     \u001b[1;32mif\u001b[0m \u001b[0mshuffle\u001b[0m \u001b[1;33m==\u001b[0m \u001b[1;34m\"batch\"\u001b[0m\u001b[1;33m:\u001b[0m\u001b[1;33m\u001b[0m\u001b[1;33m\u001b[0m\u001b[0m\n",
      "\u001b[1;32mC:\\Python38\\lib\\site-packages\\tensorflow\\python\\keras\\engine\\data_adapter.py\u001b[0m in \u001b[0;36mslice_inputs\u001b[1;34m(self, indices_dataset, inputs)\u001b[0m\n\u001b[0;32m    388\u001b[0m     dataset = dataset_ops.DatasetV2.zip((\n\u001b[0;32m    389\u001b[0m         \u001b[0mindices_dataset\u001b[0m\u001b[1;33m,\u001b[0m\u001b[1;33m\u001b[0m\u001b[1;33m\u001b[0m\u001b[0m\n\u001b[1;32m--> 390\u001b[1;33m         \u001b[0mdataset_ops\u001b[0m\u001b[1;33m.\u001b[0m\u001b[0mDatasetV2\u001b[0m\u001b[1;33m.\u001b[0m\u001b[0mfrom_tensors\u001b[0m\u001b[1;33m(\u001b[0m\u001b[0minputs\u001b[0m\u001b[1;33m)\u001b[0m\u001b[1;33m.\u001b[0m\u001b[0mrepeat\u001b[0m\u001b[1;33m(\u001b[0m\u001b[1;33m)\u001b[0m\u001b[1;33m\u001b[0m\u001b[1;33m\u001b[0m\u001b[0m\n\u001b[0m\u001b[0;32m    391\u001b[0m     ))\n\u001b[0;32m    392\u001b[0m \u001b[1;33m\u001b[0m\u001b[0m\n",
      "\u001b[1;32mC:\\Python38\\lib\\site-packages\\tensorflow\\python\\data\\ops\\dataset_ops.py\u001b[0m in \u001b[0;36mfrom_tensors\u001b[1;34m(tensors)\u001b[0m\n\u001b[0;32m    602\u001b[0m       \u001b[0mDataset\u001b[0m\u001b[1;33m:\u001b[0m \u001b[0mA\u001b[0m\u001b[0;31m \u001b[0m\u001b[0;31m`\u001b[0m\u001b[0mDataset\u001b[0m\u001b[0;31m`\u001b[0m\u001b[1;33m.\u001b[0m\u001b[1;33m\u001b[0m\u001b[1;33m\u001b[0m\u001b[0m\n\u001b[0;32m    603\u001b[0m     \"\"\"\n\u001b[1;32m--> 604\u001b[1;33m     \u001b[1;32mreturn\u001b[0m \u001b[0mTensorDataset\u001b[0m\u001b[1;33m(\u001b[0m\u001b[0mtensors\u001b[0m\u001b[1;33m)\u001b[0m\u001b[1;33m\u001b[0m\u001b[1;33m\u001b[0m\u001b[0m\n\u001b[0m\u001b[0;32m    605\u001b[0m \u001b[1;33m\u001b[0m\u001b[0m\n\u001b[0;32m    606\u001b[0m   \u001b[1;33m@\u001b[0m\u001b[0mstaticmethod\u001b[0m\u001b[1;33m\u001b[0m\u001b[1;33m\u001b[0m\u001b[0m\n",
      "\u001b[1;32mC:\\Python38\\lib\\site-packages\\tensorflow\\python\\data\\ops\\dataset_ops.py\u001b[0m in \u001b[0;36m__init__\u001b[1;34m(self, element)\u001b[0m\n\u001b[0;32m   2980\u001b[0m   \u001b[1;32mdef\u001b[0m \u001b[0m__init__\u001b[0m\u001b[1;33m(\u001b[0m\u001b[0mself\u001b[0m\u001b[1;33m,\u001b[0m \u001b[0melement\u001b[0m\u001b[1;33m)\u001b[0m\u001b[1;33m:\u001b[0m\u001b[1;33m\u001b[0m\u001b[1;33m\u001b[0m\u001b[0m\n\u001b[0;32m   2981\u001b[0m     \u001b[1;34m\"\"\"See `Dataset.from_tensors()` for details.\"\"\"\u001b[0m\u001b[1;33m\u001b[0m\u001b[1;33m\u001b[0m\u001b[0m\n\u001b[1;32m-> 2982\u001b[1;33m     \u001b[0melement\u001b[0m \u001b[1;33m=\u001b[0m \u001b[0mstructure\u001b[0m\u001b[1;33m.\u001b[0m\u001b[0mnormalize_element\u001b[0m\u001b[1;33m(\u001b[0m\u001b[0melement\u001b[0m\u001b[1;33m)\u001b[0m\u001b[1;33m\u001b[0m\u001b[1;33m\u001b[0m\u001b[0m\n\u001b[0m\u001b[0;32m   2983\u001b[0m     \u001b[0mself\u001b[0m\u001b[1;33m.\u001b[0m\u001b[0m_structure\u001b[0m \u001b[1;33m=\u001b[0m \u001b[0mstructure\u001b[0m\u001b[1;33m.\u001b[0m\u001b[0mtype_spec_from_value\u001b[0m\u001b[1;33m(\u001b[0m\u001b[0melement\u001b[0m\u001b[1;33m)\u001b[0m\u001b[1;33m\u001b[0m\u001b[1;33m\u001b[0m\u001b[0m\n\u001b[0;32m   2984\u001b[0m     \u001b[0mself\u001b[0m\u001b[1;33m.\u001b[0m\u001b[0m_tensors\u001b[0m \u001b[1;33m=\u001b[0m \u001b[0mstructure\u001b[0m\u001b[1;33m.\u001b[0m\u001b[0mto_tensor_list\u001b[0m\u001b[1;33m(\u001b[0m\u001b[0mself\u001b[0m\u001b[1;33m.\u001b[0m\u001b[0m_structure\u001b[0m\u001b[1;33m,\u001b[0m \u001b[0melement\u001b[0m\u001b[1;33m)\u001b[0m\u001b[1;33m\u001b[0m\u001b[1;33m\u001b[0m\u001b[0m\n",
      "\u001b[1;32mC:\\Python38\\lib\\site-packages\\tensorflow\\python\\data\\util\\structure.py\u001b[0m in \u001b[0;36mnormalize_element\u001b[1;34m(element)\u001b[0m\n\u001b[0;32m     96\u001b[0m         \u001b[1;31m# the value. As a fallback try converting the value to a tensor.\u001b[0m\u001b[1;33m\u001b[0m\u001b[1;33m\u001b[0m\u001b[1;33m\u001b[0m\u001b[0m\n\u001b[0;32m     97\u001b[0m         normalized_components.append(\n\u001b[1;32m---> 98\u001b[1;33m             ops.convert_to_tensor(t, name=\"component_%d\" % i))\n\u001b[0m\u001b[0;32m     99\u001b[0m       \u001b[1;32melse\u001b[0m\u001b[1;33m:\u001b[0m\u001b[1;33m\u001b[0m\u001b[1;33m\u001b[0m\u001b[0m\n\u001b[0;32m    100\u001b[0m         \u001b[1;32mif\u001b[0m \u001b[0misinstance\u001b[0m\u001b[1;33m(\u001b[0m\u001b[0mspec\u001b[0m\u001b[1;33m,\u001b[0m \u001b[0msparse_tensor\u001b[0m\u001b[1;33m.\u001b[0m\u001b[0mSparseTensorSpec\u001b[0m\u001b[1;33m)\u001b[0m\u001b[1;33m:\u001b[0m\u001b[1;33m\u001b[0m\u001b[1;33m\u001b[0m\u001b[0m\n",
      "\u001b[1;32mC:\\Python38\\lib\\site-packages\\tensorflow\\python\\framework\\ops.py\u001b[0m in \u001b[0;36mconvert_to_tensor\u001b[1;34m(value, dtype, name, as_ref, preferred_dtype, dtype_hint, ctx, accepted_result_types)\u001b[0m\n\u001b[0;32m   1497\u001b[0m \u001b[1;33m\u001b[0m\u001b[0m\n\u001b[0;32m   1498\u001b[0m     \u001b[1;32mif\u001b[0m \u001b[0mret\u001b[0m \u001b[1;32mis\u001b[0m \u001b[1;32mNone\u001b[0m\u001b[1;33m:\u001b[0m\u001b[1;33m\u001b[0m\u001b[1;33m\u001b[0m\u001b[0m\n\u001b[1;32m-> 1499\u001b[1;33m       \u001b[0mret\u001b[0m \u001b[1;33m=\u001b[0m \u001b[0mconversion_func\u001b[0m\u001b[1;33m(\u001b[0m\u001b[0mvalue\u001b[0m\u001b[1;33m,\u001b[0m \u001b[0mdtype\u001b[0m\u001b[1;33m=\u001b[0m\u001b[0mdtype\u001b[0m\u001b[1;33m,\u001b[0m \u001b[0mname\u001b[0m\u001b[1;33m=\u001b[0m\u001b[0mname\u001b[0m\u001b[1;33m,\u001b[0m \u001b[0mas_ref\u001b[0m\u001b[1;33m=\u001b[0m\u001b[0mas_ref\u001b[0m\u001b[1;33m)\u001b[0m\u001b[1;33m\u001b[0m\u001b[1;33m\u001b[0m\u001b[0m\n\u001b[0m\u001b[0;32m   1500\u001b[0m \u001b[1;33m\u001b[0m\u001b[0m\n\u001b[0;32m   1501\u001b[0m     \u001b[1;32mif\u001b[0m \u001b[0mret\u001b[0m \u001b[1;32mis\u001b[0m \u001b[0mNotImplemented\u001b[0m\u001b[1;33m:\u001b[0m\u001b[1;33m\u001b[0m\u001b[1;33m\u001b[0m\u001b[0m\n",
      "\u001b[1;32mC:\\Python38\\lib\\site-packages\\tensorflow\\python\\framework\\constant_op.py\u001b[0m in \u001b[0;36m_constant_tensor_conversion_function\u001b[1;34m(v, dtype, name, as_ref)\u001b[0m\n\u001b[0;32m    336\u001b[0m                                          as_ref=False):\n\u001b[0;32m    337\u001b[0m   \u001b[0m_\u001b[0m \u001b[1;33m=\u001b[0m \u001b[0mas_ref\u001b[0m\u001b[1;33m\u001b[0m\u001b[1;33m\u001b[0m\u001b[0m\n\u001b[1;32m--> 338\u001b[1;33m   \u001b[1;32mreturn\u001b[0m \u001b[0mconstant\u001b[0m\u001b[1;33m(\u001b[0m\u001b[0mv\u001b[0m\u001b[1;33m,\u001b[0m \u001b[0mdtype\u001b[0m\u001b[1;33m=\u001b[0m\u001b[0mdtype\u001b[0m\u001b[1;33m,\u001b[0m \u001b[0mname\u001b[0m\u001b[1;33m=\u001b[0m\u001b[0mname\u001b[0m\u001b[1;33m)\u001b[0m\u001b[1;33m\u001b[0m\u001b[1;33m\u001b[0m\u001b[0m\n\u001b[0m\u001b[0;32m    339\u001b[0m \u001b[1;33m\u001b[0m\u001b[0m\n\u001b[0;32m    340\u001b[0m \u001b[1;33m\u001b[0m\u001b[0m\n",
      "\u001b[1;32mC:\\Python38\\lib\\site-packages\\tensorflow\\python\\framework\\constant_op.py\u001b[0m in \u001b[0;36mconstant\u001b[1;34m(value, dtype, shape, name)\u001b[0m\n\u001b[0;32m    261\u001b[0m     \u001b[0mValueError\u001b[0m\u001b[1;33m:\u001b[0m \u001b[1;32mif\u001b[0m \u001b[0mcalled\u001b[0m \u001b[0mon\u001b[0m \u001b[0ma\u001b[0m \u001b[0msymbolic\u001b[0m \u001b[0mtensor\u001b[0m\u001b[1;33m.\u001b[0m\u001b[1;33m\u001b[0m\u001b[1;33m\u001b[0m\u001b[0m\n\u001b[0;32m    262\u001b[0m   \"\"\"\n\u001b[1;32m--> 263\u001b[1;33m   return _constant_impl(value, dtype, shape, name, verify_shape=False,\n\u001b[0m\u001b[0;32m    264\u001b[0m                         allow_broadcast=True)\n\u001b[0;32m    265\u001b[0m \u001b[1;33m\u001b[0m\u001b[0m\n",
      "\u001b[1;32mC:\\Python38\\lib\\site-packages\\tensorflow\\python\\framework\\constant_op.py\u001b[0m in \u001b[0;36m_constant_impl\u001b[1;34m(value, dtype, shape, name, verify_shape, allow_broadcast)\u001b[0m\n\u001b[0;32m    273\u001b[0m       \u001b[1;32mwith\u001b[0m \u001b[0mtrace\u001b[0m\u001b[1;33m.\u001b[0m\u001b[0mTrace\u001b[0m\u001b[1;33m(\u001b[0m\u001b[1;34m\"tf.constant\"\u001b[0m\u001b[1;33m)\u001b[0m\u001b[1;33m:\u001b[0m\u001b[1;33m\u001b[0m\u001b[1;33m\u001b[0m\u001b[0m\n\u001b[0;32m    274\u001b[0m         \u001b[1;32mreturn\u001b[0m \u001b[0m_constant_eager_impl\u001b[0m\u001b[1;33m(\u001b[0m\u001b[0mctx\u001b[0m\u001b[1;33m,\u001b[0m \u001b[0mvalue\u001b[0m\u001b[1;33m,\u001b[0m \u001b[0mdtype\u001b[0m\u001b[1;33m,\u001b[0m \u001b[0mshape\u001b[0m\u001b[1;33m,\u001b[0m \u001b[0mverify_shape\u001b[0m\u001b[1;33m)\u001b[0m\u001b[1;33m\u001b[0m\u001b[1;33m\u001b[0m\u001b[0m\n\u001b[1;32m--> 275\u001b[1;33m     \u001b[1;32mreturn\u001b[0m \u001b[0m_constant_eager_impl\u001b[0m\u001b[1;33m(\u001b[0m\u001b[0mctx\u001b[0m\u001b[1;33m,\u001b[0m \u001b[0mvalue\u001b[0m\u001b[1;33m,\u001b[0m \u001b[0mdtype\u001b[0m\u001b[1;33m,\u001b[0m \u001b[0mshape\u001b[0m\u001b[1;33m,\u001b[0m \u001b[0mverify_shape\u001b[0m\u001b[1;33m)\u001b[0m\u001b[1;33m\u001b[0m\u001b[1;33m\u001b[0m\u001b[0m\n\u001b[0m\u001b[0;32m    276\u001b[0m \u001b[1;33m\u001b[0m\u001b[0m\n\u001b[0;32m    277\u001b[0m   \u001b[0mg\u001b[0m \u001b[1;33m=\u001b[0m \u001b[0mops\u001b[0m\u001b[1;33m.\u001b[0m\u001b[0mget_default_graph\u001b[0m\u001b[1;33m(\u001b[0m\u001b[1;33m)\u001b[0m\u001b[1;33m\u001b[0m\u001b[1;33m\u001b[0m\u001b[0m\n",
      "\u001b[1;32mC:\\Python38\\lib\\site-packages\\tensorflow\\python\\framework\\constant_op.py\u001b[0m in \u001b[0;36m_constant_eager_impl\u001b[1;34m(ctx, value, dtype, shape, verify_shape)\u001b[0m\n\u001b[0;32m    298\u001b[0m \u001b[1;32mdef\u001b[0m \u001b[0m_constant_eager_impl\u001b[0m\u001b[1;33m(\u001b[0m\u001b[0mctx\u001b[0m\u001b[1;33m,\u001b[0m \u001b[0mvalue\u001b[0m\u001b[1;33m,\u001b[0m \u001b[0mdtype\u001b[0m\u001b[1;33m,\u001b[0m \u001b[0mshape\u001b[0m\u001b[1;33m,\u001b[0m \u001b[0mverify_shape\u001b[0m\u001b[1;33m)\u001b[0m\u001b[1;33m:\u001b[0m\u001b[1;33m\u001b[0m\u001b[1;33m\u001b[0m\u001b[0m\n\u001b[0;32m    299\u001b[0m   \u001b[1;34m\"\"\"Implementation of eager constant.\"\"\"\u001b[0m\u001b[1;33m\u001b[0m\u001b[1;33m\u001b[0m\u001b[0m\n\u001b[1;32m--> 300\u001b[1;33m   \u001b[0mt\u001b[0m \u001b[1;33m=\u001b[0m \u001b[0mconvert_to_eager_tensor\u001b[0m\u001b[1;33m(\u001b[0m\u001b[0mvalue\u001b[0m\u001b[1;33m,\u001b[0m \u001b[0mctx\u001b[0m\u001b[1;33m,\u001b[0m \u001b[0mdtype\u001b[0m\u001b[1;33m)\u001b[0m\u001b[1;33m\u001b[0m\u001b[1;33m\u001b[0m\u001b[0m\n\u001b[0m\u001b[0;32m    301\u001b[0m   \u001b[1;32mif\u001b[0m \u001b[0mshape\u001b[0m \u001b[1;32mis\u001b[0m \u001b[1;32mNone\u001b[0m\u001b[1;33m:\u001b[0m\u001b[1;33m\u001b[0m\u001b[1;33m\u001b[0m\u001b[0m\n\u001b[0;32m    302\u001b[0m     \u001b[1;32mreturn\u001b[0m \u001b[0mt\u001b[0m\u001b[1;33m\u001b[0m\u001b[1;33m\u001b[0m\u001b[0m\n",
      "\u001b[1;32mC:\\Python38\\lib\\site-packages\\tensorflow\\python\\framework\\constant_op.py\u001b[0m in \u001b[0;36mconvert_to_eager_tensor\u001b[1;34m(value, ctx, dtype)\u001b[0m\n\u001b[0;32m     96\u001b[0m       \u001b[0mdtype\u001b[0m \u001b[1;33m=\u001b[0m \u001b[0mdtypes\u001b[0m\u001b[1;33m.\u001b[0m\u001b[0mas_dtype\u001b[0m\u001b[1;33m(\u001b[0m\u001b[0mdtype\u001b[0m\u001b[1;33m)\u001b[0m\u001b[1;33m.\u001b[0m\u001b[0mas_datatype_enum\u001b[0m\u001b[1;33m\u001b[0m\u001b[1;33m\u001b[0m\u001b[0m\n\u001b[0;32m     97\u001b[0m   \u001b[0mctx\u001b[0m\u001b[1;33m.\u001b[0m\u001b[0mensure_initialized\u001b[0m\u001b[1;33m(\u001b[0m\u001b[1;33m)\u001b[0m\u001b[1;33m\u001b[0m\u001b[1;33m\u001b[0m\u001b[0m\n\u001b[1;32m---> 98\u001b[1;33m   \u001b[1;32mreturn\u001b[0m \u001b[0mops\u001b[0m\u001b[1;33m.\u001b[0m\u001b[0mEagerTensor\u001b[0m\u001b[1;33m(\u001b[0m\u001b[0mvalue\u001b[0m\u001b[1;33m,\u001b[0m \u001b[0mctx\u001b[0m\u001b[1;33m.\u001b[0m\u001b[0mdevice_name\u001b[0m\u001b[1;33m,\u001b[0m \u001b[0mdtype\u001b[0m\u001b[1;33m)\u001b[0m\u001b[1;33m\u001b[0m\u001b[1;33m\u001b[0m\u001b[0m\n\u001b[0m\u001b[0;32m     99\u001b[0m \u001b[1;33m\u001b[0m\u001b[0m\n\u001b[0;32m    100\u001b[0m \u001b[1;33m\u001b[0m\u001b[0m\n",
      "\u001b[1;31mValueError\u001b[0m: Failed to convert a NumPy array to a Tensor (Unsupported object type int)."
     ]
    }
   ],
   "source": [
    "from keras.models import Sequential\n",
    "from keras.layers import Dense\n",
    "\n",
    "model=Sequential()\n",
    "\n",
    "model.add(Dense(256, input_shape=(166,), activation='tanh'))\n",
    "model.add(Dense(128, activation='tanh'))\n",
    "model.add(Dense(64, activation='tanh'))\n",
    "model.add(Dense(32, activation='tanh'))\n",
    "model.add(Dense(16, activation='tanh'))\n",
    "model.add(Dense(6, activation='softmax'))\n",
    "\n",
    "model.compile(loss='categorical_crossentropy', optimizer='adam', metrics=['accuracy'])\n",
    "\n",
    "\n",
    "history = model.fit(X_train, Y_train, validation_data = (X_train, Y_test), epochs=10)\n",
    "\n",
    "Y_predicted = model.predict(X_test)\n",
    "matrix = confusion_matrix_pca(Y_predicted, Y_test)"
   ]
  },
  {
   "cell_type": "code",
   "execution_count": null,
   "metadata": {},
   "outputs": [],
   "source": []
  }
 ],
 "metadata": {
  "kernelspec": {
   "display_name": "Python 3",
   "language": "python",
   "name": "python3"
  },
  "language_info": {
   "codemirror_mode": {
    "name": "ipython",
    "version": 3
   },
   "file_extension": ".py",
   "mimetype": "text/x-python",
   "name": "python",
   "nbconvert_exporter": "python",
   "pygments_lexer": "ipython3",
   "version": "3.8.3-final"
  }
 },
 "nbformat": 4,
 "nbformat_minor": 2
}