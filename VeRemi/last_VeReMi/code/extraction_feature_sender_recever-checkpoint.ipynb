{
 "cells": [
  {
   "cell_type": "code",
   "execution_count": 115,
   "metadata": {},
   "outputs": [],
   "source": [
    "import pandas as pd\n",
    "import numpy as np\n",
    "import matplotlib.pyplot as plt\n",
    "from sklearn.model_selection import train_test_split"
   ]
  },
  {
   "cell_type": "code",
   "execution_count": 116,
   "metadata": {},
   "outputs": [
    {
     "output_type": "execute_result",
     "data": {
      "text/plain": [
       "         type       rcvTime      sendTime  sender  messageID          RSSI  \\\n",
       "0           3  10800.392893  10800.392785      13         38  1.115287e-07   \n",
       "1           3  10800.456258  10800.456150      31        104  3.218740e-09   \n",
       "2           3  10800.582131  10800.582020      25        137  2.900248e-09   \n",
       "3           3  10800.670748  10800.670638      43        172  1.746131e-08   \n",
       "4           3  10800.870128  10800.870012      19        193  3.710398e-07   \n",
       "...       ...           ...           ...     ...        ...           ...   \n",
       "2088612     3  18099.241156  18099.241039      37     258558  2.991132e-09   \n",
       "2088613     3  18099.347898  18099.347788     331     258902  2.692616e-09   \n",
       "2088614     3  18099.672892  18099.672783     241     259570  8.478235e-09   \n",
       "2088615     3  18099.711685  18099.711569     589     259754  2.100614e-09   \n",
       "2088616     3  18098.268157  18098.268049     493     255689  1.377767e-09   \n",
       "\n",
       "         receiver        pos_x        pos_y  pos_z      spd_x      spd_y  \\\n",
       "0               7  3597.152086  5542.199221  1.895  -3.178366  38.798969   \n",
       "1               7  3596.805861  5692.113417  1.895   1.282467 -29.864003   \n",
       "2               7  3597.770493  5764.800893  1.895  -0.020161 -34.568848   \n",
       "3               7  3822.892006  5266.806009  1.895   1.305362  -0.988730   \n",
       "4               7  3617.100034  5417.782781  1.895   4.937950 -39.877578   \n",
       "...           ...          ...          ...    ...        ...        ...   \n",
       "2088612       595  5915.089159  5438.393654  1.895  -5.822041 -11.743324   \n",
       "2088613       595  5871.660328  5712.603102  1.895   5.239626   0.604247   \n",
       "2088614       595  6173.110903  5739.391327  1.895  14.245848   0.729113   \n",
       "2088615       595  6225.788607  6314.059024  1.895  14.974152  -5.075921   \n",
       "2088616       601  2948.633298  5192.395538  1.895  15.923568  -4.379078   \n",
       "\n",
       "         spd_z   global_pos  global_spd  attackerType simulation_directory  \n",
       "0          0.0  6607.229293   38.928936             0            0_3_16_01  \n",
       "1          0.0  6733.288286   29.891527             0            0_3_16_01  \n",
       "2          0.0  6795.357639   34.568854             0            0_3_16_01  \n",
       "3          0.0  6507.976062    1.637546             0            0_3_16_01  \n",
       "4          0.0  6514.275594   40.182143             0            0_3_16_01  \n",
       "...        ...          ...         ...           ...                  ...  \n",
       "2088612    0.0  8035.198124   13.107319             8             4_5_8_03  \n",
       "2088613    0.0  8192.083545    5.274353             0             4_5_8_03  \n",
       "2088614    0.0  8428.992503   14.264494             0             4_5_8_03  \n",
       "2088615    0.0  8867.231177   15.811078             8             4_5_8_03  \n",
       "2088616    0.0  5971.215399   16.514731             8             4_5_8_03  \n",
       "\n",
       "[2088617 rows x 17 columns]"
      ],
      "text/html": "<div>\n<style scoped>\n    .dataframe tbody tr th:only-of-type {\n        vertical-align: middle;\n    }\n\n    .dataframe tbody tr th {\n        vertical-align: top;\n    }\n\n    .dataframe thead th {\n        text-align: right;\n    }\n</style>\n<table border=\"1\" class=\"dataframe\">\n  <thead>\n    <tr style=\"text-align: right;\">\n      <th></th>\n      <th>type</th>\n      <th>rcvTime</th>\n      <th>sendTime</th>\n      <th>sender</th>\n      <th>messageID</th>\n      <th>RSSI</th>\n      <th>receiver</th>\n      <th>pos_x</th>\n      <th>pos_y</th>\n      <th>pos_z</th>\n      <th>spd_x</th>\n      <th>spd_y</th>\n      <th>spd_z</th>\n      <th>global_pos</th>\n      <th>global_spd</th>\n      <th>attackerType</th>\n      <th>simulation_directory</th>\n    </tr>\n  </thead>\n  <tbody>\n    <tr>\n      <th>0</th>\n      <td>3</td>\n      <td>10800.392893</td>\n      <td>10800.392785</td>\n      <td>13</td>\n      <td>38</td>\n      <td>1.115287e-07</td>\n      <td>7</td>\n      <td>3597.152086</td>\n      <td>5542.199221</td>\n      <td>1.895</td>\n      <td>-3.178366</td>\n      <td>38.798969</td>\n      <td>0.0</td>\n      <td>6607.229293</td>\n      <td>38.928936</td>\n      <td>0</td>\n      <td>0_3_16_01</td>\n    </tr>\n    <tr>\n      <th>1</th>\n      <td>3</td>\n      <td>10800.456258</td>\n      <td>10800.456150</td>\n      <td>31</td>\n      <td>104</td>\n      <td>3.218740e-09</td>\n      <td>7</td>\n      <td>3596.805861</td>\n      <td>5692.113417</td>\n      <td>1.895</td>\n      <td>1.282467</td>\n      <td>-29.864003</td>\n      <td>0.0</td>\n      <td>6733.288286</td>\n      <td>29.891527</td>\n      <td>0</td>\n      <td>0_3_16_01</td>\n    </tr>\n    <tr>\n      <th>2</th>\n      <td>3</td>\n      <td>10800.582131</td>\n      <td>10800.582020</td>\n      <td>25</td>\n      <td>137</td>\n      <td>2.900248e-09</td>\n      <td>7</td>\n      <td>3597.770493</td>\n      <td>5764.800893</td>\n      <td>1.895</td>\n      <td>-0.020161</td>\n      <td>-34.568848</td>\n      <td>0.0</td>\n      <td>6795.357639</td>\n      <td>34.568854</td>\n      <td>0</td>\n      <td>0_3_16_01</td>\n    </tr>\n    <tr>\n      <th>3</th>\n      <td>3</td>\n      <td>10800.670748</td>\n      <td>10800.670638</td>\n      <td>43</td>\n      <td>172</td>\n      <td>1.746131e-08</td>\n      <td>7</td>\n      <td>3822.892006</td>\n      <td>5266.806009</td>\n      <td>1.895</td>\n      <td>1.305362</td>\n      <td>-0.988730</td>\n      <td>0.0</td>\n      <td>6507.976062</td>\n      <td>1.637546</td>\n      <td>0</td>\n      <td>0_3_16_01</td>\n    </tr>\n    <tr>\n      <th>4</th>\n      <td>3</td>\n      <td>10800.870128</td>\n      <td>10800.870012</td>\n      <td>19</td>\n      <td>193</td>\n      <td>3.710398e-07</td>\n      <td>7</td>\n      <td>3617.100034</td>\n      <td>5417.782781</td>\n      <td>1.895</td>\n      <td>4.937950</td>\n      <td>-39.877578</td>\n      <td>0.0</td>\n      <td>6514.275594</td>\n      <td>40.182143</td>\n      <td>0</td>\n      <td>0_3_16_01</td>\n    </tr>\n    <tr>\n      <th>...</th>\n      <td>...</td>\n      <td>...</td>\n      <td>...</td>\n      <td>...</td>\n      <td>...</td>\n      <td>...</td>\n      <td>...</td>\n      <td>...</td>\n      <td>...</td>\n      <td>...</td>\n      <td>...</td>\n      <td>...</td>\n      <td>...</td>\n      <td>...</td>\n      <td>...</td>\n      <td>...</td>\n      <td>...</td>\n    </tr>\n    <tr>\n      <th>2088612</th>\n      <td>3</td>\n      <td>18099.241156</td>\n      <td>18099.241039</td>\n      <td>37</td>\n      <td>258558</td>\n      <td>2.991132e-09</td>\n      <td>595</td>\n      <td>5915.089159</td>\n      <td>5438.393654</td>\n      <td>1.895</td>\n      <td>-5.822041</td>\n      <td>-11.743324</td>\n      <td>0.0</td>\n      <td>8035.198124</td>\n      <td>13.107319</td>\n      <td>8</td>\n      <td>4_5_8_03</td>\n    </tr>\n    <tr>\n      <th>2088613</th>\n      <td>3</td>\n      <td>18099.347898</td>\n      <td>18099.347788</td>\n      <td>331</td>\n      <td>258902</td>\n      <td>2.692616e-09</td>\n      <td>595</td>\n      <td>5871.660328</td>\n      <td>5712.603102</td>\n      <td>1.895</td>\n      <td>5.239626</td>\n      <td>0.604247</td>\n      <td>0.0</td>\n      <td>8192.083545</td>\n      <td>5.274353</td>\n      <td>0</td>\n      <td>4_5_8_03</td>\n    </tr>\n    <tr>\n      <th>2088614</th>\n      <td>3</td>\n      <td>18099.672892</td>\n      <td>18099.672783</td>\n      <td>241</td>\n      <td>259570</td>\n      <td>8.478235e-09</td>\n      <td>595</td>\n      <td>6173.110903</td>\n      <td>5739.391327</td>\n      <td>1.895</td>\n      <td>14.245848</td>\n      <td>0.729113</td>\n      <td>0.0</td>\n      <td>8428.992503</td>\n      <td>14.264494</td>\n      <td>0</td>\n      <td>4_5_8_03</td>\n    </tr>\n    <tr>\n      <th>2088615</th>\n      <td>3</td>\n      <td>18099.711685</td>\n      <td>18099.711569</td>\n      <td>589</td>\n      <td>259754</td>\n      <td>2.100614e-09</td>\n      <td>595</td>\n      <td>6225.788607</td>\n      <td>6314.059024</td>\n      <td>1.895</td>\n      <td>14.974152</td>\n      <td>-5.075921</td>\n      <td>0.0</td>\n      <td>8867.231177</td>\n      <td>15.811078</td>\n      <td>8</td>\n      <td>4_5_8_03</td>\n    </tr>\n    <tr>\n      <th>2088616</th>\n      <td>3</td>\n      <td>18098.268157</td>\n      <td>18098.268049</td>\n      <td>493</td>\n      <td>255689</td>\n      <td>1.377767e-09</td>\n      <td>601</td>\n      <td>2948.633298</td>\n      <td>5192.395538</td>\n      <td>1.895</td>\n      <td>15.923568</td>\n      <td>-4.379078</td>\n      <td>0.0</td>\n      <td>5971.215399</td>\n      <td>16.514731</td>\n      <td>8</td>\n      <td>4_5_8_03</td>\n    </tr>\n  </tbody>\n</table>\n<p>2088617 rows × 17 columns</p>\n</div>"
     },
     "metadata": {},
     "execution_count": 116
    }
   ],
   "source": [
    "df = pd.read_csv(\"../database/cleandataVeReMi_with_directory.csv\")\n",
    "df"
   ]
  },
  {
   "cell_type": "code",
   "execution_count": 117,
   "metadata": {},
   "outputs": [
    {
     "output_type": "stream",
     "name": "stdout",
     "text": [
      "0  :  1656656\n",
      "16  :  82422\n",
      "1  :  87849\n",
      "2  :  84768\n",
      "4  :  86101\n",
      "8  :  90821\n"
     ]
    }
   ],
   "source": [
    "for element in df.attackerType.unique():\n",
    "    print(element, \" : \",len(df[df.attackerType == element]))"
   ]
  },
  {
   "cell_type": "code",
   "execution_count": 118,
   "metadata": {},
   "outputs": [],
   "source": [
    "list_all_df = []\n",
    "for element in df.attackerType.unique():\n",
    "    list_all_df.append(df[df.attackerType == element])"
   ]
  },
  {
   "cell_type": "code",
   "execution_count": 119,
   "metadata": {},
   "outputs": [],
   "source": [
    "df_normal_cuted = list_all_df[0].loc[:90000]\n",
    "del list_all_df[0]\n",
    "list_all_df.append(df_normal_cuted)"
   ]
  },
  {
   "cell_type": "code",
   "execution_count": 120,
   "metadata": {},
   "outputs": [],
   "source": [
    "df = pd.concat(list_all_df)"
   ]
  },
  {
   "cell_type": "code",
   "execution_count": 121,
   "metadata": {},
   "outputs": [],
   "source": [
    "simulation_directory_columns = pd.get_dummies(df.simulation_directory)"
   ]
  },
  {
   "cell_type": "code",
   "execution_count": 122,
   "metadata": {},
   "outputs": [
    {
     "output_type": "execute_result",
     "data": {
      "text/plain": [
       "       type       rcvTime      sendTime  sender  messageID          RSSI  \\\n",
       "29        3  10806.068194  10806.068074      49       1058  4.811574e-09   \n",
       "33        3  10807.068185  10807.068074      49       1233  1.713595e-09   \n",
       "35        3  10808.068190  10808.068074      49       1386  3.495146e-09   \n",
       "38        3  10809.068181  10809.068074      49       1523  2.178013e-08   \n",
       "43        3  10810.068188  10810.068074      49       1686  2.623159e-08   \n",
       "...     ...           ...           ...     ...        ...           ...   \n",
       "89995     3  18020.705261  18020.705150     211      58719  1.525677e-07   \n",
       "89996     3  18020.779095  18020.778977     265      58936  9.610718e-09   \n",
       "89998     3  18020.995253  18020.995140     223      59458  2.964105e-06   \n",
       "89999     3  18021.050485  18021.050370     169      59749  2.328150e-09   \n",
       "90000     3  18021.076874  18021.076765     217      59871  1.526193e-08   \n",
       "\n",
       "       receiver        pos_x        pos_y  pos_z  ...  4_5_1_03  4_5_2_01  \\\n",
       "29            7  3609.810029  6079.843510  1.895  ...         0         0   \n",
       "33            7  3606.112051  6047.735275  1.895  ...         0         0   \n",
       "35            7  3606.112051  6047.735275  1.895  ...         0         0   \n",
       "38            7  3606.112051  6047.735275  1.895  ...         0         0   \n",
       "43            7  3606.112051  6047.735275  1.895  ...         0         0   \n",
       "...         ...          ...          ...    ...  ...       ...       ...   \n",
       "89995       277  3590.066777  5694.221862  1.895  ...         0         0   \n",
       "89996       277  3597.291846  5580.854062  1.895  ...         0         0   \n",
       "89998       277  3591.363398  5663.166773  1.895  ...         0         0   \n",
       "89999       277  3753.400079  5247.494599  1.895  ...         0         0   \n",
       "90000       277  3585.419566  5726.442561  1.895  ...         0         0   \n",
       "\n",
       "       4_5_2_02  4_5_2_03  4_5_4_01  4_5_4_02 4_5_4_03  4_5_8_01  4_5_8_02  \\\n",
       "29            0         0         0         0        0         0         0   \n",
       "33            0         0         0         0        0         0         0   \n",
       "35            0         0         0         0        0         0         0   \n",
       "38            0         0         0         0        0         0         0   \n",
       "43            0         0         0         0        0         0         0   \n",
       "...         ...       ...       ...       ...      ...       ...       ...   \n",
       "89995         0         0         0         0        0         0         0   \n",
       "89996         0         0         0         0        0         0         0   \n",
       "89998         0         0         0         0        0         0         0   \n",
       "89999         0         0         0         0        0         0         0   \n",
       "90000         0         0         0         0        0         0         0   \n",
       "\n",
       "       4_5_8_03  \n",
       "29            0  \n",
       "33            0  \n",
       "35            0  \n",
       "38            0  \n",
       "43            0  \n",
       "...         ...  \n",
       "89995         0  \n",
       "89996         0  \n",
       "89998         0  \n",
       "89999         0  \n",
       "90000         0  \n",
       "\n",
       "[511381 rows x 167 columns]"
      ],
      "text/html": "<div>\n<style scoped>\n    .dataframe tbody tr th:only-of-type {\n        vertical-align: middle;\n    }\n\n    .dataframe tbody tr th {\n        vertical-align: top;\n    }\n\n    .dataframe thead th {\n        text-align: right;\n    }\n</style>\n<table border=\"1\" class=\"dataframe\">\n  <thead>\n    <tr style=\"text-align: right;\">\n      <th></th>\n      <th>type</th>\n      <th>rcvTime</th>\n      <th>sendTime</th>\n      <th>sender</th>\n      <th>messageID</th>\n      <th>RSSI</th>\n      <th>receiver</th>\n      <th>pos_x</th>\n      <th>pos_y</th>\n      <th>pos_z</th>\n      <th>...</th>\n      <th>4_5_1_03</th>\n      <th>4_5_2_01</th>\n      <th>4_5_2_02</th>\n      <th>4_5_2_03</th>\n      <th>4_5_4_01</th>\n      <th>4_5_4_02</th>\n      <th>4_5_4_03</th>\n      <th>4_5_8_01</th>\n      <th>4_5_8_02</th>\n      <th>4_5_8_03</th>\n    </tr>\n  </thead>\n  <tbody>\n    <tr>\n      <th>29</th>\n      <td>3</td>\n      <td>10806.068194</td>\n      <td>10806.068074</td>\n      <td>49</td>\n      <td>1058</td>\n      <td>4.811574e-09</td>\n      <td>7</td>\n      <td>3609.810029</td>\n      <td>6079.843510</td>\n      <td>1.895</td>\n      <td>...</td>\n      <td>0</td>\n      <td>0</td>\n      <td>0</td>\n      <td>0</td>\n      <td>0</td>\n      <td>0</td>\n      <td>0</td>\n      <td>0</td>\n      <td>0</td>\n      <td>0</td>\n    </tr>\n    <tr>\n      <th>33</th>\n      <td>3</td>\n      <td>10807.068185</td>\n      <td>10807.068074</td>\n      <td>49</td>\n      <td>1233</td>\n      <td>1.713595e-09</td>\n      <td>7</td>\n      <td>3606.112051</td>\n      <td>6047.735275</td>\n      <td>1.895</td>\n      <td>...</td>\n      <td>0</td>\n      <td>0</td>\n      <td>0</td>\n      <td>0</td>\n      <td>0</td>\n      <td>0</td>\n      <td>0</td>\n      <td>0</td>\n      <td>0</td>\n      <td>0</td>\n    </tr>\n    <tr>\n      <th>35</th>\n      <td>3</td>\n      <td>10808.068190</td>\n      <td>10808.068074</td>\n      <td>49</td>\n      <td>1386</td>\n      <td>3.495146e-09</td>\n      <td>7</td>\n      <td>3606.112051</td>\n      <td>6047.735275</td>\n      <td>1.895</td>\n      <td>...</td>\n      <td>0</td>\n      <td>0</td>\n      <td>0</td>\n      <td>0</td>\n      <td>0</td>\n      <td>0</td>\n      <td>0</td>\n      <td>0</td>\n      <td>0</td>\n      <td>0</td>\n    </tr>\n    <tr>\n      <th>38</th>\n      <td>3</td>\n      <td>10809.068181</td>\n      <td>10809.068074</td>\n      <td>49</td>\n      <td>1523</td>\n      <td>2.178013e-08</td>\n      <td>7</td>\n      <td>3606.112051</td>\n      <td>6047.735275</td>\n      <td>1.895</td>\n      <td>...</td>\n      <td>0</td>\n      <td>0</td>\n      <td>0</td>\n      <td>0</td>\n      <td>0</td>\n      <td>0</td>\n      <td>0</td>\n      <td>0</td>\n      <td>0</td>\n      <td>0</td>\n    </tr>\n    <tr>\n      <th>43</th>\n      <td>3</td>\n      <td>10810.068188</td>\n      <td>10810.068074</td>\n      <td>49</td>\n      <td>1686</td>\n      <td>2.623159e-08</td>\n      <td>7</td>\n      <td>3606.112051</td>\n      <td>6047.735275</td>\n      <td>1.895</td>\n      <td>...</td>\n      <td>0</td>\n      <td>0</td>\n      <td>0</td>\n      <td>0</td>\n      <td>0</td>\n      <td>0</td>\n      <td>0</td>\n      <td>0</td>\n      <td>0</td>\n      <td>0</td>\n    </tr>\n    <tr>\n      <th>...</th>\n      <td>...</td>\n      <td>...</td>\n      <td>...</td>\n      <td>...</td>\n      <td>...</td>\n      <td>...</td>\n      <td>...</td>\n      <td>...</td>\n      <td>...</td>\n      <td>...</td>\n      <td>...</td>\n      <td>...</td>\n      <td>...</td>\n      <td>...</td>\n      <td>...</td>\n      <td>...</td>\n      <td>...</td>\n      <td>...</td>\n      <td>...</td>\n      <td>...</td>\n      <td>...</td>\n    </tr>\n    <tr>\n      <th>89995</th>\n      <td>3</td>\n      <td>18020.705261</td>\n      <td>18020.705150</td>\n      <td>211</td>\n      <td>58719</td>\n      <td>1.525677e-07</td>\n      <td>277</td>\n      <td>3590.066777</td>\n      <td>5694.221862</td>\n      <td>1.895</td>\n      <td>...</td>\n      <td>0</td>\n      <td>0</td>\n      <td>0</td>\n      <td>0</td>\n      <td>0</td>\n      <td>0</td>\n      <td>0</td>\n      <td>0</td>\n      <td>0</td>\n      <td>0</td>\n    </tr>\n    <tr>\n      <th>89996</th>\n      <td>3</td>\n      <td>18020.779095</td>\n      <td>18020.778977</td>\n      <td>265</td>\n      <td>58936</td>\n      <td>9.610718e-09</td>\n      <td>277</td>\n      <td>3597.291846</td>\n      <td>5580.854062</td>\n      <td>1.895</td>\n      <td>...</td>\n      <td>0</td>\n      <td>0</td>\n      <td>0</td>\n      <td>0</td>\n      <td>0</td>\n      <td>0</td>\n      <td>0</td>\n      <td>0</td>\n      <td>0</td>\n      <td>0</td>\n    </tr>\n    <tr>\n      <th>89998</th>\n      <td>3</td>\n      <td>18020.995253</td>\n      <td>18020.995140</td>\n      <td>223</td>\n      <td>59458</td>\n      <td>2.964105e-06</td>\n      <td>277</td>\n      <td>3591.363398</td>\n      <td>5663.166773</td>\n      <td>1.895</td>\n      <td>...</td>\n      <td>0</td>\n      <td>0</td>\n      <td>0</td>\n      <td>0</td>\n      <td>0</td>\n      <td>0</td>\n      <td>0</td>\n      <td>0</td>\n      <td>0</td>\n      <td>0</td>\n    </tr>\n    <tr>\n      <th>89999</th>\n      <td>3</td>\n      <td>18021.050485</td>\n      <td>18021.050370</td>\n      <td>169</td>\n      <td>59749</td>\n      <td>2.328150e-09</td>\n      <td>277</td>\n      <td>3753.400079</td>\n      <td>5247.494599</td>\n      <td>1.895</td>\n      <td>...</td>\n      <td>0</td>\n      <td>0</td>\n      <td>0</td>\n      <td>0</td>\n      <td>0</td>\n      <td>0</td>\n      <td>0</td>\n      <td>0</td>\n      <td>0</td>\n      <td>0</td>\n    </tr>\n    <tr>\n      <th>90000</th>\n      <td>3</td>\n      <td>18021.076874</td>\n      <td>18021.076765</td>\n      <td>217</td>\n      <td>59871</td>\n      <td>1.526193e-08</td>\n      <td>277</td>\n      <td>3585.419566</td>\n      <td>5726.442561</td>\n      <td>1.895</td>\n      <td>...</td>\n      <td>0</td>\n      <td>0</td>\n      <td>0</td>\n      <td>0</td>\n      <td>0</td>\n      <td>0</td>\n      <td>0</td>\n      <td>0</td>\n      <td>0</td>\n      <td>0</td>\n    </tr>\n  </tbody>\n</table>\n<p>511381 rows × 167 columns</p>\n</div>"
     },
     "metadata": {},
     "execution_count": 122
    }
   ],
   "source": [
    "for col in simulation_directory_columns.columns:\n",
    "    df[col] = simulation_directory_columns[col]\n",
    "df"
   ]
  },
  {
   "cell_type": "code",
   "execution_count": 123,
   "metadata": {},
   "outputs": [],
   "source": [
    "df = df.drop(['simulation_directory'], axis = 1)"
   ]
  },
  {
   "cell_type": "code",
   "execution_count": 124,
   "metadata": {},
   "outputs": [
    {
     "output_type": "execute_result",
     "data": {
      "text/plain": [
       "(409104, 165)"
      ]
     },
     "metadata": {},
     "execution_count": 124
    }
   ],
   "source": [
    "X = df.drop(['attackerType'], axis = 1)\n",
    "Y = df['attackerType']\n",
    "Y = pd.get_dummies(Y, columns=['attackerType'])\n",
    "\n",
    "X_train, X_test, Y_train, Y_test = train_test_split(X, Y, test_size = 0.2, random_state = 42)\n",
    "np.shape(X_train)"
   ]
  },
  {
   "source": [
    "# Model"
   ],
   "cell_type": "markdown",
   "metadata": {}
  },
  {
   "cell_type": "code",
   "execution_count": 125,
   "metadata": {},
   "outputs": [
    {
     "output_type": "stream",
     "name": "stdout",
     "text": [
      "Epoch 1/10\n",
      "12785/12785 [==============================] - 23s 2ms/step - loss: 1.7132 - accuracy: 0.2554 - val_loss: 1.7290 - val_accuracy: 0.2454\n",
      "Epoch 2/10\n",
      "12785/12785 [==============================] - 20s 2ms/step - loss: 1.7124 - accuracy: 0.2520 - val_loss: 1.7011 - val_accuracy: 0.2679\n",
      "Epoch 3/10\n",
      "12785/12785 [==============================] - 19s 1ms/step - loss: 1.7184 - accuracy: 0.2490 - val_loss: 1.7088 - val_accuracy: 0.2670\n",
      "Epoch 4/10\n",
      "12785/12785 [==============================] - 19s 2ms/step - loss: 1.7135 - accuracy: 0.2525 - val_loss: 1.7542 - val_accuracy: 0.2181\n",
      "Epoch 5/10\n",
      "12785/12785 [==============================] - 19s 2ms/step - loss: 1.7429 - accuracy: 0.2343 - val_loss: 1.7342 - val_accuracy: 0.2489\n",
      "Epoch 6/10\n",
      "12785/12785 [==============================] - 19s 1ms/step - loss: 1.7322 - accuracy: 0.2452 - val_loss: 1.7120 - val_accuracy: 0.2636\n",
      "Epoch 7/10\n",
      "12785/12785 [==============================] - 19s 1ms/step - loss: 1.7206 - accuracy: 0.2485 - val_loss: 1.7155 - val_accuracy: 0.2500\n",
      "Epoch 8/10\n",
      "12785/12785 [==============================] - 19s 1ms/step - loss: 1.7289 - accuracy: 0.2398 - val_loss: 1.7228 - val_accuracy: 0.2382\n",
      "Epoch 9/10\n",
      "12785/12785 [==============================] - 19s 1ms/step - loss: 1.7295 - accuracy: 0.2427 - val_loss: 1.7259 - val_accuracy: 0.2513\n",
      "Epoch 10/10\n",
      "12785/12785 [==============================] - 19s 2ms/step - loss: 1.7761 - accuracy: 0.1997 - val_loss: 1.7488 - val_accuracy: 0.2329\n"
     ]
    },
    {
     "output_type": "execute_result",
     "data": {
      "text/plain": [
       "array([[16097,     0,     0,     0,     0,     0],\n",
       "       [17518,     0,     0,     0,     0,     0],\n",
       "       [16987,     0,     0,     0,     0,     0],\n",
       "       [16237,     0,     0,   857,     0,     0],\n",
       "       [18138,     0,     0,     0,     0,     0],\n",
       "       [16443,     0,     0,     0,     0,     0]], dtype=int64)"
      ]
     },
     "metadata": {},
     "execution_count": 125
    }
   ],
   "source": [
    "from keras.models import Sequential\n",
    "from keras.layers import Dense\n",
    "\n",
    "model=Sequential()\n",
    "\n",
    "model.add(Dense(256, input_shape=(165,), activation='tanh'))\n",
    "model.add(Dense(128, activation='tanh'))\n",
    "model.add(Dense(6, activation='softmax'))\n",
    "\n",
    "model.compile(loss='categorical_crossentropy', optimizer='adam', metrics=['accuracy'])\n",
    "\n",
    "\n",
    "history = model.fit(X_train, Y_train, validation_data = (X_test, Y_test), epochs=10)\n",
    "\n",
    "Y_predicted = model.predict(X_test)\n",
    "matrix = confusion_matrix_pca(Y_predicted, Y_test)\n",
    "matrix"
   ]
  },
  {
   "cell_type": "code",
   "execution_count": 126,
   "metadata": {},
   "outputs": [
    {
     "output_type": "execute_result",
     "data": {
      "text/plain": [
       "array([[16097,     0,     0,     0,     0,     0],\n",
       "       [17518,     0,     0,     0,     0,     0],\n",
       "       [16987,     0,     0,     0,     0,     0],\n",
       "       [16237,     0,     0,   857,     0,     0],\n",
       "       [18138,     0,     0,     0,     0,     0],\n",
       "       [16443,     0,     0,     0,     0,     0]], dtype=int64)"
      ]
     },
     "metadata": {},
     "execution_count": 126
    }
   ],
   "source": [
    "from sklearn.metrics import confusion_matrix\n",
    "from function_PCA import *\n",
    "Y_predicted = model.predict(X_test)\n",
    "matrix = confusion_matrix_pca(Y_predicted, Y_test)\n",
    "matrix"
   ]
  },
  {
   "source": [
    "# Test with PCA"
   ],
   "cell_type": "markdown",
   "metadata": {}
  },
  {
   "cell_type": "code",
   "execution_count": 127,
   "metadata": {},
   "outputs": [
    {
     "output_type": "stream",
     "name": "stdout",
     "text": [
      "Epoch 1/10\n",
      "12785/12785 [==============================] - 14s 1ms/step - loss: 1.7166 - accuracy: 0.2506 - val_loss: 1.6940 - val_accuracy: 0.2562\n",
      "Epoch 2/10\n",
      "12785/12785 [==============================] - 13s 1ms/step - loss: 1.7001 - accuracy: 0.2594 - val_loss: 1.6957 - val_accuracy: 0.2632\n",
      "Epoch 3/10\n",
      "12785/12785 [==============================] - 12s 955us/step - loss: 1.6979 - accuracy: 0.2603 - val_loss: 1.6919 - val_accuracy: 0.2678\n",
      "Epoch 4/10\n",
      "12785/12785 [==============================] - 12s 974us/step - loss: 1.7110 - accuracy: 0.2526 - val_loss: 1.6938 - val_accuracy: 0.2694\n",
      "Epoch 5/10\n",
      "12785/12785 [==============================] - 12s 950us/step - loss: 1.6993 - accuracy: 0.2634 - val_loss: 1.6861 - val_accuracy: 0.2732\n",
      "Epoch 6/10\n",
      "12785/12785 [==============================] - 13s 1ms/step - loss: 1.7010 - accuracy: 0.2611 - val_loss: 1.6954 - val_accuracy: 0.2639\n",
      "Epoch 7/10\n",
      "12785/12785 [==============================] - 12s 971us/step - loss: 1.7017 - accuracy: 0.2607 - val_loss: 1.6921 - val_accuracy: 0.2561\n",
      "Epoch 8/10\n",
      "12785/12785 [==============================] - 13s 979us/step - loss: 1.6997 - accuracy: 0.2603 - val_loss: 1.7014 - val_accuracy: 0.2688\n",
      "Epoch 9/10\n",
      "12785/12785 [==============================] - 13s 990us/step - loss: 1.7012 - accuracy: 0.2584 - val_loss: 1.6924 - val_accuracy: 0.2698\n",
      "Epoch 10/10\n",
      "12785/12785 [==============================] - 13s 1ms/step - loss: 1.6952 - accuracy: 0.2644 - val_loss: 1.6913 - val_accuracy: 0.2670\n",
      "2  :  [[16097     0     0     0     0     0]\n",
      " [17518     0     0     0     0     0]\n",
      " [16987     0     0     0     0     0]\n",
      " [17094     0     0     0     0     0]\n",
      " [18138     0     0     0     0     0]\n",
      " [16443     0     0     0     0     0]]\n",
      "Epoch 1/10\n",
      "12785/12785 [==============================] - 14s 1ms/step - loss: 1.5335 - accuracy: 0.3665 - val_loss: 1.4456 - val_accuracy: 0.4128\n",
      "Epoch 2/10\n",
      "12785/12785 [==============================] - 14s 1ms/step - loss: 1.3811 - accuracy: 0.4387 - val_loss: 1.3458 - val_accuracy: 0.4612\n",
      "Epoch 3/10\n",
      "12785/12785 [==============================] - 13s 1ms/step - loss: 1.3355 - accuracy: 0.4595 - val_loss: 1.3253 - val_accuracy: 0.4528\n",
      "Epoch 4/10\n",
      "12785/12785 [==============================] - 13s 1ms/step - loss: 1.3264 - accuracy: 0.4606 - val_loss: 1.3100 - val_accuracy: 0.4771\n",
      "Epoch 5/10\n",
      "12785/12785 [==============================] - 14s 1ms/step - loss: 1.2907 - accuracy: 0.4751 - val_loss: 1.2624 - val_accuracy: 0.4895\n",
      "Epoch 6/10\n",
      "12785/12785 [==============================] - 11s 822us/step - loss: 1.2720 - accuracy: 0.4846 - val_loss: 1.2659 - val_accuracy: 0.4929\n",
      "Epoch 7/10\n",
      "12785/12785 [==============================] - 10s 800us/step - loss: 1.2920 - accuracy: 0.4773 - val_loss: 1.2321 - val_accuracy: 0.4946\n",
      "Epoch 8/10\n",
      "12785/12785 [==============================] - 10s 795us/step - loss: 1.2411 - accuracy: 0.4952 - val_loss: 1.2367 - val_accuracy: 0.5007\n",
      "Epoch 9/10\n",
      "12785/12785 [==============================] - 10s 784us/step - loss: 1.2655 - accuracy: 0.4825 - val_loss: 1.3072 - val_accuracy: 0.4607\n",
      "Epoch 10/10\n",
      "12785/12785 [==============================] - 10s 774us/step - loss: 1.2971 - accuracy: 0.4728 - val_loss: 1.2376 - val_accuracy: 0.4916\n",
      "3  :  [[15410   674     0    13     0     0]\n",
      " [ 7209 10309     0     0     0     0]\n",
      " [16697   263     0    27     0     0]\n",
      " [ 5923  1106     0 10065     0     0]\n",
      " [16994  1100     0    44     0     0]\n",
      " [15605   824     0    14     0     0]]\n",
      "Epoch 1/10\n",
      "12785/12785 [==============================] - 29s 2ms/step - loss: 1.5266 - accuracy: 0.3761 - val_loss: 1.4173 - val_accuracy: 0.4416\n",
      "Epoch 2/10\n",
      "12785/12785 [==============================] - 10s 771us/step - loss: 1.3395 - accuracy: 0.4572 - val_loss: 1.3486 - val_accuracy: 0.4495\n",
      "Epoch 3/10\n",
      "12785/12785 [==============================] - 10s 781us/step - loss: 1.2410 - accuracy: 0.4973 - val_loss: 1.1920 - val_accuracy: 0.5059\n",
      "Epoch 4/10\n",
      "12785/12785 [==============================] - 10s 788us/step - loss: 1.1996 - accuracy: 0.5112 - val_loss: 1.1471 - val_accuracy: 0.5396\n",
      "Epoch 5/10\n",
      "12785/12785 [==============================] - 10s 782us/step - loss: 1.1448 - accuracy: 0.5290 - val_loss: 1.1428 - val_accuracy: 0.5418\n",
      "Epoch 6/10\n",
      "12785/12785 [==============================] - 10s 774us/step - loss: 1.1226 - accuracy: 0.5388 - val_loss: 1.1505 - val_accuracy: 0.5468\n",
      "Epoch 7/10\n",
      "12785/12785 [==============================] - 10s 780us/step - loss: 1.1581 - accuracy: 0.5267 - val_loss: 1.0686 - val_accuracy: 0.5625\n",
      "Epoch 8/10\n",
      "12785/12785 [==============================] - 10s 774us/step - loss: 1.0757 - accuracy: 0.5579 - val_loss: 1.1159 - val_accuracy: 0.5394\n",
      "Epoch 9/10\n",
      "12785/12785 [==============================] - 10s 774us/step - loss: 1.0845 - accuracy: 0.5549 - val_loss: 1.1356 - val_accuracy: 0.5512\n",
      "Epoch 10/10\n",
      "12785/12785 [==============================] - 10s 790us/step - loss: 1.0802 - accuracy: 0.5548 - val_loss: 1.0372 - val_accuracy: 0.5743\n",
      "4  :  [[15783   263    47     4     0     0]\n",
      " [ 3567 13951     0     0     0     0]\n",
      " [14992  1211   754    30     0     0]\n",
      " [ 1696   219    81 15098     0     0]\n",
      " [16618  1244   223    52     0     1]\n",
      " [15837   505    78    22     0     1]]\n",
      "Epoch 1/10\n",
      "12785/12785 [==============================] - 10s 797us/step - loss: 1.5197 - accuracy: 0.3788 - val_loss: 1.3809 - val_accuracy: 0.4206\n",
      "Epoch 2/10\n",
      "12785/12785 [==============================] - 10s 793us/step - loss: 1.3276 - accuracy: 0.4627 - val_loss: 1.3746 - val_accuracy: 0.4555\n",
      "Epoch 3/10\n",
      "12785/12785 [==============================] - 10s 791us/step - loss: 1.2449 - accuracy: 0.4921 - val_loss: 1.2079 - val_accuracy: 0.5127\n",
      "Epoch 4/10\n",
      "12785/12785 [==============================] - 10s 797us/step - loss: 1.2112 - accuracy: 0.5098 - val_loss: 1.1107 - val_accuracy: 0.5646\n",
      "Epoch 5/10\n",
      "12785/12785 [==============================] - 10s 786us/step - loss: 1.1938 - accuracy: 0.5155 - val_loss: 1.0960 - val_accuracy: 0.5461\n",
      "Epoch 6/10\n",
      "12785/12785 [==============================] - 10s 773us/step - loss: 1.1408 - accuracy: 0.5342 - val_loss: 1.1042 - val_accuracy: 0.5635\n",
      "Epoch 7/10\n",
      "12785/12785 [==============================] - 10s 772us/step - loss: 1.1302 - accuracy: 0.5403 - val_loss: 1.1325 - val_accuracy: 0.5301\n",
      "Epoch 8/10\n",
      "12785/12785 [==============================] - 10s 775us/step - loss: 1.1736 - accuracy: 0.5249 - val_loss: 1.1039 - val_accuracy: 0.5492\n",
      "Epoch 9/10\n",
      "12785/12785 [==============================] - 10s 781us/step - loss: 1.1276 - accuracy: 0.5423 - val_loss: 1.1433 - val_accuracy: 0.5216\n",
      "Epoch 10/10\n",
      "12785/12785 [==============================] - 10s 774us/step - loss: 1.0642 - accuracy: 0.5647 - val_loss: 1.0145 - val_accuracy: 0.5793\n",
      "5  :  [[15702   303    12    23     0    57]\n",
      " [  722 16784     0     6     6     0]\n",
      " [15025  1364   534    20     0    44]\n",
      " [ 1816   278    24 14970     0     6]\n",
      " [15461  2329   144    51     7   146]\n",
      " [14658  1369    53     0     5   358]]\n"
     ]
    }
   ],
   "source": [
    "from sklearn.decomposition import PCA\n",
    "\n",
    "for n_component_pca in range(2, 6): \n",
    "\n",
    "    pca = PCA(n_components= n_component_pca)\n",
    "    activation_function = 'tanh'\n",
    "    pca.fit(X_train)\n",
    "    X_train_pca = pca.transform(X_train)\n",
    "    X_test_pca = pca.transform(X_test)\n",
    "\n",
    "\n",
    "    model=Sequential()\n",
    "\n",
    "    model.add(Dense(64, input_shape=(n_component_pca,), activation=activation_function))\n",
    "    model.add(Dense(32, activation=activation_function,))\n",
    "    model.add(Dense(6, activation='softmax'))\n",
    "\n",
    "    model.compile(loss='categorical_crossentropy', optimizer='adam', metrics=['accuracy'])\n",
    "\n",
    "\n",
    "    history = model.fit(X_train_pca, Y_train, validation_data = (X_test_pca, Y_test), epochs=10)\n",
    "\n",
    "    Y_predicted = model.predict(X_test_pca)\n",
    "    matrix = confusion_matrix_pca(Y_predicted, Y_test)\n",
    "    print(n_component_pca, \" : \", matrix)"
   ]
  },
  {
   "cell_type": "code",
   "execution_count": 128,
   "metadata": {},
   "outputs": [
    {
     "output_type": "execute_result",
     "data": {
      "text/plain": [
       "array([[15702,   303,    12,    23,     0,    57],\n",
       "       [  722, 16784,     0,     6,     6,     0],\n",
       "       [15025,  1364,   534,    20,     0,    44],\n",
       "       [ 1816,   278,    24, 14970,     0,     6],\n",
       "       [15461,  2329,   144,    51,     7,   146],\n",
       "       [14658,  1369,    53,     0,     5,   358]], dtype=int64)"
      ]
     },
     "metadata": {},
     "execution_count": 128
    }
   ],
   "source": [
    "matrix"
   ]
  },
  {
   "source": [
    "# LSTM"
   ],
   "cell_type": "markdown",
   "metadata": {}
  },
  {
   "cell_type": "code",
   "execution_count": 102,
   "metadata": {},
   "outputs": [],
   "source": [
    "from sklearn.model_selection import train_test_split\n",
    "X = df.drop(['attackerType'], axis = 1)\n",
    "Y = df[['attackerType']]\n",
    "Y = pd.get_dummies(Y, columns=['attackerType'])\n",
    "\n",
    "X=X.values.reshape((X.values.shape[0], X.values.shape[1], 1))\n",
    "\n",
    "\n",
    "X_train, X_test, y_train, y_test = train_test_split(X, Y, test_size = 0.2, random_state = 42)"
   ]
  },
  {
   "cell_type": "code",
   "execution_count": 95,
   "metadata": {},
   "outputs": [
    {
     "output_type": "stream",
     "name": "stdout",
     "text": [
      "<class 'numpy.ndarray'>\n<class 'pandas.core.frame.DataFrame'>\n<class 'numpy.ndarray'>\n<class 'pandas.core.frame.DataFrame'>\n(409104, 165, 1)\n<class 'numpy.float64'>\n"
     ]
    }
   ],
   "source": [
    "print(type(X_train))\n",
    "print(type(y_train))\n",
    "print(type(X_test))\n",
    "print(type(y_test))\n",
    "print(np.shape(X_train))\n",
    "print(type(X_train[0][0][0]))"
   ]
  },
  {
   "cell_type": "code",
   "execution_count": 93,
   "metadata": {
    "tags": []
   },
   "outputs": [],
   "source": [
    "for i in X_train:\n",
    "    for j in i:\n",
    "        if type(j) != type(X_train[0][0]):\n",
    "            print(j)"
   ]
  },
  {
   "cell_type": "code",
   "execution_count": 78,
   "metadata": {},
   "outputs": [
    {
     "output_type": "execute_result",
     "data": {
      "text/plain": [
       "         attackerType_0  attackerType_1  attackerType_2  attackerType_4  \\\n",
       "682400                0               0               0               1   \n",
       "27466                 1               0               0               0   \n",
       "1892013               0               1               0               0   \n",
       "991118                0               1               0               0   \n",
       "26206                 1               0               0               0   \n",
       "...                 ...             ...             ...             ...   \n",
       "217986                0               0               1               0   \n",
       "1803238               0               0               0               0   \n",
       "18911                 1               0               0               0   \n",
       "989207                0               1               0               0   \n",
       "1257306               0               1               0               0   \n",
       "\n",
       "         attackerType_8  attackerType_16  \n",
       "682400                0                0  \n",
       "27466                 0                0  \n",
       "1892013               0                0  \n",
       "991118                0                0  \n",
       "26206                 0                0  \n",
       "...                 ...              ...  \n",
       "217986                0                0  \n",
       "1803238               0                1  \n",
       "18911                 0                0  \n",
       "989207                0                0  \n",
       "1257306               0                0  \n",
       "\n",
       "[102277 rows x 6 columns]"
      ],
      "text/html": "<div>\n<style scoped>\n    .dataframe tbody tr th:only-of-type {\n        vertical-align: middle;\n    }\n\n    .dataframe tbody tr th {\n        vertical-align: top;\n    }\n\n    .dataframe thead th {\n        text-align: right;\n    }\n</style>\n<table border=\"1\" class=\"dataframe\">\n  <thead>\n    <tr style=\"text-align: right;\">\n      <th></th>\n      <th>attackerType_0</th>\n      <th>attackerType_1</th>\n      <th>attackerType_2</th>\n      <th>attackerType_4</th>\n      <th>attackerType_8</th>\n      <th>attackerType_16</th>\n    </tr>\n  </thead>\n  <tbody>\n    <tr>\n      <th>682400</th>\n      <td>0</td>\n      <td>0</td>\n      <td>0</td>\n      <td>1</td>\n      <td>0</td>\n      <td>0</td>\n    </tr>\n    <tr>\n      <th>27466</th>\n      <td>1</td>\n      <td>0</td>\n      <td>0</td>\n      <td>0</td>\n      <td>0</td>\n      <td>0</td>\n    </tr>\n    <tr>\n      <th>1892013</th>\n      <td>0</td>\n      <td>1</td>\n      <td>0</td>\n      <td>0</td>\n      <td>0</td>\n      <td>0</td>\n    </tr>\n    <tr>\n      <th>991118</th>\n      <td>0</td>\n      <td>1</td>\n      <td>0</td>\n      <td>0</td>\n      <td>0</td>\n      <td>0</td>\n    </tr>\n    <tr>\n      <th>26206</th>\n      <td>1</td>\n      <td>0</td>\n      <td>0</td>\n      <td>0</td>\n      <td>0</td>\n      <td>0</td>\n    </tr>\n    <tr>\n      <th>...</th>\n      <td>...</td>\n      <td>...</td>\n      <td>...</td>\n      <td>...</td>\n      <td>...</td>\n      <td>...</td>\n    </tr>\n    <tr>\n      <th>217986</th>\n      <td>0</td>\n      <td>0</td>\n      <td>1</td>\n      <td>0</td>\n      <td>0</td>\n      <td>0</td>\n    </tr>\n    <tr>\n      <th>1803238</th>\n      <td>0</td>\n      <td>0</td>\n      <td>0</td>\n      <td>0</td>\n      <td>0</td>\n      <td>1</td>\n    </tr>\n    <tr>\n      <th>18911</th>\n      <td>1</td>\n      <td>0</td>\n      <td>0</td>\n      <td>0</td>\n      <td>0</td>\n      <td>0</td>\n    </tr>\n    <tr>\n      <th>989207</th>\n      <td>0</td>\n      <td>1</td>\n      <td>0</td>\n      <td>0</td>\n      <td>0</td>\n      <td>0</td>\n    </tr>\n    <tr>\n      <th>1257306</th>\n      <td>0</td>\n      <td>1</td>\n      <td>0</td>\n      <td>0</td>\n      <td>0</td>\n      <td>0</td>\n    </tr>\n  </tbody>\n</table>\n<p>102277 rows × 6 columns</p>\n</div>"
     },
     "metadata": {},
     "execution_count": 78
    }
   ],
   "source": [
    "y_test"
   ]
  },
  {
   "cell_type": "code",
   "execution_count": 114,
   "metadata": {},
   "outputs": [
    {
     "output_type": "error",
     "ename": "ValueError",
     "evalue": "Input 0 of layer lstm_31 is incompatible with the layer: expected ndim=3, found ndim=2. Full shape received: [None, 64]",
     "traceback": [
      "\u001b[1;31m---------------------------------------------------------------------------\u001b[0m",
      "\u001b[1;31mValueError\u001b[0m                                Traceback (most recent call last)",
      "\u001b[1;32m<ipython-input-114-c8d8883110c0>\u001b[0m in \u001b[0;36m<module>\u001b[1;34m\u001b[0m\n\u001b[0;32m     13\u001b[0m \u001b[1;33m\u001b[0m\u001b[0m\n\u001b[0;32m     14\u001b[0m \u001b[0mmodel_lstm\u001b[0m\u001b[1;33m.\u001b[0m\u001b[0madd\u001b[0m\u001b[1;33m(\u001b[0m\u001b[0mLSTM\u001b[0m\u001b[1;33m(\u001b[0m\u001b[1;36m64\u001b[0m\u001b[1;33m,\u001b[0m\u001b[0minput_shape\u001b[0m\u001b[1;33m=\u001b[0m\u001b[1;33m(\u001b[0m\u001b[1;36m165\u001b[0m\u001b[1;33m,\u001b[0m\u001b[1;36m1\u001b[0m\u001b[1;33m)\u001b[0m\u001b[1;33m,\u001b[0m \u001b[0mactivation\u001b[0m\u001b[1;33m=\u001b[0m\u001b[1;34m'relu'\u001b[0m\u001b[1;33m)\u001b[0m\u001b[1;33m)\u001b[0m\u001b[1;33m\u001b[0m\u001b[1;33m\u001b[0m\u001b[0m\n\u001b[1;32m---> 15\u001b[1;33m \u001b[0mmodel_lstm\u001b[0m\u001b[1;33m.\u001b[0m\u001b[0madd\u001b[0m\u001b[1;33m(\u001b[0m\u001b[0mLSTM\u001b[0m\u001b[1;33m(\u001b[0m\u001b[1;36m32\u001b[0m\u001b[1;33m,\u001b[0m \u001b[0mactivation\u001b[0m\u001b[1;33m=\u001b[0m\u001b[1;34m'relu'\u001b[0m\u001b[1;33m)\u001b[0m\u001b[1;33m)\u001b[0m\u001b[1;33m\u001b[0m\u001b[1;33m\u001b[0m\u001b[0m\n\u001b[0m\u001b[0;32m     16\u001b[0m \u001b[0mmodel_lstm\u001b[0m\u001b[1;33m.\u001b[0m\u001b[0madd\u001b[0m\u001b[1;33m(\u001b[0m\u001b[0mDense\u001b[0m\u001b[1;33m(\u001b[0m\u001b[1;36m6\u001b[0m\u001b[1;33m,\u001b[0m \u001b[0mactivation\u001b[0m\u001b[1;33m=\u001b[0m\u001b[1;34m'softmax'\u001b[0m\u001b[1;33m)\u001b[0m\u001b[1;33m)\u001b[0m\u001b[1;33m\u001b[0m\u001b[1;33m\u001b[0m\u001b[0m\n\u001b[0;32m     17\u001b[0m \u001b[1;33m\u001b[0m\u001b[0m\n",
      "\u001b[1;32mC:\\Python38\\lib\\site-packages\\tensorflow\\python\\training\\tracking\\base.py\u001b[0m in \u001b[0;36m_method_wrapper\u001b[1;34m(self, *args, **kwargs)\u001b[0m\n\u001b[0;32m    455\u001b[0m     \u001b[0mself\u001b[0m\u001b[1;33m.\u001b[0m\u001b[0m_self_setattr_tracking\u001b[0m \u001b[1;33m=\u001b[0m \u001b[1;32mFalse\u001b[0m  \u001b[1;31m# pylint: disable=protected-access\u001b[0m\u001b[1;33m\u001b[0m\u001b[1;33m\u001b[0m\u001b[0m\n\u001b[0;32m    456\u001b[0m     \u001b[1;32mtry\u001b[0m\u001b[1;33m:\u001b[0m\u001b[1;33m\u001b[0m\u001b[1;33m\u001b[0m\u001b[0m\n\u001b[1;32m--> 457\u001b[1;33m       \u001b[0mresult\u001b[0m \u001b[1;33m=\u001b[0m \u001b[0mmethod\u001b[0m\u001b[1;33m(\u001b[0m\u001b[0mself\u001b[0m\u001b[1;33m,\u001b[0m \u001b[1;33m*\u001b[0m\u001b[0margs\u001b[0m\u001b[1;33m,\u001b[0m \u001b[1;33m**\u001b[0m\u001b[0mkwargs\u001b[0m\u001b[1;33m)\u001b[0m\u001b[1;33m\u001b[0m\u001b[1;33m\u001b[0m\u001b[0m\n\u001b[0m\u001b[0;32m    458\u001b[0m     \u001b[1;32mfinally\u001b[0m\u001b[1;33m:\u001b[0m\u001b[1;33m\u001b[0m\u001b[1;33m\u001b[0m\u001b[0m\n\u001b[0;32m    459\u001b[0m       \u001b[0mself\u001b[0m\u001b[1;33m.\u001b[0m\u001b[0m_self_setattr_tracking\u001b[0m \u001b[1;33m=\u001b[0m \u001b[0mprevious_value\u001b[0m  \u001b[1;31m# pylint: disable=protected-access\u001b[0m\u001b[1;33m\u001b[0m\u001b[1;33m\u001b[0m\u001b[0m\n",
      "\u001b[1;32mC:\\Python38\\lib\\site-packages\\tensorflow\\python\\keras\\engine\\sequential.py\u001b[0m in \u001b[0;36madd\u001b[1;34m(self, layer)\u001b[0m\n\u001b[0;32m    219\u001b[0m       \u001b[1;31m# If the model is being built continuously on top of an input layer:\u001b[0m\u001b[1;33m\u001b[0m\u001b[1;33m\u001b[0m\u001b[1;33m\u001b[0m\u001b[0m\n\u001b[0;32m    220\u001b[0m       \u001b[1;31m# refresh its output.\u001b[0m\u001b[1;33m\u001b[0m\u001b[1;33m\u001b[0m\u001b[1;33m\u001b[0m\u001b[0m\n\u001b[1;32m--> 221\u001b[1;33m       \u001b[0moutput_tensor\u001b[0m \u001b[1;33m=\u001b[0m \u001b[0mlayer\u001b[0m\u001b[1;33m(\u001b[0m\u001b[0mself\u001b[0m\u001b[1;33m.\u001b[0m\u001b[0moutputs\u001b[0m\u001b[1;33m[\u001b[0m\u001b[1;36m0\u001b[0m\u001b[1;33m]\u001b[0m\u001b[1;33m)\u001b[0m\u001b[1;33m\u001b[0m\u001b[1;33m\u001b[0m\u001b[0m\n\u001b[0m\u001b[0;32m    222\u001b[0m       \u001b[1;32mif\u001b[0m \u001b[0mlen\u001b[0m\u001b[1;33m(\u001b[0m\u001b[0mnest\u001b[0m\u001b[1;33m.\u001b[0m\u001b[0mflatten\u001b[0m\u001b[1;33m(\u001b[0m\u001b[0moutput_tensor\u001b[0m\u001b[1;33m)\u001b[0m\u001b[1;33m)\u001b[0m \u001b[1;33m!=\u001b[0m \u001b[1;36m1\u001b[0m\u001b[1;33m:\u001b[0m\u001b[1;33m\u001b[0m\u001b[1;33m\u001b[0m\u001b[0m\n\u001b[0;32m    223\u001b[0m         \u001b[1;32mraise\u001b[0m \u001b[0mValueError\u001b[0m\u001b[1;33m(\u001b[0m\u001b[0mSINGLE_LAYER_OUTPUT_ERROR_MSG\u001b[0m\u001b[1;33m)\u001b[0m\u001b[1;33m\u001b[0m\u001b[1;33m\u001b[0m\u001b[0m\n",
      "\u001b[1;32mC:\\Python38\\lib\\site-packages\\tensorflow\\python\\keras\\layers\\recurrent.py\u001b[0m in \u001b[0;36m__call__\u001b[1;34m(self, inputs, initial_state, constants, **kwargs)\u001b[0m\n\u001b[0;32m    657\u001b[0m \u001b[1;33m\u001b[0m\u001b[0m\n\u001b[0;32m    658\u001b[0m     \u001b[1;32mif\u001b[0m \u001b[0minitial_state\u001b[0m \u001b[1;32mis\u001b[0m \u001b[1;32mNone\u001b[0m \u001b[1;32mand\u001b[0m \u001b[0mconstants\u001b[0m \u001b[1;32mis\u001b[0m \u001b[1;32mNone\u001b[0m\u001b[1;33m:\u001b[0m\u001b[1;33m\u001b[0m\u001b[1;33m\u001b[0m\u001b[0m\n\u001b[1;32m--> 659\u001b[1;33m       \u001b[1;32mreturn\u001b[0m \u001b[0msuper\u001b[0m\u001b[1;33m(\u001b[0m\u001b[0mRNN\u001b[0m\u001b[1;33m,\u001b[0m \u001b[0mself\u001b[0m\u001b[1;33m)\u001b[0m\u001b[1;33m.\u001b[0m\u001b[0m__call__\u001b[0m\u001b[1;33m(\u001b[0m\u001b[0minputs\u001b[0m\u001b[1;33m,\u001b[0m \u001b[1;33m**\u001b[0m\u001b[0mkwargs\u001b[0m\u001b[1;33m)\u001b[0m\u001b[1;33m\u001b[0m\u001b[1;33m\u001b[0m\u001b[0m\n\u001b[0m\u001b[0;32m    660\u001b[0m \u001b[1;33m\u001b[0m\u001b[0m\n\u001b[0;32m    661\u001b[0m     \u001b[1;31m# If any of `initial_state` or `constants` are specified and are Keras\u001b[0m\u001b[1;33m\u001b[0m\u001b[1;33m\u001b[0m\u001b[1;33m\u001b[0m\u001b[0m\n",
      "\u001b[1;32mC:\\Python38\\lib\\site-packages\\tensorflow\\python\\keras\\engine\\base_layer.py\u001b[0m in \u001b[0;36m__call__\u001b[1;34m(self, *args, **kwargs)\u001b[0m\n\u001b[0;32m    923\u001b[0m     \u001b[1;31m# >> model = tf.keras.Model(inputs, outputs)\u001b[0m\u001b[1;33m\u001b[0m\u001b[1;33m\u001b[0m\u001b[1;33m\u001b[0m\u001b[0m\n\u001b[0;32m    924\u001b[0m     \u001b[1;32mif\u001b[0m \u001b[0m_in_functional_construction_mode\u001b[0m\u001b[1;33m(\u001b[0m\u001b[0mself\u001b[0m\u001b[1;33m,\u001b[0m \u001b[0minputs\u001b[0m\u001b[1;33m,\u001b[0m \u001b[0margs\u001b[0m\u001b[1;33m,\u001b[0m \u001b[0mkwargs\u001b[0m\u001b[1;33m,\u001b[0m \u001b[0minput_list\u001b[0m\u001b[1;33m)\u001b[0m\u001b[1;33m:\u001b[0m\u001b[1;33m\u001b[0m\u001b[1;33m\u001b[0m\u001b[0m\n\u001b[1;32m--> 925\u001b[1;33m       return self._functional_construction_call(inputs, args, kwargs,\n\u001b[0m\u001b[0;32m    926\u001b[0m                                                 input_list)\n\u001b[0;32m    927\u001b[0m \u001b[1;33m\u001b[0m\u001b[0m\n",
      "\u001b[1;32mC:\\Python38\\lib\\site-packages\\tensorflow\\python\\keras\\engine\\base_layer.py\u001b[0m in \u001b[0;36m_functional_construction_call\u001b[1;34m(self, inputs, args, kwargs, input_list)\u001b[0m\n\u001b[0;32m   1090\u001b[0m       \u001b[1;31m# TODO(reedwm): We should assert input compatibility after the inputs\u001b[0m\u001b[1;33m\u001b[0m\u001b[1;33m\u001b[0m\u001b[1;33m\u001b[0m\u001b[0m\n\u001b[0;32m   1091\u001b[0m       \u001b[1;31m# are casted, not before.\u001b[0m\u001b[1;33m\u001b[0m\u001b[1;33m\u001b[0m\u001b[1;33m\u001b[0m\u001b[0m\n\u001b[1;32m-> 1092\u001b[1;33m       \u001b[0minput_spec\u001b[0m\u001b[1;33m.\u001b[0m\u001b[0massert_input_compatibility\u001b[0m\u001b[1;33m(\u001b[0m\u001b[0mself\u001b[0m\u001b[1;33m.\u001b[0m\u001b[0minput_spec\u001b[0m\u001b[1;33m,\u001b[0m \u001b[0minputs\u001b[0m\u001b[1;33m,\u001b[0m \u001b[0mself\u001b[0m\u001b[1;33m.\u001b[0m\u001b[0mname\u001b[0m\u001b[1;33m)\u001b[0m\u001b[1;33m\u001b[0m\u001b[1;33m\u001b[0m\u001b[0m\n\u001b[0m\u001b[0;32m   1093\u001b[0m       \u001b[0mgraph\u001b[0m \u001b[1;33m=\u001b[0m \u001b[0mbackend\u001b[0m\u001b[1;33m.\u001b[0m\u001b[0mget_graph\u001b[0m\u001b[1;33m(\u001b[0m\u001b[1;33m)\u001b[0m\u001b[1;33m\u001b[0m\u001b[1;33m\u001b[0m\u001b[0m\n\u001b[0;32m   1094\u001b[0m       \u001b[1;31m# Use `self._name_scope()` to avoid auto-incrementing the name.\u001b[0m\u001b[1;33m\u001b[0m\u001b[1;33m\u001b[0m\u001b[1;33m\u001b[0m\u001b[0m\n",
      "\u001b[1;32mC:\\Python38\\lib\\site-packages\\tensorflow\\python\\keras\\engine\\input_spec.py\u001b[0m in \u001b[0;36massert_input_compatibility\u001b[1;34m(input_spec, inputs, layer_name)\u001b[0m\n\u001b[0;32m    174\u001b[0m       \u001b[0mndim\u001b[0m \u001b[1;33m=\u001b[0m \u001b[0mx\u001b[0m\u001b[1;33m.\u001b[0m\u001b[0mshape\u001b[0m\u001b[1;33m.\u001b[0m\u001b[0mndims\u001b[0m\u001b[1;33m\u001b[0m\u001b[1;33m\u001b[0m\u001b[0m\n\u001b[0;32m    175\u001b[0m       \u001b[1;32mif\u001b[0m \u001b[0mndim\u001b[0m \u001b[1;33m!=\u001b[0m \u001b[0mspec\u001b[0m\u001b[1;33m.\u001b[0m\u001b[0mndim\u001b[0m\u001b[1;33m:\u001b[0m\u001b[1;33m\u001b[0m\u001b[1;33m\u001b[0m\u001b[0m\n\u001b[1;32m--> 176\u001b[1;33m         raise ValueError('Input ' + str(input_index) + ' of layer ' +\n\u001b[0m\u001b[0;32m    177\u001b[0m                          \u001b[0mlayer_name\u001b[0m \u001b[1;33m+\u001b[0m \u001b[1;34m' is incompatible with the layer: '\u001b[0m\u001b[1;33m\u001b[0m\u001b[1;33m\u001b[0m\u001b[0m\n\u001b[0;32m    178\u001b[0m                          \u001b[1;34m'expected ndim='\u001b[0m \u001b[1;33m+\u001b[0m \u001b[0mstr\u001b[0m\u001b[1;33m(\u001b[0m\u001b[0mspec\u001b[0m\u001b[1;33m.\u001b[0m\u001b[0mndim\u001b[0m\u001b[1;33m)\u001b[0m \u001b[1;33m+\u001b[0m \u001b[1;34m', found ndim='\u001b[0m \u001b[1;33m+\u001b[0m\u001b[1;33m\u001b[0m\u001b[1;33m\u001b[0m\u001b[0m\n",
      "\u001b[1;31mValueError\u001b[0m: Input 0 of layer lstm_31 is incompatible with the layer: expected ndim=3, found ndim=2. Full shape received: [None, 64]"
     ]
    }
   ],
   "source": [
    "from keras.models import Sequential\n",
    "from keras.layers import Dense\n",
    "import numpy as np\n",
    "\n",
    "import keras.backend as K\n",
    "from keras.models import Sequential\n",
    "from keras.layers import Dense, LSTM\n",
    "from keras.layers import Dropout\n",
    "from keras.layers import BatchNormalization\n",
    "from tensorflow.keras.regularizers import l2\n",
    "\n",
    "model_lstm=Sequential()\n",
    "\n",
    "model_lstm.add(LSTM(64,input_shape=(165,1), activation='relu'))\n",
    "model_lstm.add(LSTM(32, activation='relu'))\n",
    "model_lstm.add(Dense(6, activation='softmax'))\n",
    "\n",
    "model_lstm.compile(loss='binary_crossentropy', optimizer='sgd', metrics=['accuracy'])"
   ]
  },
  {
   "cell_type": "code",
   "execution_count": null,
   "metadata": {},
   "outputs": [],
   "source": [
    "history = model.fit(X_train, Y_train, validation_data = (X_test, Y_test), epochs=10)"
   ]
  },
  {
   "cell_type": "code",
   "execution_count": null,
   "metadata": {},
   "outputs": [],
   "source": [
    "Y_predicted = model.predict(X_test)\n",
    "matrix = confusion_matrix_pca(Y_predicted, Y_test)\n",
    "matrix"
   ]
  }
 ],
 "metadata": {
  "kernelspec": {
   "display_name": "Python 3",
   "language": "python",
   "name": "python3"
  },
  "language_info": {
   "codemirror_mode": {
    "name": "ipython",
    "version": 3
   },
   "file_extension": ".py",
   "mimetype": "text/x-python",
   "name": "python",
   "nbconvert_exporter": "python",
   "pygments_lexer": "ipython3",
   "version": "3.8.3-final"
  }
 },
 "nbformat": 4,
 "nbformat_minor": 2
}