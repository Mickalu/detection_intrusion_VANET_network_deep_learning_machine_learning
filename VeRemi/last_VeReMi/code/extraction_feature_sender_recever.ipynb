{
 "metadata": {
  "language_info": {
   "codemirror_mode": {
    "name": "ipython",
    "version": 3
   },
   "file_extension": ".py",
   "mimetype": "text/x-python",
   "name": "python",
   "nbconvert_exporter": "python",
   "pygments_lexer": "ipython3",
   "version": "3.8.3-final"
  },
  "orig_nbformat": 2,
  "kernelspec": {
   "name": "python3",
   "display_name": "Python 3.8.3 64-bit",
   "metadata": {
    "interpreter": {
     "hash": "2db524e06e9f5f4ffedc911c917cb75e12dbc923643829bf417064a77eb14d37"
    }
   }
  }
 },
 "nbformat": 4,
 "nbformat_minor": 2,
 "cells": [
  {
   "cell_type": "code",
   "execution_count": 1,
   "metadata": {},
   "outputs": [],
   "source": [
    "import pandas as pd"
   ]
  },
  {
   "cell_type": "code",
   "execution_count": 2,
   "metadata": {},
   "outputs": [
    {
     "output_type": "execute_result",
     "data": {
      "text/plain": [
       "       type       rcvTime      sendTime  sender  messageID          RSSI  \\\n",
       "0         3  10800.392893  10800.392785      13         38  1.115287e-07   \n",
       "1         3  10800.456258  10800.456150      31        104  3.218740e-09   \n",
       "2         3  10800.582131  10800.582020      25        137  2.900248e-09   \n",
       "3         3  10800.670748  10800.670638      43        172  1.746131e-08   \n",
       "4         3  10800.870128  10800.870012      19        193  3.710398e-07   \n",
       "...     ...           ...           ...     ...        ...           ...   \n",
       "55607     3  10814.026618  10814.026510      73       3676  1.983451e-09   \n",
       "55608     3  10814.323660  10814.323541      67       3694  2.203141e-09   \n",
       "55609     3  10800.079764  10800.079645      19         58  2.339278e-09   \n",
       "55610     3  10800.204760  10800.204649       7        162  6.183666e-08   \n",
       "55611     3  10801.204755  10801.204649       7        617  6.272892e-09   \n",
       "\n",
       "       receiver        pos_x        pos_y  pos_z      spd_x      spd_y  spd_z  \\\n",
       "0             7  3597.152086  5542.199221  1.895  -3.178366  38.798969    0.0   \n",
       "1             7  3596.805861  5692.113417  1.895   1.282467 -29.864003    0.0   \n",
       "2             7  3597.770493  5764.800893  1.895  -0.020161 -34.568848    0.0   \n",
       "3             7  3822.892006  5266.806009  1.895   1.305362  -0.988730    0.0   \n",
       "4             7  3617.100034  5417.782781  1.895   4.937950 -39.877578    0.0   \n",
       "...         ...          ...          ...    ...        ...        ...    ...   \n",
       "55607        55  3772.690397  5812.521758  1.895  -0.020093 -34.522519    0.0   \n",
       "55608        55  3972.947393  5263.193766  1.895  14.048681   1.808117    0.0   \n",
       "55609        61  3613.826325  5505.799698  1.895   3.095704 -36.770480    0.0   \n",
       "55610        61  3589.017816  5917.005804  1.895   1.435204  33.709079    0.0   \n",
       "55611        61  3591.106604  5950.712364  1.895   2.506689  33.664960    0.0   \n",
       "\n",
       "        global_pos  global_spd  attackerType  \n",
       "0      6607.229293   38.928936             0  \n",
       "1      6733.288286   29.891527             0  \n",
       "2      6795.357639   34.568854             0  \n",
       "3      6507.976062    1.637546             0  \n",
       "4      6514.275594   40.182143             0  \n",
       "...            ...         ...           ...  \n",
       "55607  6929.545844   34.522525             8  \n",
       "55608  6594.355404   14.164559             0  \n",
       "55609  6585.861722   36.900563             0  \n",
       "55610  6920.405347   33.739618             0  \n",
       "55611  6950.325738   33.758155             0  \n",
       "\n",
       "[55612 rows x 16 columns]"
      ],
      "text/html": "<div>\n<style scoped>\n    .dataframe tbody tr th:only-of-type {\n        vertical-align: middle;\n    }\n\n    .dataframe tbody tr th {\n        vertical-align: top;\n    }\n\n    .dataframe thead th {\n        text-align: right;\n    }\n</style>\n<table border=\"1\" class=\"dataframe\">\n  <thead>\n    <tr style=\"text-align: right;\">\n      <th></th>\n      <th>type</th>\n      <th>rcvTime</th>\n      <th>sendTime</th>\n      <th>sender</th>\n      <th>messageID</th>\n      <th>RSSI</th>\n      <th>receiver</th>\n      <th>pos_x</th>\n      <th>pos_y</th>\n      <th>pos_z</th>\n      <th>spd_x</th>\n      <th>spd_y</th>\n      <th>spd_z</th>\n      <th>global_pos</th>\n      <th>global_spd</th>\n      <th>attackerType</th>\n    </tr>\n  </thead>\n  <tbody>\n    <tr>\n      <th>0</th>\n      <td>3</td>\n      <td>10800.392893</td>\n      <td>10800.392785</td>\n      <td>13</td>\n      <td>38</td>\n      <td>1.115287e-07</td>\n      <td>7</td>\n      <td>3597.152086</td>\n      <td>5542.199221</td>\n      <td>1.895</td>\n      <td>-3.178366</td>\n      <td>38.798969</td>\n      <td>0.0</td>\n      <td>6607.229293</td>\n      <td>38.928936</td>\n      <td>0</td>\n    </tr>\n    <tr>\n      <th>1</th>\n      <td>3</td>\n      <td>10800.456258</td>\n      <td>10800.456150</td>\n      <td>31</td>\n      <td>104</td>\n      <td>3.218740e-09</td>\n      <td>7</td>\n      <td>3596.805861</td>\n      <td>5692.113417</td>\n      <td>1.895</td>\n      <td>1.282467</td>\n      <td>-29.864003</td>\n      <td>0.0</td>\n      <td>6733.288286</td>\n      <td>29.891527</td>\n      <td>0</td>\n    </tr>\n    <tr>\n      <th>2</th>\n      <td>3</td>\n      <td>10800.582131</td>\n      <td>10800.582020</td>\n      <td>25</td>\n      <td>137</td>\n      <td>2.900248e-09</td>\n      <td>7</td>\n      <td>3597.770493</td>\n      <td>5764.800893</td>\n      <td>1.895</td>\n      <td>-0.020161</td>\n      <td>-34.568848</td>\n      <td>0.0</td>\n      <td>6795.357639</td>\n      <td>34.568854</td>\n      <td>0</td>\n    </tr>\n    <tr>\n      <th>3</th>\n      <td>3</td>\n      <td>10800.670748</td>\n      <td>10800.670638</td>\n      <td>43</td>\n      <td>172</td>\n      <td>1.746131e-08</td>\n      <td>7</td>\n      <td>3822.892006</td>\n      <td>5266.806009</td>\n      <td>1.895</td>\n      <td>1.305362</td>\n      <td>-0.988730</td>\n      <td>0.0</td>\n      <td>6507.976062</td>\n      <td>1.637546</td>\n      <td>0</td>\n    </tr>\n    <tr>\n      <th>4</th>\n      <td>3</td>\n      <td>10800.870128</td>\n      <td>10800.870012</td>\n      <td>19</td>\n      <td>193</td>\n      <td>3.710398e-07</td>\n      <td>7</td>\n      <td>3617.100034</td>\n      <td>5417.782781</td>\n      <td>1.895</td>\n      <td>4.937950</td>\n      <td>-39.877578</td>\n      <td>0.0</td>\n      <td>6514.275594</td>\n      <td>40.182143</td>\n      <td>0</td>\n    </tr>\n    <tr>\n      <th>...</th>\n      <td>...</td>\n      <td>...</td>\n      <td>...</td>\n      <td>...</td>\n      <td>...</td>\n      <td>...</td>\n      <td>...</td>\n      <td>...</td>\n      <td>...</td>\n      <td>...</td>\n      <td>...</td>\n      <td>...</td>\n      <td>...</td>\n      <td>...</td>\n      <td>...</td>\n      <td>...</td>\n    </tr>\n    <tr>\n      <th>55607</th>\n      <td>3</td>\n      <td>10814.026618</td>\n      <td>10814.026510</td>\n      <td>73</td>\n      <td>3676</td>\n      <td>1.983451e-09</td>\n      <td>55</td>\n      <td>3772.690397</td>\n      <td>5812.521758</td>\n      <td>1.895</td>\n      <td>-0.020093</td>\n      <td>-34.522519</td>\n      <td>0.0</td>\n      <td>6929.545844</td>\n      <td>34.522525</td>\n      <td>8</td>\n    </tr>\n    <tr>\n      <th>55608</th>\n      <td>3</td>\n      <td>10814.323660</td>\n      <td>10814.323541</td>\n      <td>67</td>\n      <td>3694</td>\n      <td>2.203141e-09</td>\n      <td>55</td>\n      <td>3972.947393</td>\n      <td>5263.193766</td>\n      <td>1.895</td>\n      <td>14.048681</td>\n      <td>1.808117</td>\n      <td>0.0</td>\n      <td>6594.355404</td>\n      <td>14.164559</td>\n      <td>0</td>\n    </tr>\n    <tr>\n      <th>55609</th>\n      <td>3</td>\n      <td>10800.079764</td>\n      <td>10800.079645</td>\n      <td>19</td>\n      <td>58</td>\n      <td>2.339278e-09</td>\n      <td>61</td>\n      <td>3613.826325</td>\n      <td>5505.799698</td>\n      <td>1.895</td>\n      <td>3.095704</td>\n      <td>-36.770480</td>\n      <td>0.0</td>\n      <td>6585.861722</td>\n      <td>36.900563</td>\n      <td>0</td>\n    </tr>\n    <tr>\n      <th>55610</th>\n      <td>3</td>\n      <td>10800.204760</td>\n      <td>10800.204649</td>\n      <td>7</td>\n      <td>162</td>\n      <td>6.183666e-08</td>\n      <td>61</td>\n      <td>3589.017816</td>\n      <td>5917.005804</td>\n      <td>1.895</td>\n      <td>1.435204</td>\n      <td>33.709079</td>\n      <td>0.0</td>\n      <td>6920.405347</td>\n      <td>33.739618</td>\n      <td>0</td>\n    </tr>\n    <tr>\n      <th>55611</th>\n      <td>3</td>\n      <td>10801.204755</td>\n      <td>10801.204649</td>\n      <td>7</td>\n      <td>617</td>\n      <td>6.272892e-09</td>\n      <td>61</td>\n      <td>3591.106604</td>\n      <td>5950.712364</td>\n      <td>1.895</td>\n      <td>2.506689</td>\n      <td>33.664960</td>\n      <td>0.0</td>\n      <td>6950.325738</td>\n      <td>33.758155</td>\n      <td>0</td>\n    </tr>\n  </tbody>\n</table>\n<p>55612 rows × 16 columns</p>\n</div>"
     },
     "metadata": {},
     "execution_count": 2
    }
   ],
   "source": [
    "df = pd.read_csv(\"../database/cleandataVeReMi.csv\")\n",
    "df"
   ]
  },
  {
   "cell_type": "code",
   "execution_count": 24,
   "metadata": {},
   "outputs": [],
   "source": [
    "def list_all_pairs_ids(df_id_recever_sender):    \n",
    "    liste_sender_id = []\n",
    "    liste_each_pairs_ids = []\n",
    "\n",
    "    for sender_id in df_id_recever_sender['sender'].unique():\n",
    "        liste_sender_id.append(df_id_recever_sender[df_id_recever_sender['sender'] == sender_id])\n",
    "\n",
    "    liste_sender_id\n",
    "\n",
    "    for df_pairs in liste_sender_id:\n",
    "        for receiver_id in df_pairs['receiver'].unique():\n",
    "            liste_each_pairs_ids.append(df_pairs[df_pairs.receiver == receiver_id])\n",
    "\n",
    "    return liste_each_pairs_ids"
   ]
  },
  {
   "cell_type": "code",
   "execution_count": 25,
   "metadata": {},
   "outputs": [],
   "source": [
    "list_pairs = list_all_pairs_ids(df)"
   ]
  },
  {
   "cell_type": "code",
   "execution_count": 27,
   "metadata": {},
   "outputs": [
    {
     "output_type": "execute_result",
     "data": {
      "text/plain": [
       "       type       rcvTime      sendTime  sender  messageID          RSSI  \\\n",
       "0         3  10800.392893  10800.392785      13         38  1.115287e-07   \n",
       "5         3  10801.392902  10801.392785      13        257  2.492012e-08   \n",
       "10        3  10802.392895  10802.392785      13        439  2.269279e-09   \n",
       "15        3  10803.392899  10803.392785      13        603  2.657970e-09   \n",
       "20        3  10804.392901  10804.392785      13        765  4.483334e-09   \n",
       "...     ...           ...           ...     ...        ...           ...   \n",
       "36091     3  10800.443560  10800.443453      13        275  3.792617e-08   \n",
       "36098     3  10801.443560  10801.443453      13        849  9.785685e-08   \n",
       "36106     3  10802.443570  10802.443453      13       1421  2.451719e-08   \n",
       "36112     3  10803.443565  10803.443453      13       1957  1.567828e-08   \n",
       "36117     3  10804.443562  10804.443453      13       2505  1.331897e-08   \n",
       "\n",
       "       receiver        pos_x        pos_y  pos_z     spd_x      spd_y  spd_z  \\\n",
       "0             7  3597.152086  5542.199221  1.895 -3.178366  38.798969    0.0   \n",
       "5             7  3593.982140  5580.895412  1.895 -3.166225  38.650764    0.0   \n",
       "10            7  3590.806174  5619.665087  1.895 -3.174214  38.748286    0.0   \n",
       "15            7  3588.263022  5658.409084  1.895 -1.620634  38.775840    0.0   \n",
       "20            7  3586.641595  5697.203884  1.895 -1.621226  38.789993    0.0   \n",
       "...         ...          ...          ...    ...       ...        ...    ...   \n",
       "36091         7  3589.278088  5923.118910  1.895  1.427552  33.529356    0.0   \n",
       "36098         7  3591.545715  5956.609648  1.895  2.499120  33.563306    0.0   \n",
       "36106         7  3594.036874  5990.066047  1.895  2.491186  33.456763    0.0   \n",
       "36112         7  3597.010101  6023.501326  1.895  3.529640  33.424766    0.0   \n",
       "36117         7  3600.534091  6056.872591  1.895  3.529774  33.426037    0.0   \n",
       "\n",
       "        global_pos  global_spd  attackerType  \n",
       "0      6607.229293   38.928936             0  \n",
       "5      6638.004580   38.780234             0  \n",
       "10     6668.922571   38.878083             0  \n",
       "15     6700.240926   38.809692             0  \n",
       "20     6732.171538   38.823858             0  \n",
       "...            ...         ...           ...  \n",
       "36091  6925.767713   33.559732             0  \n",
       "36098  6955.602253   33.656219             0  \n",
       "36106  6985.556234   33.549381             0  \n",
       "36112  7015.771767   33.610614             0  \n",
       "36117  7046.244029   33.611891             0  \n",
       "\n",
       "[80 rows x 16 columns]"
      ],
      "text/html": "<div>\n<style scoped>\n    .dataframe tbody tr th:only-of-type {\n        vertical-align: middle;\n    }\n\n    .dataframe tbody tr th {\n        vertical-align: top;\n    }\n\n    .dataframe thead th {\n        text-align: right;\n    }\n</style>\n<table border=\"1\" class=\"dataframe\">\n  <thead>\n    <tr style=\"text-align: right;\">\n      <th></th>\n      <th>type</th>\n      <th>rcvTime</th>\n      <th>sendTime</th>\n      <th>sender</th>\n      <th>messageID</th>\n      <th>RSSI</th>\n      <th>receiver</th>\n      <th>pos_x</th>\n      <th>pos_y</th>\n      <th>pos_z</th>\n      <th>spd_x</th>\n      <th>spd_y</th>\n      <th>spd_z</th>\n      <th>global_pos</th>\n      <th>global_spd</th>\n      <th>attackerType</th>\n    </tr>\n  </thead>\n  <tbody>\n    <tr>\n      <th>0</th>\n      <td>3</td>\n      <td>10800.392893</td>\n      <td>10800.392785</td>\n      <td>13</td>\n      <td>38</td>\n      <td>1.115287e-07</td>\n      <td>7</td>\n      <td>3597.152086</td>\n      <td>5542.199221</td>\n      <td>1.895</td>\n      <td>-3.178366</td>\n      <td>38.798969</td>\n      <td>0.0</td>\n      <td>6607.229293</td>\n      <td>38.928936</td>\n      <td>0</td>\n    </tr>\n    <tr>\n      <th>5</th>\n      <td>3</td>\n      <td>10801.392902</td>\n      <td>10801.392785</td>\n      <td>13</td>\n      <td>257</td>\n      <td>2.492012e-08</td>\n      <td>7</td>\n      <td>3593.982140</td>\n      <td>5580.895412</td>\n      <td>1.895</td>\n      <td>-3.166225</td>\n      <td>38.650764</td>\n      <td>0.0</td>\n      <td>6638.004580</td>\n      <td>38.780234</td>\n      <td>0</td>\n    </tr>\n    <tr>\n      <th>10</th>\n      <td>3</td>\n      <td>10802.392895</td>\n      <td>10802.392785</td>\n      <td>13</td>\n      <td>439</td>\n      <td>2.269279e-09</td>\n      <td>7</td>\n      <td>3590.806174</td>\n      <td>5619.665087</td>\n      <td>1.895</td>\n      <td>-3.174214</td>\n      <td>38.748286</td>\n      <td>0.0</td>\n      <td>6668.922571</td>\n      <td>38.878083</td>\n      <td>0</td>\n    </tr>\n    <tr>\n      <th>15</th>\n      <td>3</td>\n      <td>10803.392899</td>\n      <td>10803.392785</td>\n      <td>13</td>\n      <td>603</td>\n      <td>2.657970e-09</td>\n      <td>7</td>\n      <td>3588.263022</td>\n      <td>5658.409084</td>\n      <td>1.895</td>\n      <td>-1.620634</td>\n      <td>38.775840</td>\n      <td>0.0</td>\n      <td>6700.240926</td>\n      <td>38.809692</td>\n      <td>0</td>\n    </tr>\n    <tr>\n      <th>20</th>\n      <td>3</td>\n      <td>10804.392901</td>\n      <td>10804.392785</td>\n      <td>13</td>\n      <td>765</td>\n      <td>4.483334e-09</td>\n      <td>7</td>\n      <td>3586.641595</td>\n      <td>5697.203884</td>\n      <td>1.895</td>\n      <td>-1.621226</td>\n      <td>38.789993</td>\n      <td>0.0</td>\n      <td>6732.171538</td>\n      <td>38.823858</td>\n      <td>0</td>\n    </tr>\n    <tr>\n      <th>...</th>\n      <td>...</td>\n      <td>...</td>\n      <td>...</td>\n      <td>...</td>\n      <td>...</td>\n      <td>...</td>\n      <td>...</td>\n      <td>...</td>\n      <td>...</td>\n      <td>...</td>\n      <td>...</td>\n      <td>...</td>\n      <td>...</td>\n      <td>...</td>\n      <td>...</td>\n      <td>...</td>\n    </tr>\n    <tr>\n      <th>36091</th>\n      <td>3</td>\n      <td>10800.443560</td>\n      <td>10800.443453</td>\n      <td>13</td>\n      <td>275</td>\n      <td>3.792617e-08</td>\n      <td>7</td>\n      <td>3589.278088</td>\n      <td>5923.118910</td>\n      <td>1.895</td>\n      <td>1.427552</td>\n      <td>33.529356</td>\n      <td>0.0</td>\n      <td>6925.767713</td>\n      <td>33.559732</td>\n      <td>0</td>\n    </tr>\n    <tr>\n      <th>36098</th>\n      <td>3</td>\n      <td>10801.443560</td>\n      <td>10801.443453</td>\n      <td>13</td>\n      <td>849</td>\n      <td>9.785685e-08</td>\n      <td>7</td>\n      <td>3591.545715</td>\n      <td>5956.609648</td>\n      <td>1.895</td>\n      <td>2.499120</td>\n      <td>33.563306</td>\n      <td>0.0</td>\n      <td>6955.602253</td>\n      <td>33.656219</td>\n      <td>0</td>\n    </tr>\n    <tr>\n      <th>36106</th>\n      <td>3</td>\n      <td>10802.443570</td>\n      <td>10802.443453</td>\n      <td>13</td>\n      <td>1421</td>\n      <td>2.451719e-08</td>\n      <td>7</td>\n      <td>3594.036874</td>\n      <td>5990.066047</td>\n      <td>1.895</td>\n      <td>2.491186</td>\n      <td>33.456763</td>\n      <td>0.0</td>\n      <td>6985.556234</td>\n      <td>33.549381</td>\n      <td>0</td>\n    </tr>\n    <tr>\n      <th>36112</th>\n      <td>3</td>\n      <td>10803.443565</td>\n      <td>10803.443453</td>\n      <td>13</td>\n      <td>1957</td>\n      <td>1.567828e-08</td>\n      <td>7</td>\n      <td>3597.010101</td>\n      <td>6023.501326</td>\n      <td>1.895</td>\n      <td>3.529640</td>\n      <td>33.424766</td>\n      <td>0.0</td>\n      <td>7015.771767</td>\n      <td>33.610614</td>\n      <td>0</td>\n    </tr>\n    <tr>\n      <th>36117</th>\n      <td>3</td>\n      <td>10804.443562</td>\n      <td>10804.443453</td>\n      <td>13</td>\n      <td>2505</td>\n      <td>1.331897e-08</td>\n      <td>7</td>\n      <td>3600.534091</td>\n      <td>6056.872591</td>\n      <td>1.895</td>\n      <td>3.529774</td>\n      <td>33.426037</td>\n      <td>0.0</td>\n      <td>7046.244029</td>\n      <td>33.611891</td>\n      <td>0</td>\n    </tr>\n  </tbody>\n</table>\n<p>80 rows × 16 columns</p>\n</div>"
     },
     "metadata": {},
     "execution_count": 27
    }
   ],
   "source": [
    "list_pairs[0]"
   ]
  },
  {
   "cell_type": "code",
   "execution_count": null,
   "metadata": {},
   "outputs": [],
   "source": []
  }
 ]
}