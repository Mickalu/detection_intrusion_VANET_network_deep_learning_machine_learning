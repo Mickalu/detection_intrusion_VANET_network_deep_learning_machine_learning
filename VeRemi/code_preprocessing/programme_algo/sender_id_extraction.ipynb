{
 "metadata": {
  "language_info": {
   "codemirror_mode": {
    "name": "ipython",
    "version": 3
   },
   "file_extension": ".py",
   "mimetype": "text/x-python",
   "name": "python",
   "nbconvert_exporter": "python",
   "pygments_lexer": "ipython3",
   "version": "3.8.3-final"
  },
  "orig_nbformat": 2,
  "kernelspec": {
   "name": "python3",
   "display_name": "Python 3.8.3 64-bit",
   "metadata": {
    "interpreter": {
     "hash": "2db524e06e9f5f4ffedc911c917cb75e12dbc923643829bf417064a77eb14d37"
    }
   }
  }
 },
 "nbformat": 4,
 "nbformat_minor": 2,
 "cells": [
  {
   "cell_type": "code",
   "execution_count": 5,
   "metadata": {},
   "outputs": [],
   "source": [
    "import pandas as pd\n",
    "from sklearn.preprocessing import LabelEncoder\n",
    "import time\n",
    "from sklearn.ensemble import RandomForestClassifier\n",
    "from sklearn.metrics import classification_report,confusion_matrix\n",
    "import matplotlib.pyplot as plt\n",
    "import numpy as np\n",
    "\n",
    "from keras.models import Sequential\n",
    "from keras.layers import Dense\n",
    "\n",
    "import keras.backend as K\n",
    "from keras.models import Sequential\n",
    "from keras.layers import Dense, LSTM, GRU\n",
    "from keras.layers import Dropout\n",
    "from keras.layers import BatchNormalization\n",
    "from tensorflow.keras.regularizers import l2\n",
    "from sklearn.model_selection import train_test_split"
   ]
  },
  {
   "cell_type": "code",
   "execution_count": 6,
   "metadata": {},
   "outputs": [
    {
     "output_type": "execute_result",
     "data": {
      "text/plain": [
       "       type       rcvTime      sendTime  sender  messageID          RSSI  \\\n",
       "0         3  10800.392893  10800.392785      13         38  1.115287e-07   \n",
       "1         3  10800.456258  10800.456150      31        104  3.218740e-09   \n",
       "2         3  10800.582131  10800.582020      25        137  2.900248e-09   \n",
       "3         3  10800.670748  10800.670638      43        172  1.746131e-08   \n",
       "4         3  10800.870128  10800.870012      19        193  3.710398e-07   \n",
       "...     ...           ...           ...     ...        ...           ...   \n",
       "55607     3  10814.026618  10814.026510      73       3676  1.983451e-09   \n",
       "55608     3  10814.323660  10814.323541      67       3694  2.203141e-09   \n",
       "55609     3  10800.079764  10800.079645      19         58  2.339278e-09   \n",
       "55610     3  10800.204760  10800.204649       7        162  6.183666e-08   \n",
       "55611     3  10801.204755  10801.204649       7        617  6.272892e-09   \n",
       "\n",
       "       attackerType        pos_x        pos_y  pos_z      spd_x      spd_y  \\\n",
       "0                 0  3597.152086  5542.199221  1.895  -3.178366  38.798969   \n",
       "1                 0  3596.805861  5692.113417  1.895   1.282467 -29.864003   \n",
       "2                 0  3597.770493  5764.800893  1.895  -0.020161 -34.568848   \n",
       "3                 0  3822.892006  5266.806009  1.895   1.305362  -0.988730   \n",
       "4                 0  3617.100034  5417.782781  1.895   4.937950 -39.877578   \n",
       "...             ...          ...          ...    ...        ...        ...   \n",
       "55607             0  3772.690397  5812.521758  1.895  -0.020093 -34.522519   \n",
       "55608             0  3972.947393  5263.193766  1.895  14.048681   1.808117   \n",
       "55609             0  3613.826325  5505.799698  1.895   3.095704 -36.770480   \n",
       "55610             0  3589.017816  5917.005804  1.895   1.435204  33.709079   \n",
       "55611             0  3591.106604  5950.712364  1.895   2.506689  33.664960   \n",
       "\n",
       "       spd_z   global_pos  global_spd  \n",
       "0        0.0  6607.229293   38.928936  \n",
       "1        0.0  6733.288286   29.891527  \n",
       "2        0.0  6795.357639   34.568854  \n",
       "3        0.0  6507.976062    1.637546  \n",
       "4        0.0  6514.275594   40.182143  \n",
       "...      ...          ...         ...  \n",
       "55607    0.0  6929.545844   34.522525  \n",
       "55608    0.0  6594.355404   14.164559  \n",
       "55609    0.0  6585.861722   36.900563  \n",
       "55610    0.0  6920.405347   33.739618  \n",
       "55611    0.0  6950.325738   33.758155  \n",
       "\n",
       "[55612 rows x 15 columns]"
      ],
      "text/html": "<div>\n<style scoped>\n    .dataframe tbody tr th:only-of-type {\n        vertical-align: middle;\n    }\n\n    .dataframe tbody tr th {\n        vertical-align: top;\n    }\n\n    .dataframe thead th {\n        text-align: right;\n    }\n</style>\n<table border=\"1\" class=\"dataframe\">\n  <thead>\n    <tr style=\"text-align: right;\">\n      <th></th>\n      <th>type</th>\n      <th>rcvTime</th>\n      <th>sendTime</th>\n      <th>sender</th>\n      <th>messageID</th>\n      <th>RSSI</th>\n      <th>attackerType</th>\n      <th>pos_x</th>\n      <th>pos_y</th>\n      <th>pos_z</th>\n      <th>spd_x</th>\n      <th>spd_y</th>\n      <th>spd_z</th>\n      <th>global_pos</th>\n      <th>global_spd</th>\n    </tr>\n  </thead>\n  <tbody>\n    <tr>\n      <th>0</th>\n      <td>3</td>\n      <td>10800.392893</td>\n      <td>10800.392785</td>\n      <td>13</td>\n      <td>38</td>\n      <td>1.115287e-07</td>\n      <td>0</td>\n      <td>3597.152086</td>\n      <td>5542.199221</td>\n      <td>1.895</td>\n      <td>-3.178366</td>\n      <td>38.798969</td>\n      <td>0.0</td>\n      <td>6607.229293</td>\n      <td>38.928936</td>\n    </tr>\n    <tr>\n      <th>1</th>\n      <td>3</td>\n      <td>10800.456258</td>\n      <td>10800.456150</td>\n      <td>31</td>\n      <td>104</td>\n      <td>3.218740e-09</td>\n      <td>0</td>\n      <td>3596.805861</td>\n      <td>5692.113417</td>\n      <td>1.895</td>\n      <td>1.282467</td>\n      <td>-29.864003</td>\n      <td>0.0</td>\n      <td>6733.288286</td>\n      <td>29.891527</td>\n    </tr>\n    <tr>\n      <th>2</th>\n      <td>3</td>\n      <td>10800.582131</td>\n      <td>10800.582020</td>\n      <td>25</td>\n      <td>137</td>\n      <td>2.900248e-09</td>\n      <td>0</td>\n      <td>3597.770493</td>\n      <td>5764.800893</td>\n      <td>1.895</td>\n      <td>-0.020161</td>\n      <td>-34.568848</td>\n      <td>0.0</td>\n      <td>6795.357639</td>\n      <td>34.568854</td>\n    </tr>\n    <tr>\n      <th>3</th>\n      <td>3</td>\n      <td>10800.670748</td>\n      <td>10800.670638</td>\n      <td>43</td>\n      <td>172</td>\n      <td>1.746131e-08</td>\n      <td>0</td>\n      <td>3822.892006</td>\n      <td>5266.806009</td>\n      <td>1.895</td>\n      <td>1.305362</td>\n      <td>-0.988730</td>\n      <td>0.0</td>\n      <td>6507.976062</td>\n      <td>1.637546</td>\n    </tr>\n    <tr>\n      <th>4</th>\n      <td>3</td>\n      <td>10800.870128</td>\n      <td>10800.870012</td>\n      <td>19</td>\n      <td>193</td>\n      <td>3.710398e-07</td>\n      <td>0</td>\n      <td>3617.100034</td>\n      <td>5417.782781</td>\n      <td>1.895</td>\n      <td>4.937950</td>\n      <td>-39.877578</td>\n      <td>0.0</td>\n      <td>6514.275594</td>\n      <td>40.182143</td>\n    </tr>\n    <tr>\n      <th>...</th>\n      <td>...</td>\n      <td>...</td>\n      <td>...</td>\n      <td>...</td>\n      <td>...</td>\n      <td>...</td>\n      <td>...</td>\n      <td>...</td>\n      <td>...</td>\n      <td>...</td>\n      <td>...</td>\n      <td>...</td>\n      <td>...</td>\n      <td>...</td>\n      <td>...</td>\n    </tr>\n    <tr>\n      <th>55607</th>\n      <td>3</td>\n      <td>10814.026618</td>\n      <td>10814.026510</td>\n      <td>73</td>\n      <td>3676</td>\n      <td>1.983451e-09</td>\n      <td>0</td>\n      <td>3772.690397</td>\n      <td>5812.521758</td>\n      <td>1.895</td>\n      <td>-0.020093</td>\n      <td>-34.522519</td>\n      <td>0.0</td>\n      <td>6929.545844</td>\n      <td>34.522525</td>\n    </tr>\n    <tr>\n      <th>55608</th>\n      <td>3</td>\n      <td>10814.323660</td>\n      <td>10814.323541</td>\n      <td>67</td>\n      <td>3694</td>\n      <td>2.203141e-09</td>\n      <td>0</td>\n      <td>3972.947393</td>\n      <td>5263.193766</td>\n      <td>1.895</td>\n      <td>14.048681</td>\n      <td>1.808117</td>\n      <td>0.0</td>\n      <td>6594.355404</td>\n      <td>14.164559</td>\n    </tr>\n    <tr>\n      <th>55609</th>\n      <td>3</td>\n      <td>10800.079764</td>\n      <td>10800.079645</td>\n      <td>19</td>\n      <td>58</td>\n      <td>2.339278e-09</td>\n      <td>0</td>\n      <td>3613.826325</td>\n      <td>5505.799698</td>\n      <td>1.895</td>\n      <td>3.095704</td>\n      <td>-36.770480</td>\n      <td>0.0</td>\n      <td>6585.861722</td>\n      <td>36.900563</td>\n    </tr>\n    <tr>\n      <th>55610</th>\n      <td>3</td>\n      <td>10800.204760</td>\n      <td>10800.204649</td>\n      <td>7</td>\n      <td>162</td>\n      <td>6.183666e-08</td>\n      <td>0</td>\n      <td>3589.017816</td>\n      <td>5917.005804</td>\n      <td>1.895</td>\n      <td>1.435204</td>\n      <td>33.709079</td>\n      <td>0.0</td>\n      <td>6920.405347</td>\n      <td>33.739618</td>\n    </tr>\n    <tr>\n      <th>55611</th>\n      <td>3</td>\n      <td>10801.204755</td>\n      <td>10801.204649</td>\n      <td>7</td>\n      <td>617</td>\n      <td>6.272892e-09</td>\n      <td>0</td>\n      <td>3591.106604</td>\n      <td>5950.712364</td>\n      <td>1.895</td>\n      <td>2.506689</td>\n      <td>33.664960</td>\n      <td>0.0</td>\n      <td>6950.325738</td>\n      <td>33.758155</td>\n    </tr>\n  </tbody>\n</table>\n<p>55612 rows × 15 columns</p>\n</div>"
     },
     "metadata": {},
     "execution_count": 6
    }
   ],
   "source": [
    "df = pd.read_csv(\"../../database/csv_file/data_without_noise/cleandataVereMi/cleandataVereMi.csv\")\n",
    "df"
   ]
  },
  {
   "cell_type": "code",
   "execution_count": 7,
   "metadata": {},
   "outputs": [
    {
     "output_type": "execute_result",
     "data": {
      "text/plain": [
       "array([ 13,  31,  25,  43,  19,  49,  61,   7,  37,  73,  91,  97,  85,\n",
       "       103, 109, 115, 121, 139, 145,  67, 151, 181, 127, 133, 157, 163,\n",
       "       169, 175, 205, 187, 193, 199, 211, 217,  79,  55, 223, 229, 235],\n",
       "      dtype=int64)"
      ]
     },
     "metadata": {},
     "execution_count": 7
    }
   ],
   "source": [
    "df.sender.unique()"
   ]
  },
  {
   "cell_type": "code",
   "execution_count": 27,
   "metadata": {},
   "outputs": [],
   "source": [
    "from sklearn.decomposition import PCA\n",
    "def pca_algo(n_component, listElement, col):\n",
    "    X = np.array(listElement).reshape(1,-1)\n",
    "    pca = PCA(n_components=n_component)\n",
    "    X_pca = pca.fit_transform(X)\n",
    "    PCA_df = pd.DataFrame(data = X_pca, columns = [col])\n",
    "    return PCA_df"
   ]
  },
  {
   "cell_type": "code",
   "execution_count": 72,
   "metadata": {},
   "outputs": [
    {
     "output_type": "stream",
     "name": "stderr",
     "text": [
      "<ipython-input-72-bfbbc6cd4cee>:5: DeprecationWarning: elementwise comparison failed; this will raise an error in the future.\n  if liste != []:\n"
     ]
    },
    {
     "output_type": "execute_result",
     "data": {
      "text/plain": [
       "array([1, 2])"
      ]
     },
     "metadata": {},
     "execution_count": 72
    }
   ],
   "source": [
    "def verify_not_double_value(liste):\n",
    "    index = 0\n",
    "    liste = np.array(liste)\n",
    "\n",
    "    if liste != []:\n",
    "        for elem in liste:\n",
    "\n",
    "            if np.count_nonzero(liste == elem) > 1:\n",
    "                liste = np.delete(liste, index)\n",
    "            index += 1\n",
    "\n",
    "        return liste\n",
    "    else: return ''\n",
    "\n",
    "verify_not_double_value([1, 1, 1, 2])"
   ]
  },
  {
   "cell_type": "code",
   "execution_count": 74,
   "metadata": {
    "tags": []
   },
   "outputs": [
    {
     "output_type": "stream",
     "name": "stdout",
     "text": [
      "(5,)\n",
      "<ipython-input-72-bfbbc6cd4cee>:5: DeprecationWarning: elementwise comparison failed; this will raise an error in the future.\n",
      "  if liste != []:\n"
     ]
    },
    {
     "output_type": "error",
     "ename": "IndexError",
     "evalue": "index 3 is out of bounds for axis 0 with size 2",
     "traceback": [
      "\u001b[1;31m---------------------------------------------------------------------------\u001b[0m",
      "\u001b[1;31mIndexError\u001b[0m                                Traceback (most recent call last)",
      "\u001b[1;32m<ipython-input-74-1ee5351ca7b6>\u001b[0m in \u001b[0;36m<module>\u001b[1;34m\u001b[0m\n\u001b[0;32m     14\u001b[0m                 \u001b[1;32mif\u001b[0m \u001b[1;33m(\u001b[0m\u001b[0mlistElementOneColumn\u001b[0m \u001b[1;33m!=\u001b[0m \u001b[1;34m''\u001b[0m\u001b[1;33m)\u001b[0m\u001b[1;33m:\u001b[0m\u001b[1;33m\u001b[0m\u001b[1;33m\u001b[0m\u001b[0m\n\u001b[0;32m     15\u001b[0m                     \u001b[0mprint\u001b[0m\u001b[1;33m(\u001b[0m\u001b[0mnp\u001b[0m\u001b[1;33m.\u001b[0m\u001b[0mshape\u001b[0m\u001b[1;33m(\u001b[0m\u001b[0mlistElementOneColumn\u001b[0m\u001b[1;33m)\u001b[0m\u001b[1;33m)\u001b[0m\u001b[1;33m\u001b[0m\u001b[1;33m\u001b[0m\u001b[0m\n\u001b[1;32m---> 16\u001b[1;33m                     \u001b[0mliste_test\u001b[0m \u001b[1;33m=\u001b[0m \u001b[0mverify_not_double_value\u001b[0m\u001b[1;33m(\u001b[0m\u001b[0mlistElementOneColumn\u001b[0m\u001b[1;33m)\u001b[0m\u001b[1;33m\u001b[0m\u001b[1;33m\u001b[0m\u001b[0m\n\u001b[0m\u001b[0;32m     17\u001b[0m                     \u001b[0mprint\u001b[0m\u001b[1;33m(\u001b[0m\u001b[0mliste_test\u001b[0m\u001b[1;33m)\u001b[0m\u001b[1;33m\u001b[0m\u001b[1;33m\u001b[0m\u001b[0m\n\u001b[0;32m     18\u001b[0m                     \u001b[1;31m#df_one_row[col] = pd.Series(verify_not_double_value(listElementOneColumn))\u001b[0m\u001b[1;33m\u001b[0m\u001b[1;33m\u001b[0m\u001b[1;33m\u001b[0m\u001b[0m\n",
      "\u001b[1;32m<ipython-input-72-bfbbc6cd4cee>\u001b[0m in \u001b[0;36mverify_not_double_value\u001b[1;34m(liste)\u001b[0m\n\u001b[0;32m      7\u001b[0m \u001b[1;33m\u001b[0m\u001b[0m\n\u001b[0;32m      8\u001b[0m             \u001b[1;32mif\u001b[0m \u001b[0mnp\u001b[0m\u001b[1;33m.\u001b[0m\u001b[0mcount_nonzero\u001b[0m\u001b[1;33m(\u001b[0m\u001b[0mliste\u001b[0m \u001b[1;33m==\u001b[0m \u001b[0melem\u001b[0m\u001b[1;33m)\u001b[0m \u001b[1;33m>\u001b[0m \u001b[1;36m1\u001b[0m\u001b[1;33m:\u001b[0m\u001b[1;33m\u001b[0m\u001b[1;33m\u001b[0m\u001b[0m\n\u001b[1;32m----> 9\u001b[1;33m                 \u001b[0mliste\u001b[0m \u001b[1;33m=\u001b[0m \u001b[0mnp\u001b[0m\u001b[1;33m.\u001b[0m\u001b[0mdelete\u001b[0m\u001b[1;33m(\u001b[0m\u001b[0mliste\u001b[0m\u001b[1;33m,\u001b[0m \u001b[0mindex\u001b[0m\u001b[1;33m)\u001b[0m\u001b[1;33m\u001b[0m\u001b[1;33m\u001b[0m\u001b[0m\n\u001b[0m\u001b[0;32m     10\u001b[0m             \u001b[0mindex\u001b[0m \u001b[1;33m+=\u001b[0m \u001b[1;36m1\u001b[0m\u001b[1;33m\u001b[0m\u001b[1;33m\u001b[0m\u001b[0m\n\u001b[0;32m     11\u001b[0m \u001b[1;33m\u001b[0m\u001b[0m\n",
      "\u001b[1;32m<__array_function__ internals>\u001b[0m in \u001b[0;36mdelete\u001b[1;34m(*args, **kwargs)\u001b[0m\n",
      "\u001b[1;32mC:\\Python38\\lib\\site-packages\\numpy\\lib\\function_base.py\u001b[0m in \u001b[0;36mdelete\u001b[1;34m(arr, obj, axis)\u001b[0m\n\u001b[0;32m   4371\u001b[0m         \u001b[0mobj\u001b[0m \u001b[1;33m=\u001b[0m \u001b[0mobj\u001b[0m\u001b[1;33m.\u001b[0m\u001b[0mitem\u001b[0m\u001b[1;33m(\u001b[0m\u001b[1;33m)\u001b[0m\u001b[1;33m\u001b[0m\u001b[1;33m\u001b[0m\u001b[0m\n\u001b[0;32m   4372\u001b[0m         \u001b[1;32mif\u001b[0m \u001b[1;33m(\u001b[0m\u001b[0mobj\u001b[0m \u001b[1;33m<\u001b[0m \u001b[1;33m-\u001b[0m\u001b[0mN\u001b[0m \u001b[1;32mor\u001b[0m \u001b[0mobj\u001b[0m \u001b[1;33m>=\u001b[0m \u001b[0mN\u001b[0m\u001b[1;33m)\u001b[0m\u001b[1;33m:\u001b[0m\u001b[1;33m\u001b[0m\u001b[1;33m\u001b[0m\u001b[0m\n\u001b[1;32m-> 4373\u001b[1;33m             raise IndexError(\n\u001b[0m\u001b[0;32m   4374\u001b[0m                 \u001b[1;34m\"index %i is out of bounds for axis %i with \"\u001b[0m\u001b[1;33m\u001b[0m\u001b[1;33m\u001b[0m\u001b[0m\n\u001b[0;32m   4375\u001b[0m                 \"size %i\" % (obj, axis, N))\n",
      "\u001b[1;31mIndexError\u001b[0m: index 3 is out of bounds for axis 0 with size 2"
     ]
    }
   ],
   "source": [
    "for sender_id in df.sender.unique():\n",
    "    df_sender_13 = df[df['sender'] == sender_id]\n",
    "\n",
    "    for time in df_sender_13.rcvTime.unique():\n",
    "        df_one_row = pd.DataFrame()\n",
    "        df_sender_13_same = df_sender_13[df_sender_13['rcvTime'] == time]\n",
    "\n",
    "        if np.shape(df_sender_13_same)[0] > 1:\n",
    "            for col in df_sender_13_same.columns:\n",
    "                listElementOneColumn = []\n",
    "                for n_row in range(np.shape(df_sender_13_same)[0]):\n",
    "                    listElementOneColumn.append(df_sender_13_same[col].iloc[n_row])\n",
    "  \n",
    "                if (listElementOneColumn != ''): \n",
    "                    print(np.shape(listElementOneColumn))\n",
    "                    print(listElementOneColumn)\n",
    "                    # liste_test = verify_not_double_value(listElementOneColumn)\n",
    "                    # print(liste_test)\n",
    "                    #df_one_row[col] = pd.Series(verify_not_double_value(listElementOneColumn))\n",
    "                    \n",
    "            print(df_one_row.head())\n",
    "            break"
   ]
  },
  {
   "cell_type": "code",
   "execution_count": null,
   "metadata": {},
   "outputs": [],
   "source": [
    "for df.sender.unique():\n",
    "    "
   ]
  }
 ]
}