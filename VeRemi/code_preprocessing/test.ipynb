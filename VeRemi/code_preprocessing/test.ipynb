{
 "metadata": {
  "language_info": {
   "codemirror_mode": {
    "name": "ipython",
    "version": 3
   },
   "file_extension": ".py",
   "mimetype": "text/x-python",
   "name": "python",
   "nbconvert_exporter": "python",
   "pygments_lexer": "ipython3",
   "version": "3.8.3"
  },
  "orig_nbformat": 2,
  "kernelspec": {
   "name": "python3",
   "display_name": "Python 3",
   "language": "python"
  }
 },
 "nbformat": 4,
 "nbformat_minor": 2,
 "cells": [
  {
   "cell_type": "code",
   "execution_count": 27,
   "metadata": {},
   "outputs": [
    {
     "output_type": "execute_result",
     "data": {
      "text/plain": [
       "array([13, 31, 25, 43, 19, 49, 61])"
      ]
     },
     "metadata": {},
     "execution_count": 27
    }
   ],
   "source": [
    "import pandas as pd\n",
    "import numpy as np\n",
    "\n",
    "df_json = pd.read_json(\"../database/json_file/0_3_1_01/JSONlog-0-7-A0.json\", lines = True)\n",
    "df_csv_delete_type_2 = df_json[df_json['type'] != 2]\n",
    "column_sender = df_csv_delete_type_2['sender'].astype(int)\n",
    "df_csv_delete_type_2['sender'] = column_sender\n",
    "df_csv_delete_type_2['sender'].unique()"
   ]
  },
  {
   "cell_type": "code",
   "execution_count": 10,
   "metadata": {},
   "outputs": [
    {
     "output_type": "execute_result",
     "data": {
      "text/plain": [
       "array([13., 31., 25., 43., 19., 49., 61.])"
      ]
     },
     "metadata": {},
     "execution_count": 10
    }
   ],
   "source": [
    "df_json['sender'].dropna().unique()\n"
   ]
  },
  {
   "cell_type": "code",
   "execution_count": 15,
   "metadata": {
    "tags": []
   },
   "outputs": [],
   "source": [
    "df_json1 = pd.read_json(\"../database/json_file/0_3_1_01/JSONlog-1-13-A0.json\", lines = True)\n",
    "# type(df_json1['sender'].iloc[0])"
   ]
  },
  {
   "cell_type": "code",
   "execution_count": 8,
   "metadata": {},
   "outputs": [
    {
     "output_type": "execute_result",
     "data": {
      "text/plain": [
       "      Unnamed: 0  Unnamed: 0.1  type       rcvTime      sendTime  sender  \\\n",
       "0              4             4     3  10800.392893  10800.392785    13.0   \n",
       "1              6             6     3  10800.456258  10800.456150    31.0   \n",
       "2              8             8     3  10800.582131  10800.582020    25.0   \n",
       "3             10            10     3  10800.670748  10800.670638    43.0   \n",
       "4             13            13     3  10800.870128  10800.870012    19.0   \n",
       "...          ...           ...   ...           ...           ...     ...   \n",
       "3944       13551           326     3  10835.859507  10835.859394    73.0   \n",
       "3945       13557           332     3  10836.332493  10836.332383    67.0   \n",
       "3946       13566           341     3  10837.170484  10837.170375    91.0   \n",
       "3947       13570           345     3  10837.426294  10837.426181    85.0   \n",
       "3948       13581           356     3  10838.446289  10838.446181   121.0   \n",
       "\n",
       "      messageID          RSSI        pos_0        pos_1  pos_2     spd_0  \\\n",
       "0          38.0  1.115287e-07  3597.152086  5542.199221  1.895 -3.178366   \n",
       "1         104.0  3.218740e-09  3596.805861  5692.113417  1.895  1.282467   \n",
       "2         137.0  2.900248e-09  3597.770493  5764.800893  1.895 -0.020161   \n",
       "3         172.0  1.746131e-08  3822.892006  5266.806009  1.895  1.305362   \n",
       "4         193.0  3.710398e-07  3617.100034  5417.782781  1.895  4.937950   \n",
       "...         ...           ...          ...          ...    ...       ...   \n",
       "3944     5897.0  1.662672e-09  3588.582083  5729.781441  1.895 -1.253917   \n",
       "3945     6005.0  2.903969e-09  3587.707653  5783.289634  1.895 -0.029015   \n",
       "3946     6273.0  2.016282e-09  3594.499944  5815.299487  1.895 -0.022365   \n",
       "3947     6404.0  1.837620e-09  3597.812685  5837.144285  1.895 -0.017245   \n",
       "3948     6854.0  8.654842e-08  3642.286258  5202.335625  1.895 -5.447757   \n",
       "\n",
       "          spd_1  spd_2  type_attack  \n",
       "0     38.798969    0.0            1  \n",
       "1    -29.864003    0.0            1  \n",
       "2    -34.568848    0.0            1  \n",
       "3     -0.988730    0.0            1  \n",
       "4    -39.877578    0.0            1  \n",
       "...         ...    ...          ...  \n",
       "3944  30.032303    0.0            1  \n",
       "3945  29.905369    0.0            1  \n",
       "3946 -38.386038    0.0            1  \n",
       "3947 -29.568388    0.0            1  \n",
       "3948  34.923355    0.0            1  \n",
       "\n",
       "[3949 rows x 15 columns]"
      ],
      "text/html": "<div>\n<style scoped>\n    .dataframe tbody tr th:only-of-type {\n        vertical-align: middle;\n    }\n\n    .dataframe tbody tr th {\n        vertical-align: top;\n    }\n\n    .dataframe thead th {\n        text-align: right;\n    }\n</style>\n<table border=\"1\" class=\"dataframe\">\n  <thead>\n    <tr style=\"text-align: right;\">\n      <th></th>\n      <th>Unnamed: 0</th>\n      <th>Unnamed: 0.1</th>\n      <th>type</th>\n      <th>rcvTime</th>\n      <th>sendTime</th>\n      <th>sender</th>\n      <th>messageID</th>\n      <th>RSSI</th>\n      <th>pos_0</th>\n      <th>pos_1</th>\n      <th>pos_2</th>\n      <th>spd_0</th>\n      <th>spd_1</th>\n      <th>spd_2</th>\n      <th>type_attack</th>\n    </tr>\n  </thead>\n  <tbody>\n    <tr>\n      <th>0</th>\n      <td>4</td>\n      <td>4</td>\n      <td>3</td>\n      <td>10800.392893</td>\n      <td>10800.392785</td>\n      <td>13.0</td>\n      <td>38.0</td>\n      <td>1.115287e-07</td>\n      <td>3597.152086</td>\n      <td>5542.199221</td>\n      <td>1.895</td>\n      <td>-3.178366</td>\n      <td>38.798969</td>\n      <td>0.0</td>\n      <td>1</td>\n    </tr>\n    <tr>\n      <th>1</th>\n      <td>6</td>\n      <td>6</td>\n      <td>3</td>\n      <td>10800.456258</td>\n      <td>10800.456150</td>\n      <td>31.0</td>\n      <td>104.0</td>\n      <td>3.218740e-09</td>\n      <td>3596.805861</td>\n      <td>5692.113417</td>\n      <td>1.895</td>\n      <td>1.282467</td>\n      <td>-29.864003</td>\n      <td>0.0</td>\n      <td>1</td>\n    </tr>\n    <tr>\n      <th>2</th>\n      <td>8</td>\n      <td>8</td>\n      <td>3</td>\n      <td>10800.582131</td>\n      <td>10800.582020</td>\n      <td>25.0</td>\n      <td>137.0</td>\n      <td>2.900248e-09</td>\n      <td>3597.770493</td>\n      <td>5764.800893</td>\n      <td>1.895</td>\n      <td>-0.020161</td>\n      <td>-34.568848</td>\n      <td>0.0</td>\n      <td>1</td>\n    </tr>\n    <tr>\n      <th>3</th>\n      <td>10</td>\n      <td>10</td>\n      <td>3</td>\n      <td>10800.670748</td>\n      <td>10800.670638</td>\n      <td>43.0</td>\n      <td>172.0</td>\n      <td>1.746131e-08</td>\n      <td>3822.892006</td>\n      <td>5266.806009</td>\n      <td>1.895</td>\n      <td>1.305362</td>\n      <td>-0.988730</td>\n      <td>0.0</td>\n      <td>1</td>\n    </tr>\n    <tr>\n      <th>4</th>\n      <td>13</td>\n      <td>13</td>\n      <td>3</td>\n      <td>10800.870128</td>\n      <td>10800.870012</td>\n      <td>19.0</td>\n      <td>193.0</td>\n      <td>3.710398e-07</td>\n      <td>3617.100034</td>\n      <td>5417.782781</td>\n      <td>1.895</td>\n      <td>4.937950</td>\n      <td>-39.877578</td>\n      <td>0.0</td>\n      <td>1</td>\n    </tr>\n    <tr>\n      <th>...</th>\n      <td>...</td>\n      <td>...</td>\n      <td>...</td>\n      <td>...</td>\n      <td>...</td>\n      <td>...</td>\n      <td>...</td>\n      <td>...</td>\n      <td>...</td>\n      <td>...</td>\n      <td>...</td>\n      <td>...</td>\n      <td>...</td>\n      <td>...</td>\n      <td>...</td>\n    </tr>\n    <tr>\n      <th>3944</th>\n      <td>13551</td>\n      <td>326</td>\n      <td>3</td>\n      <td>10835.859507</td>\n      <td>10835.859394</td>\n      <td>73.0</td>\n      <td>5897.0</td>\n      <td>1.662672e-09</td>\n      <td>3588.582083</td>\n      <td>5729.781441</td>\n      <td>1.895</td>\n      <td>-1.253917</td>\n      <td>30.032303</td>\n      <td>0.0</td>\n      <td>1</td>\n    </tr>\n    <tr>\n      <th>3945</th>\n      <td>13557</td>\n      <td>332</td>\n      <td>3</td>\n      <td>10836.332493</td>\n      <td>10836.332383</td>\n      <td>67.0</td>\n      <td>6005.0</td>\n      <td>2.903969e-09</td>\n      <td>3587.707653</td>\n      <td>5783.289634</td>\n      <td>1.895</td>\n      <td>-0.029015</td>\n      <td>29.905369</td>\n      <td>0.0</td>\n      <td>1</td>\n    </tr>\n    <tr>\n      <th>3946</th>\n      <td>13566</td>\n      <td>341</td>\n      <td>3</td>\n      <td>10837.170484</td>\n      <td>10837.170375</td>\n      <td>91.0</td>\n      <td>6273.0</td>\n      <td>2.016282e-09</td>\n      <td>3594.499944</td>\n      <td>5815.299487</td>\n      <td>1.895</td>\n      <td>-0.022365</td>\n      <td>-38.386038</td>\n      <td>0.0</td>\n      <td>1</td>\n    </tr>\n    <tr>\n      <th>3947</th>\n      <td>13570</td>\n      <td>345</td>\n      <td>3</td>\n      <td>10837.426294</td>\n      <td>10837.426181</td>\n      <td>85.0</td>\n      <td>6404.0</td>\n      <td>1.837620e-09</td>\n      <td>3597.812685</td>\n      <td>5837.144285</td>\n      <td>1.895</td>\n      <td>-0.017245</td>\n      <td>-29.568388</td>\n      <td>0.0</td>\n      <td>1</td>\n    </tr>\n    <tr>\n      <th>3948</th>\n      <td>13581</td>\n      <td>356</td>\n      <td>3</td>\n      <td>10838.446289</td>\n      <td>10838.446181</td>\n      <td>121.0</td>\n      <td>6854.0</td>\n      <td>8.654842e-08</td>\n      <td>3642.286258</td>\n      <td>5202.335625</td>\n      <td>1.895</td>\n      <td>-5.447757</td>\n      <td>34.923355</td>\n      <td>0.0</td>\n      <td>1</td>\n    </tr>\n  </tbody>\n</table>\n<p>3949 rows × 15 columns</p>\n</div>"
     },
     "metadata": {},
     "execution_count": 8
    }
   ],
   "source": [
    "df_without_noise = df.drop([\"spd_noise_0\", \"spd_noise_1\",\"spd_noise_2\"], axis = 1)\n",
    "df_without_noise"
   ]
  },
  {
   "cell_type": "code",
   "execution_count": null,
   "metadata": {},
   "outputs": [],
   "source": []
  }
 ]
}