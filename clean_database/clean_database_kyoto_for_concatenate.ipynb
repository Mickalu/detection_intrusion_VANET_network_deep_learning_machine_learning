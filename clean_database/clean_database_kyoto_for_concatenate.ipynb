{
 "metadata": {
  "language_info": {
   "codemirror_mode": {
    "name": "ipython",
    "version": 3
   },
   "file_extension": ".py",
   "mimetype": "text/x-python",
   "name": "python",
   "nbconvert_exporter": "python",
   "pygments_lexer": "ipython3",
   "version": "3.7.6-final"
  },
  "orig_nbformat": 2,
  "kernelspec": {
   "name": "python3",
   "display_name": "Python 3",
   "language": "python"
  }
 },
 "nbformat": 4,
 "nbformat_minor": 2,
 "cells": [
  {
   "cell_type": "code",
   "execution_count": 21,
   "metadata": {},
   "outputs": [
    {
     "output_type": "execute_result",
     "data": {
      "text/plain": [
       "(470746, 24)"
      ]
     },
     "metadata": {},
     "execution_count": 21
    }
   ],
   "source": [
    "import pandas as pd\n",
    "import numpy as np\n",
    "from os import listdir\n",
    "from os.path import isfile, join\n",
    "\n",
    "\n",
    "\n",
    "PATH_DIR_DATA = \"D:/School/cours_5eme/projet/database/Kyoto2016/2015/01/csv_file/\"\n",
    "\n",
    "df_clean = pd.read_csv(PATH_DIR_DATA + \"clean_20150120.csv\", sep = \"\\t\")\n",
    "np.shape(df_clean)"
   ]
  },
  {
   "cell_type": "code",
   "execution_count": null,
   "metadata": {},
   "outputs": [],
   "source": [
    "import pandas as pd\n",
    "import numpy as np\n",
    "from os import listdir\n",
    "from os.path import isfile, join\n",
    "from sklearn.preprocessing import LabelEncoder\n",
    "\n",
    "#folder database place\n",
    "PATH_DIR_DATA = \"D:/School/cours_5eme/projet/database/Kyoto2016/2015/02/csv_file/\"\n",
    "\n",
    "liste_dataframe = []\n",
    "\n",
    "# liste des fichiers dans le dossiers des databases kyoto\n",
    "data_folder_csv = [f for f in listdir(PATH_DIR_DATA) if isfile(join(PATH_DIR_DATA, f))]\n",
    "\n",
    "#boucle pour transformer tous les fichiers\n",
    "for file in data_folder_csv:\n",
    "    df_clean = pd.read_csv(PATH_DIR_DATA + file, sep = \"\\t\")\n",
    "    \n",
    "    columns_name = ['duration_connection','service','source_bytes','destination_bytes','count','same_srv_rate','serror_rate','srv_serror_rate','dst_host_count','dst_host_srv_count','dst_host_same_src_port_rate','dst_host_serror_rate','dst_host_srv_serror_rate','flag','IDS_detection','malware_detection','ashula_detection','label','source_IP_address','source_port_number','destination_IP_address','destination_port_number','start_time','duration']\n",
    "    list_encode_columns = [\"service\", \"flag\", \"malware_detection\", \"ashula_detection\", \"duration\", \"IDS_detection\"]\n",
    "    list_str_columns = ['source_IP_address', 'destination_IP_address']\n",
    "    \n",
    "    \n",
    "    list_str_encod = ['malware_detection','ashula_detection','duration','IDS_detection']\n",
    "\n",
    "    df_clean.columns = columns_name\n",
    "    \n",
    "    df_clean = df_clean.drop(['start_time'], axis = 1)\n",
    "    \n",
    "    #on s'assure que les colonnes qui doivent être en string le sont bien\n",
    "    for string_col in list_str_encod:\n",
    "        df_clean[string_col] = df_clean[string_col].astype(str)\n",
    "    \n",
    "    #on encode les colonnes qui en ont besoin\n",
    "    le = LabelEncoder()\n",
    "    \n",
    "    for col in list_encode_columns:\n",
    "        df_clean[col] = le.fit_transform(df_clean[col])\n",
    "    \n",
    "    #encodage des adresses IP\n",
    "    for column in list_str_columns:\n",
    "        df_clean[column] = df_clean[column].astype('category')\n",
    "        df_clean[column] = df_clean[column].cat.codes\n",
    "        \n",
    "    liste_dataframe.append(df_clean)\n",
    "    print(file) \n",
    "            \n",
    "\n",
    "print(\"out\")\n",
    "\n",
    "#concatenation et sauvegarde de la nouvelle database\n",
    "result = pd.concat(liste_dataframe)"
   ]
  },
  {
   "cell_type": "code",
   "execution_count": 23,
   "metadata": {},
   "outputs": [],
   "source": [
    "columns_name = ['duration_connection','service','source_bytes','destination_bytes','count','same_srv_rate','serror_rate','srv_serror_rate','dst_host_count','dst_host_srv_count','dst_host_same_src_port_rate','dst_host_serror_rate','dst_host_srv_serror_rate','flag','IDS_detection','malware_detection','ashula_detection','label','source_IP_address','source_port_number','destination_IP_address','destination_port_number','start_time','duration']\n",
    "\n",
    "list_encode_columns = [\"service\", \"flag\", \"malware_detection\", \"ashula_detection\", \"duration\", \"IDS_detection\"]\n",
    "list_str_columns = ['source_IP_address', 'destination_IP_address']\n",
    "\n",
    "df_clean.columns = columns_name\n",
    "\n",
    "df_clean = df_clean.drop(['start_time'], axis = 1)"
   ]
  },
  {
   "cell_type": "code",
   "execution_count": 29,
   "metadata": {},
   "outputs": [
    {
     "output_type": "stream",
     "name": "stdout",
     "text": [
      "service  :  int64 \t\nservice  :  [ 3  9  1  6  2  8  7 10  0  5  4] \t\nflag  :  int64 \t\nflag  :  [ 6 10  1  3  5  2  0 12  4  7  8  9 11] \t\nmalware_detection  :  object \t\nmalware_detection  :  ['0' 'Win.Worm.Downadup-87(1)' 'Win.Worm.Kido-249(1)'\n 'Win.Worm.Kido-160(1)' 'Win.Worm.Downadup-79(1)' 'Win.Worm.Kido-229(1)'\n 'Win.Worm.Kido-185(1)' 'Win.Dropper.Agent-35454(1)'\n 'Win.Worm.Kido-327(1)' 'Win.Worm.Downadup-5(1)' 'Win.Worm.Kido-197(1)'\n 'Win.Worm.Kido-135(1)' 'Win.Trojan.Agent-128973(1)'\n 'Win.Worm.Kido-360(1)' 'Win.Worm.Kido-183(1)' 'Win.Worm.Kido-253(1)'\n 'Win.Worm.Agent-35431(1)' 'Win.Worm.Kido-241(1)' 'Win.Worm.Kido-238(1)'\n 'Win.Worm.Kido-89(1)' 'Win.Worm.Kido-157(1)' 'Win.Worm.Kido-200(1)'\n 'Win.Worm.Kido-299(1)' 'Win.Worm.Kido-295(1)' 'Win.Worm.Kido-29(1)'\n 'Win.Worm.Kido-113(1)' 'Win.Worm.Kido-270(1)' 'Win.Worm.Kido-297(1)'\n 'Win.Worm.Kido-355(1)' 'Win.Worm.Kido-210(1)' 'Win.Worm.Kido-14(1)'\n 'Win.Exploit.Fnstenv_mov-1(1)' 'Win.Worm.Kido-136(1)'\n 'Win.Worm.Kido-213(1)' 'Win.Worm.Kido-243(1)' 'Win.Worm.Kido-263(1)'\n 'Win.Worm.Kido-214(1)' 'Win.Worm.Kido-149(1)' 'Win.Worm.Downadup-109(1)'\n 'Win.Worm.Downadup-4(1)' 'Win.Worm.Kido-190(1)' 'Win.Worm.Mydoom-90(1)'\n 'Win.Worm.Kido-430(1)' 'Win.Worm.Conficker-178(1)' 'Win.Worm.Kido-110(1)'\n 'Win.Worm.Kido-22(1)' 'Win.Worm.Kido-242(1)' 'Win.Worm.Downadup-115(1)'\n 'Win.Worm.Kido-35(1)' 0] \t\nashula_detection  :  object \t\nashula_detection  :  ['0' '349(1)' '129(4)' '130(1),131(2)' '349(7)' '349(4)' '350(1)' '809(1)'\n '1043(1)' 0] \t\nduration  :  object \t\nduration  :  ['tcp' 'udp' 'icmp'] \t\nIDS_detection  :  object \t\nIDS_detection  :  ['0' '6-128-1(1)' '1325-1-10(1)' '19559-1-5(1)' '19187-3-5(1)'\n '2049-1-8(1)' '22114-1-5(1)' '19559-1-5(1),6-128-1(1)' '1917-1-11(1)'\n '3-133-1(1),14782-1-17(1),7209-1-16(1)' '14782-1-17(1),7209-1-16(1)'\n '254-1-15(1)' '384-1-8(1)' '6-128-1(2)' '402-1-11(1)'\n '1394-1-15(1),7209-1-16(1),34-133-1(1)' '648-1-14(1)' '2508-1-20(1)'\n '2382-1-24(1),1390-1-11(1)' '22114-1-5(1),4-138-1(1)' '402-1-11(2)'\n '648-1-14(1),3967-1-11(1)' '3397-1-17(1)' '4-128-1(1)' '449-1-9(1)'\n '382-1-11(1),384-1-8(1)' '21355-3-4(1)' '3-133-1(1)'\n '19559-1-5(1),1325-1-10(1)' '6-128-1(3)' '402-1-11(3)' '404-1-10(1)'\n '19559-1-5(1),1325-1-10(1),4-128-1(1)' '402-1-11(4)'\n '1448-1-19(1),2418-1-10(1)' '402-1-11(5)'\n '23-140-1(1),18-140-1(1),19364-1-3(1)'\n '14782-1-17(1),7209-1-16(1),3-133-1(1)' '402-1-11(6)' '402-1-11(7)'\n '6-128-1(1),4-128-1(1)' '402-1-11(8)' '399-1-9(1)'\n '4-128-1(1),1325-1-10(1)' '1325-1-10(1),6-128-1(1)' '4-138-1(1)'\n '1325-1-10(1),4-128-1(1)' '1325-1-10(1),6-128-1(2)'\n '1325-1-10(1),19559-1-5(1)' '1325-1-10(1),6-128-1(1),19559-1-5(1)'\n '19559-1-5(1),1325-1-10(1),6-128-1(1)' '13719-1-5(1)'\n '6-128-1(1),1325-1-10(1)' '19559-1-5(1),6-128-1(2)' '13249-1-8(1)'\n '404-1-10(2)' '483-1-10(1),384-1-8(1)'\n '373-1-10(1),368-1-10(1),366-1-10(1)'\n '19559-1-5(1),6-128-1(1),1325-1-10(1)' '21669-1-5(1)'\n '6-128-1(2),1325-1-10(1)' '17110-1-3(1)'\n '3-133-1(1),17322-1-3(1),14782-1-17(1),7209-1-16(1)' '396-1-10(1)'\n '1411-1-19(1),1417-1-17(1)' '22113-1-5(1),22114-1-5(1),4-138-1(1)'\n '22113-1-5(1),22114-1-5(1)' '22113-1-5(1),4-138-1(1)'\n '385-1-8(1),384-1-8(1)' '23725-1-2(1)' '1394-1-15(1),23725-1-2(1)'\n '1421-1-18(1)' '6584-1-15(1),35-133-1(1)' '22113-1-5(1)' '1448-1-19(1)'\n '18-140-1(1)' '1325-1-10(1),6-128-1(2),4-128-1(1)'\n '384-1-8(1),381-1-11(1)' '1325-1-10(1),17317-1-7(1)'\n '6-128-1(1),19559-1-5(1)' '17322-1-3(1),14782-1-17(1),7209-1-16(1)'\n '19559-1-5(1),4-128-1(1)' '6-128-1(1),19559-1-5(1),1325-1-10(1)'\n '6-128-1(2),19559-1-5(1)' '6-128-1(3),19559-1-5(1)' '15912-3-7(1)'] \t\n"
     ]
    }
   ],
   "source": [
    "\n",
    "for col in list_encode_columns:\n",
    "    print(col, \" : \",df_clean[col].dtype, \"\\t\")\n",
    "    print(col, \" : \",df_clean[col].unique(), \"\\t\")"
   ]
  },
  {
   "cell_type": "code",
   "execution_count": 30,
   "metadata": {},
   "outputs": [],
   "source": [
    "liste_error = ['malware_detection','ashula_detection','duration','IDS_detection']\n",
    "for string_col in liste_error:\n",
    "    df_clean[string_col] = df_clean[string_col].astype(str)"
   ]
  },
  {
   "cell_type": "code",
   "execution_count": 31,
   "metadata": {},
   "outputs": [],
   "source": [
    "from sklearn.preprocessing import LabelEncoder\n",
    "le = LabelEncoder()\n",
    "\n",
    "\n",
    "for col in list_encode_columns:\n",
    "    df_clean[col] = le.fit_transform(df_clean[col])\n",
    "\n",
    "for column in list_str_columns:\n",
    "    df_clean[column] = df_clean[column].astype('category')\n",
    "    df_clean[column] = df_clean[column].cat.codes\n",
    "    df_clean[column]"
   ]
  },
  {
   "cell_type": "code",
   "execution_count": null,
   "metadata": {},
   "outputs": [],
   "source": []
  }
 ]
}